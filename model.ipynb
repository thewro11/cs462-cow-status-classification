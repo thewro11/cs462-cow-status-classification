{
 "cells": [
  {
   "cell_type": "markdown",
   "metadata": {},
   "source": [
    "# Import & Set Variables"
   ]
  },
  {
   "cell_type": "code",
   "execution_count": 1,
   "metadata": {},
   "outputs": [],
   "source": [
    "import pandas as pd\n",
    "import numpy as np\n",
    "import re\n",
    "\n",
    "from sklearn.model_selection import train_test_split\n",
    "from sklearn.metrics import ConfusionMatrixDisplay, confusion_matrix, classification_report\n",
    "\n",
    "from keras.utils import to_categorical\n",
    "\n",
    "\n",
    "from keras.models import Sequential\n",
    "from keras.layers import Dense, Dropout\n",
    "\n",
    "import keras\n",
    "\n",
    "from sklearn.metrics import precision_score, accuracy_score, f1_score, recall_score\n",
    "\n",
    "from sklearn.neighbors import KNeighborsClassifier\n",
    "from sklearn.tree import DecisionTreeClassifier\n",
    "from sklearn.ensemble import RandomForestClassifier, AdaBoostClassifier, BaggingClassifier\n",
    "from sklearn.svm import SVC\n",
    "\n",
    "import matplotlib.pyplot as plt\n",
    "\n",
    "%matplotlib inline\n",
    "\n",
    "# dataset file name\n",
    "fname = \"cow.csv\"\n",
    "\n",
    "# normal values\n",
    "NORMAL_TEMPERATURE = 37.8\n",
    "NORMAL_PULSE = (30, 40)\n",
    "NORMAL_RESPIRATORY_RATE = (8, 10)\n",
    "NORMAL_NASOGASTRIC_REFLUX_PH = (3, 4)\n",
    "NORMAL_PACKED_CELL_VOLUME = (30, 50)\n",
    "NORMAL_TOTAL_PROTEIN = (6, 7.5)\n",
    "NORMAL_ABDOMO_APPEARANCE = \"clear\""
   ]
  },
  {
   "cell_type": "markdown",
   "metadata": {},
   "source": [
    "---"
   ]
  },
  {
   "cell_type": "markdown",
   "metadata": {},
   "source": [
    "# Load Data"
   ]
  },
  {
   "cell_type": "code",
   "execution_count": 2,
   "metadata": {
    "scrolled": true
   },
   "outputs": [
    {
     "data": {
      "text/plain": [
       "Index(['surgery', 'age', 'hospital_number', 'temperature', 'pulse',\n",
       "       'respiratory_rate', 'temp_of_extremities', 'peripheral_pulse',\n",
       "       'mucous_membrane', 'capillary_refill_time', 'pain', 'peristalsis',\n",
       "       'abdominal_distention', 'nasogastric_tube', 'nasogastric_reflux',\n",
       "       'nasogastric_reflux_ph', 'rectal_exam_feces', 'abdomen',\n",
       "       'packed_cell_volume', 'total_protein', 'abdomo_appearance',\n",
       "       'abdomo_protein', 'outcome Class', 'surgical_lesion', 'lesion'],\n",
       "      dtype='object')"
      ]
     },
     "execution_count": 2,
     "metadata": {},
     "output_type": "execute_result"
    }
   ],
   "source": [
    "df_cow = pd.read_csv(fname)\n",
    "df_cow.columns"
   ]
  },
  {
   "cell_type": "code",
   "execution_count": 3,
   "metadata": {},
   "outputs": [
    {
     "data": {
      "text/html": [
       "<div>\n",
       "<style scoped>\n",
       "    .dataframe tbody tr th:only-of-type {\n",
       "        vertical-align: middle;\n",
       "    }\n",
       "\n",
       "    .dataframe tbody tr th {\n",
       "        vertical-align: top;\n",
       "    }\n",
       "\n",
       "    .dataframe thead th {\n",
       "        text-align: right;\n",
       "    }\n",
       "</style>\n",
       "<table border=\"1\" class=\"dataframe\">\n",
       "  <thead>\n",
       "    <tr style=\"text-align: right;\">\n",
       "      <th></th>\n",
       "      <th>surgery</th>\n",
       "      <th>age</th>\n",
       "      <th>hospital_number</th>\n",
       "      <th>temperature</th>\n",
       "      <th>pulse</th>\n",
       "      <th>respiratory_rate</th>\n",
       "      <th>temp_of_extremities</th>\n",
       "      <th>peripheral_pulse</th>\n",
       "      <th>mucous_membrane</th>\n",
       "      <th>capillary_refill_time</th>\n",
       "      <th>...</th>\n",
       "      <th>nasogastric_reflux_ph</th>\n",
       "      <th>rectal_exam_feces</th>\n",
       "      <th>abdomen</th>\n",
       "      <th>packed_cell_volume</th>\n",
       "      <th>total_protein</th>\n",
       "      <th>abdomo_appearance</th>\n",
       "      <th>abdomo_protein</th>\n",
       "      <th>outcome Class</th>\n",
       "      <th>surgical_lesion</th>\n",
       "      <th>lesion</th>\n",
       "    </tr>\n",
       "  </thead>\n",
       "  <tbody>\n",
       "    <tr>\n",
       "      <th>0</th>\n",
       "      <td>no</td>\n",
       "      <td>adult</td>\n",
       "      <td>530101</td>\n",
       "      <td>38.5</td>\n",
       "      <td>66.0</td>\n",
       "      <td>28.0</td>\n",
       "      <td>cool</td>\n",
       "      <td>reduced</td>\n",
       "      <td>NaN</td>\n",
       "      <td>more_3_sec</td>\n",
       "      <td>...</td>\n",
       "      <td>NaN</td>\n",
       "      <td>decreased</td>\n",
       "      <td>distend_large</td>\n",
       "      <td>45.0</td>\n",
       "      <td>8.4</td>\n",
       "      <td>NaN</td>\n",
       "      <td>NaN</td>\n",
       "      <td>died</td>\n",
       "      <td>no</td>\n",
       "      <td>11300</td>\n",
       "    </tr>\n",
       "    <tr>\n",
       "      <th>1</th>\n",
       "      <td>yes</td>\n",
       "      <td>adult</td>\n",
       "      <td>534817</td>\n",
       "      <td>39.2</td>\n",
       "      <td>88.0</td>\n",
       "      <td>20.0</td>\n",
       "      <td>NaN</td>\n",
       "      <td>NaN</td>\n",
       "      <td>pale_cyanotic</td>\n",
       "      <td>less_3_sec</td>\n",
       "      <td>...</td>\n",
       "      <td>NaN</td>\n",
       "      <td>absent</td>\n",
       "      <td>other</td>\n",
       "      <td>50.0</td>\n",
       "      <td>85.0</td>\n",
       "      <td>cloudy</td>\n",
       "      <td>2.0</td>\n",
       "      <td>euthanized</td>\n",
       "      <td>no</td>\n",
       "      <td>2208</td>\n",
       "    </tr>\n",
       "    <tr>\n",
       "      <th>2</th>\n",
       "      <td>no</td>\n",
       "      <td>adult</td>\n",
       "      <td>530334</td>\n",
       "      <td>38.3</td>\n",
       "      <td>40.0</td>\n",
       "      <td>24.0</td>\n",
       "      <td>normal</td>\n",
       "      <td>normal</td>\n",
       "      <td>pale_pink</td>\n",
       "      <td>less_3_sec</td>\n",
       "      <td>...</td>\n",
       "      <td>NaN</td>\n",
       "      <td>normal</td>\n",
       "      <td>normal</td>\n",
       "      <td>33.0</td>\n",
       "      <td>6.7</td>\n",
       "      <td>NaN</td>\n",
       "      <td>NaN</td>\n",
       "      <td>lived</td>\n",
       "      <td>no</td>\n",
       "      <td>0</td>\n",
       "    </tr>\n",
       "    <tr>\n",
       "      <th>3</th>\n",
       "      <td>yes</td>\n",
       "      <td>young</td>\n",
       "      <td>5290409</td>\n",
       "      <td>39.1</td>\n",
       "      <td>164.0</td>\n",
       "      <td>84.0</td>\n",
       "      <td>cold</td>\n",
       "      <td>normal</td>\n",
       "      <td>dark_cyanotic</td>\n",
       "      <td>more_3_sec</td>\n",
       "      <td>...</td>\n",
       "      <td>5.0</td>\n",
       "      <td>decreased</td>\n",
       "      <td>NaN</td>\n",
       "      <td>48.0</td>\n",
       "      <td>7.2</td>\n",
       "      <td>serosanguious</td>\n",
       "      <td>5.3</td>\n",
       "      <td>died</td>\n",
       "      <td>yes</td>\n",
       "      <td>2208</td>\n",
       "    </tr>\n",
       "    <tr>\n",
       "      <th>4</th>\n",
       "      <td>no</td>\n",
       "      <td>adult</td>\n",
       "      <td>530255</td>\n",
       "      <td>37.3</td>\n",
       "      <td>104.0</td>\n",
       "      <td>35.0</td>\n",
       "      <td>NaN</td>\n",
       "      <td>NaN</td>\n",
       "      <td>dark_cyanotic</td>\n",
       "      <td>more_3_sec</td>\n",
       "      <td>...</td>\n",
       "      <td>NaN</td>\n",
       "      <td>NaN</td>\n",
       "      <td>NaN</td>\n",
       "      <td>74.0</td>\n",
       "      <td>7.4</td>\n",
       "      <td>NaN</td>\n",
       "      <td>NaN</td>\n",
       "      <td>died</td>\n",
       "      <td>no</td>\n",
       "      <td>4300</td>\n",
       "    </tr>\n",
       "  </tbody>\n",
       "</table>\n",
       "<p>5 rows × 25 columns</p>\n",
       "</div>"
      ],
      "text/plain": [
       "  surgery    age  hospital_number  temperature  pulse  respiratory_rate  \\\n",
       "0      no  adult           530101         38.5   66.0              28.0   \n",
       "1     yes  adult           534817         39.2   88.0              20.0   \n",
       "2      no  adult           530334         38.3   40.0              24.0   \n",
       "3     yes  young          5290409         39.1  164.0              84.0   \n",
       "4      no  adult           530255         37.3  104.0              35.0   \n",
       "\n",
       "  temp_of_extremities peripheral_pulse mucous_membrane capillary_refill_time  \\\n",
       "0                cool          reduced             NaN            more_3_sec   \n",
       "1                 NaN              NaN   pale_cyanotic            less_3_sec   \n",
       "2              normal           normal       pale_pink            less_3_sec   \n",
       "3                cold           normal   dark_cyanotic            more_3_sec   \n",
       "4                 NaN              NaN   dark_cyanotic            more_3_sec   \n",
       "\n",
       "   ... nasogastric_reflux_ph rectal_exam_feces        abdomen  \\\n",
       "0  ...                   NaN         decreased  distend_large   \n",
       "1  ...                   NaN            absent          other   \n",
       "2  ...                   NaN            normal         normal   \n",
       "3  ...                   5.0         decreased            NaN   \n",
       "4  ...                   NaN               NaN            NaN   \n",
       "\n",
       "  packed_cell_volume total_protein  abdomo_appearance abdomo_protein  \\\n",
       "0               45.0           8.4                NaN            NaN   \n",
       "1               50.0          85.0             cloudy            2.0   \n",
       "2               33.0           6.7                NaN            NaN   \n",
       "3               48.0           7.2      serosanguious            5.3   \n",
       "4               74.0           7.4                NaN            NaN   \n",
       "\n",
       "  outcome Class  surgical_lesion  lesion  \n",
       "0          died               no   11300  \n",
       "1    euthanized               no    2208  \n",
       "2         lived               no       0  \n",
       "3          died              yes    2208  \n",
       "4          died               no    4300  \n",
       "\n",
       "[5 rows x 25 columns]"
      ]
     },
     "execution_count": 3,
     "metadata": {},
     "output_type": "execute_result"
    }
   ],
   "source": [
    "df_cow.head(5)"
   ]
  },
  {
   "cell_type": "markdown",
   "metadata": {},
   "source": [
    "---"
   ]
  },
  {
   "cell_type": "markdown",
   "metadata": {},
   "source": [
    "# Funtion"
   ]
  },
  {
   "cell_type": "markdown",
   "metadata": {},
   "source": [
    "## visualization"
   ]
  },
  {
   "cell_type": "code",
   "execution_count": 4,
   "metadata": {},
   "outputs": [],
   "source": [
    "def plot_loss_accuracy(history):\n",
    "    print_score(history)\n",
    "    \n",
    "    fig = plt.figure(figsize=(12, 6))\n",
    "    ax = fig.add_subplot(1, 2, 1)\n",
    "    ax.plot(history.history[\"loss\"],'r-x', label=\"Train Loss\")\n",
    "    ax.plot(history.history[\"val_loss\"],'b-x', label=\"Validation Loss\")\n",
    "    ax.legend()\n",
    "    ax.set_title('cross_entropy loss')\n",
    "    ax.grid(True)\n",
    "\n",
    "\n",
    "    ax = fig.add_subplot(1, 2, 2)\n",
    "    ax.plot(history.history[\"accuracy\"],'r-x', label=\"Train Accuracy\")\n",
    "    ax.plot(history.history[\"val_accuracy\"],'b-x', label=\"Validation Accuracy\")\n",
    "    ax.legend()\n",
    "    ax.set_title('accuracy')\n",
    "    ax.grid(True)\n",
    "\n",
    "def print_score(history):\n",
    "    print(\"lastes accuracy and loss\")\n",
    "    print(\"train_loss : {:.4f}, val_loss : {:.4f}\\ntrain_acc : {:.4f}, val_acc : {:.4f}\".format(history.history['loss'][-1],\n",
    "                                                                                               history.history['val_loss'][-1],\n",
    "                                                                                               history.history['accuracy'][-1],\n",
    "                                                                                               history.history['val_accuracy'][-1]))"
   ]
  },
  {
   "cell_type": "code",
   "execution_count": 5,
   "metadata": {},
   "outputs": [],
   "source": [
    "def create_confusion_matrix(model,x_val,y_val,label_names):\n",
    "    y_probs = model.predict(x_val)\n",
    "    if(y_probs[0].size > 1):\n",
    "        y_preds = y_probs.argmax(axis=1)\n",
    "    else:\n",
    "        y_preds = y_probs\n",
    "        \n",
    "    if(y_val[0].size > 1):\n",
    "        y_val = y_val.argmax(axis=1)\n",
    "    else:\n",
    "        y_val = y_val\n",
    "    \n",
    "    #Confusion matrix\n",
    "    cm= confusion_matrix(y_val,y_preds)\n",
    "\n",
    "    #Plot\n",
    "    disp=ConfusionMatrixDisplay(confusion_matrix=cm,display_labels=label_names)\n",
    "    fig, ax = plt.subplots(figsize=(10,10))\n",
    "    disp.plot(ax=ax,xticks_rotation=45)"
   ]
  },
  {
   "cell_type": "markdown",
   "metadata": {},
   "source": [
    "## preprocessing"
   ]
  },
  {
   "cell_type": "code",
   "execution_count": 6,
   "metadata": {},
   "outputs": [],
   "source": [
    "def extract_lesion_column(lesion):\n",
    "    site, type_l, subtype, code = 'None', 'None', 'None', 'None'\n",
    "    if lesion != 0:\n",
    "        types = re.findall('^([1-9]|11|00)([1-4])([0-2])([1-9]|10|0)',str(lesion))\n",
    "        if types:\n",
    "            site, type_l, subtype, code = types[0]\n",
    "    return pd.Series({'site': site, 'type': type_l, 'subtype': subtype, 'code': code}, dtype='category')\n"
   ]
  },
  {
   "cell_type": "markdown",
   "metadata": {},
   "source": [
    "# Preprocess Data"
   ]
  },
  {
   "cell_type": "code",
   "execution_count": 7,
   "metadata": {},
   "outputs": [],
   "source": [
    "n_name = [\"lived\",\"died\",\"euthanized\"]"
   ]
  },
  {
   "cell_type": "code",
   "execution_count": 8,
   "metadata": {},
   "outputs": [],
   "source": [
    "df_cow.loc[:, ['site', 'type', 'subtype', 'code']] = df_cow.lesion.apply(extract_lesion_column).astype('category')"
   ]
  },
  {
   "cell_type": "code",
   "execution_count": 9,
   "metadata": {
    "scrolled": true
   },
   "outputs": [
    {
     "data": {
      "text/html": [
       "<div>\n",
       "<style scoped>\n",
       "    .dataframe tbody tr th:only-of-type {\n",
       "        vertical-align: middle;\n",
       "    }\n",
       "\n",
       "    .dataframe tbody tr th {\n",
       "        vertical-align: top;\n",
       "    }\n",
       "\n",
       "    .dataframe thead th {\n",
       "        text-align: right;\n",
       "    }\n",
       "</style>\n",
       "<table border=\"1\" class=\"dataframe\">\n",
       "  <thead>\n",
       "    <tr style=\"text-align: right;\">\n",
       "      <th></th>\n",
       "      <th>surgery</th>\n",
       "      <th>age</th>\n",
       "      <th>hospital_number</th>\n",
       "      <th>temperature</th>\n",
       "      <th>pulse</th>\n",
       "      <th>respiratory_rate</th>\n",
       "      <th>temp_of_extremities</th>\n",
       "      <th>peripheral_pulse</th>\n",
       "      <th>mucous_membrane</th>\n",
       "      <th>capillary_refill_time</th>\n",
       "      <th>...</th>\n",
       "      <th>total_protein</th>\n",
       "      <th>abdomo_appearance</th>\n",
       "      <th>abdomo_protein</th>\n",
       "      <th>outcome Class</th>\n",
       "      <th>surgical_lesion</th>\n",
       "      <th>lesion</th>\n",
       "      <th>site</th>\n",
       "      <th>type</th>\n",
       "      <th>subtype</th>\n",
       "      <th>code</th>\n",
       "    </tr>\n",
       "  </thead>\n",
       "  <tbody>\n",
       "    <tr>\n",
       "      <th>0</th>\n",
       "      <td>no</td>\n",
       "      <td>adult</td>\n",
       "      <td>530101</td>\n",
       "      <td>38.5</td>\n",
       "      <td>66.0</td>\n",
       "      <td>28.0</td>\n",
       "      <td>cool</td>\n",
       "      <td>reduced</td>\n",
       "      <td>NaN</td>\n",
       "      <td>more_3_sec</td>\n",
       "      <td>...</td>\n",
       "      <td>8.4</td>\n",
       "      <td>NaN</td>\n",
       "      <td>NaN</td>\n",
       "      <td>died</td>\n",
       "      <td>no</td>\n",
       "      <td>11300</td>\n",
       "      <td>11</td>\n",
       "      <td>3</td>\n",
       "      <td>0</td>\n",
       "      <td>0</td>\n",
       "    </tr>\n",
       "    <tr>\n",
       "      <th>1</th>\n",
       "      <td>yes</td>\n",
       "      <td>adult</td>\n",
       "      <td>534817</td>\n",
       "      <td>39.2</td>\n",
       "      <td>88.0</td>\n",
       "      <td>20.0</td>\n",
       "      <td>NaN</td>\n",
       "      <td>NaN</td>\n",
       "      <td>pale_cyanotic</td>\n",
       "      <td>less_3_sec</td>\n",
       "      <td>...</td>\n",
       "      <td>85.0</td>\n",
       "      <td>cloudy</td>\n",
       "      <td>2.0</td>\n",
       "      <td>euthanized</td>\n",
       "      <td>no</td>\n",
       "      <td>2208</td>\n",
       "      <td>2</td>\n",
       "      <td>2</td>\n",
       "      <td>0</td>\n",
       "      <td>8</td>\n",
       "    </tr>\n",
       "    <tr>\n",
       "      <th>2</th>\n",
       "      <td>no</td>\n",
       "      <td>adult</td>\n",
       "      <td>530334</td>\n",
       "      <td>38.3</td>\n",
       "      <td>40.0</td>\n",
       "      <td>24.0</td>\n",
       "      <td>normal</td>\n",
       "      <td>normal</td>\n",
       "      <td>pale_pink</td>\n",
       "      <td>less_3_sec</td>\n",
       "      <td>...</td>\n",
       "      <td>6.7</td>\n",
       "      <td>NaN</td>\n",
       "      <td>NaN</td>\n",
       "      <td>lived</td>\n",
       "      <td>no</td>\n",
       "      <td>0</td>\n",
       "      <td>None</td>\n",
       "      <td>None</td>\n",
       "      <td>None</td>\n",
       "      <td>None</td>\n",
       "    </tr>\n",
       "    <tr>\n",
       "      <th>3</th>\n",
       "      <td>yes</td>\n",
       "      <td>young</td>\n",
       "      <td>5290409</td>\n",
       "      <td>39.1</td>\n",
       "      <td>164.0</td>\n",
       "      <td>84.0</td>\n",
       "      <td>cold</td>\n",
       "      <td>normal</td>\n",
       "      <td>dark_cyanotic</td>\n",
       "      <td>more_3_sec</td>\n",
       "      <td>...</td>\n",
       "      <td>7.2</td>\n",
       "      <td>serosanguious</td>\n",
       "      <td>5.3</td>\n",
       "      <td>died</td>\n",
       "      <td>yes</td>\n",
       "      <td>2208</td>\n",
       "      <td>2</td>\n",
       "      <td>2</td>\n",
       "      <td>0</td>\n",
       "      <td>8</td>\n",
       "    </tr>\n",
       "    <tr>\n",
       "      <th>4</th>\n",
       "      <td>no</td>\n",
       "      <td>adult</td>\n",
       "      <td>530255</td>\n",
       "      <td>37.3</td>\n",
       "      <td>104.0</td>\n",
       "      <td>35.0</td>\n",
       "      <td>NaN</td>\n",
       "      <td>NaN</td>\n",
       "      <td>dark_cyanotic</td>\n",
       "      <td>more_3_sec</td>\n",
       "      <td>...</td>\n",
       "      <td>7.4</td>\n",
       "      <td>NaN</td>\n",
       "      <td>NaN</td>\n",
       "      <td>died</td>\n",
       "      <td>no</td>\n",
       "      <td>4300</td>\n",
       "      <td>4</td>\n",
       "      <td>3</td>\n",
       "      <td>0</td>\n",
       "      <td>0</td>\n",
       "    </tr>\n",
       "  </tbody>\n",
       "</table>\n",
       "<p>5 rows × 29 columns</p>\n",
       "</div>"
      ],
      "text/plain": [
       "  surgery    age  hospital_number  temperature  pulse  respiratory_rate  \\\n",
       "0      no  adult           530101         38.5   66.0              28.0   \n",
       "1     yes  adult           534817         39.2   88.0              20.0   \n",
       "2      no  adult           530334         38.3   40.0              24.0   \n",
       "3     yes  young          5290409         39.1  164.0              84.0   \n",
       "4      no  adult           530255         37.3  104.0              35.0   \n",
       "\n",
       "  temp_of_extremities peripheral_pulse mucous_membrane capillary_refill_time  \\\n",
       "0                cool          reduced             NaN            more_3_sec   \n",
       "1                 NaN              NaN   pale_cyanotic            less_3_sec   \n",
       "2              normal           normal       pale_pink            less_3_sec   \n",
       "3                cold           normal   dark_cyanotic            more_3_sec   \n",
       "4                 NaN              NaN   dark_cyanotic            more_3_sec   \n",
       "\n",
       "   ... total_protein abdomo_appearance abdomo_protein outcome Class  \\\n",
       "0  ...           8.4               NaN            NaN          died   \n",
       "1  ...          85.0            cloudy            2.0    euthanized   \n",
       "2  ...           6.7               NaN            NaN         lived   \n",
       "3  ...           7.2     serosanguious            5.3          died   \n",
       "4  ...           7.4               NaN            NaN          died   \n",
       "\n",
       "  surgical_lesion  lesion  site  type  subtype  code  \n",
       "0              no   11300    11     3        0     0  \n",
       "1              no    2208     2     2        0     8  \n",
       "2              no       0  None  None     None  None  \n",
       "3             yes    2208     2     2        0     8  \n",
       "4              no    4300     4     3        0     0  \n",
       "\n",
       "[5 rows x 29 columns]"
      ]
     },
     "execution_count": 9,
     "metadata": {},
     "output_type": "execute_result"
    }
   ],
   "source": [
    "df_cow.head()"
   ]
  },
  {
   "cell_type": "code",
   "execution_count": 10,
   "metadata": {
    "scrolled": false
   },
   "outputs": [
    {
     "data": {
      "text/html": [
       "<div>\n",
       "<style scoped>\n",
       "    .dataframe tbody tr th:only-of-type {\n",
       "        vertical-align: middle;\n",
       "    }\n",
       "\n",
       "    .dataframe tbody tr th {\n",
       "        vertical-align: top;\n",
       "    }\n",
       "\n",
       "    .dataframe thead th {\n",
       "        text-align: right;\n",
       "    }\n",
       "</style>\n",
       "<table border=\"1\" class=\"dataframe\">\n",
       "  <thead>\n",
       "    <tr style=\"text-align: right;\">\n",
       "      <th></th>\n",
       "      <th>surgery</th>\n",
       "      <th>age</th>\n",
       "      <th>temperature</th>\n",
       "      <th>pulse</th>\n",
       "      <th>respiratory_rate</th>\n",
       "      <th>temp_of_extremities</th>\n",
       "      <th>peripheral_pulse</th>\n",
       "      <th>mucous_membrane</th>\n",
       "      <th>capillary_refill_time</th>\n",
       "      <th>pain</th>\n",
       "      <th>...</th>\n",
       "      <th>abdomen</th>\n",
       "      <th>packed_cell_volume</th>\n",
       "      <th>total_protein</th>\n",
       "      <th>abdomo_appearance</th>\n",
       "      <th>abdomo_protein</th>\n",
       "      <th>surgical_lesion</th>\n",
       "      <th>site</th>\n",
       "      <th>type</th>\n",
       "      <th>subtype</th>\n",
       "      <th>code</th>\n",
       "    </tr>\n",
       "  </thead>\n",
       "  <tbody>\n",
       "    <tr>\n",
       "      <th>0</th>\n",
       "      <td>no</td>\n",
       "      <td>adult</td>\n",
       "      <td>38.5</td>\n",
       "      <td>66.0</td>\n",
       "      <td>28.0</td>\n",
       "      <td>cool</td>\n",
       "      <td>reduced</td>\n",
       "      <td>NaN</td>\n",
       "      <td>more_3_sec</td>\n",
       "      <td>extreme_pain</td>\n",
       "      <td>...</td>\n",
       "      <td>distend_large</td>\n",
       "      <td>45.0</td>\n",
       "      <td>8.4</td>\n",
       "      <td>NaN</td>\n",
       "      <td>NaN</td>\n",
       "      <td>no</td>\n",
       "      <td>11</td>\n",
       "      <td>3</td>\n",
       "      <td>0</td>\n",
       "      <td>0</td>\n",
       "    </tr>\n",
       "    <tr>\n",
       "      <th>1</th>\n",
       "      <td>yes</td>\n",
       "      <td>adult</td>\n",
       "      <td>39.2</td>\n",
       "      <td>88.0</td>\n",
       "      <td>20.0</td>\n",
       "      <td>NaN</td>\n",
       "      <td>NaN</td>\n",
       "      <td>pale_cyanotic</td>\n",
       "      <td>less_3_sec</td>\n",
       "      <td>mild_pain</td>\n",
       "      <td>...</td>\n",
       "      <td>other</td>\n",
       "      <td>50.0</td>\n",
       "      <td>85.0</td>\n",
       "      <td>cloudy</td>\n",
       "      <td>2.0</td>\n",
       "      <td>no</td>\n",
       "      <td>2</td>\n",
       "      <td>2</td>\n",
       "      <td>0</td>\n",
       "      <td>8</td>\n",
       "    </tr>\n",
       "    <tr>\n",
       "      <th>2</th>\n",
       "      <td>no</td>\n",
       "      <td>adult</td>\n",
       "      <td>38.3</td>\n",
       "      <td>40.0</td>\n",
       "      <td>24.0</td>\n",
       "      <td>normal</td>\n",
       "      <td>normal</td>\n",
       "      <td>pale_pink</td>\n",
       "      <td>less_3_sec</td>\n",
       "      <td>mild_pain</td>\n",
       "      <td>...</td>\n",
       "      <td>normal</td>\n",
       "      <td>33.0</td>\n",
       "      <td>6.7</td>\n",
       "      <td>NaN</td>\n",
       "      <td>NaN</td>\n",
       "      <td>no</td>\n",
       "      <td>None</td>\n",
       "      <td>None</td>\n",
       "      <td>None</td>\n",
       "      <td>None</td>\n",
       "    </tr>\n",
       "    <tr>\n",
       "      <th>3</th>\n",
       "      <td>yes</td>\n",
       "      <td>young</td>\n",
       "      <td>39.1</td>\n",
       "      <td>164.0</td>\n",
       "      <td>84.0</td>\n",
       "      <td>cold</td>\n",
       "      <td>normal</td>\n",
       "      <td>dark_cyanotic</td>\n",
       "      <td>more_3_sec</td>\n",
       "      <td>depressed</td>\n",
       "      <td>...</td>\n",
       "      <td>NaN</td>\n",
       "      <td>48.0</td>\n",
       "      <td>7.2</td>\n",
       "      <td>serosanguious</td>\n",
       "      <td>5.3</td>\n",
       "      <td>yes</td>\n",
       "      <td>2</td>\n",
       "      <td>2</td>\n",
       "      <td>0</td>\n",
       "      <td>8</td>\n",
       "    </tr>\n",
       "    <tr>\n",
       "      <th>4</th>\n",
       "      <td>no</td>\n",
       "      <td>adult</td>\n",
       "      <td>37.3</td>\n",
       "      <td>104.0</td>\n",
       "      <td>35.0</td>\n",
       "      <td>NaN</td>\n",
       "      <td>NaN</td>\n",
       "      <td>dark_cyanotic</td>\n",
       "      <td>more_3_sec</td>\n",
       "      <td>NaN</td>\n",
       "      <td>...</td>\n",
       "      <td>NaN</td>\n",
       "      <td>74.0</td>\n",
       "      <td>7.4</td>\n",
       "      <td>NaN</td>\n",
       "      <td>NaN</td>\n",
       "      <td>no</td>\n",
       "      <td>4</td>\n",
       "      <td>3</td>\n",
       "      <td>0</td>\n",
       "      <td>0</td>\n",
       "    </tr>\n",
       "  </tbody>\n",
       "</table>\n",
       "<p>5 rows × 26 columns</p>\n",
       "</div>"
      ],
      "text/plain": [
       "  surgery    age  temperature  pulse  respiratory_rate temp_of_extremities  \\\n",
       "0      no  adult         38.5   66.0              28.0                cool   \n",
       "1     yes  adult         39.2   88.0              20.0                 NaN   \n",
       "2      no  adult         38.3   40.0              24.0              normal   \n",
       "3     yes  young         39.1  164.0              84.0                cold   \n",
       "4      no  adult         37.3  104.0              35.0                 NaN   \n",
       "\n",
       "  peripheral_pulse mucous_membrane capillary_refill_time          pain  ...  \\\n",
       "0          reduced             NaN            more_3_sec  extreme_pain  ...   \n",
       "1              NaN   pale_cyanotic            less_3_sec     mild_pain  ...   \n",
       "2           normal       pale_pink            less_3_sec     mild_pain  ...   \n",
       "3           normal   dark_cyanotic            more_3_sec     depressed  ...   \n",
       "4              NaN   dark_cyanotic            more_3_sec           NaN  ...   \n",
       "\n",
       "         abdomen packed_cell_volume total_protein abdomo_appearance  \\\n",
       "0  distend_large               45.0           8.4               NaN   \n",
       "1          other               50.0          85.0            cloudy   \n",
       "2         normal               33.0           6.7               NaN   \n",
       "3            NaN               48.0           7.2     serosanguious   \n",
       "4            NaN               74.0           7.4               NaN   \n",
       "\n",
       "   abdomo_protein surgical_lesion  site  type  subtype  code  \n",
       "0             NaN              no    11     3        0     0  \n",
       "1             2.0              no     2     2        0     8  \n",
       "2             NaN              no  None  None     None  None  \n",
       "3             5.3             yes     2     2        0     8  \n",
       "4             NaN              no     4     3        0     0  \n",
       "\n",
       "[5 rows x 26 columns]"
      ]
     },
     "execution_count": 10,
     "metadata": {},
     "output_type": "execute_result"
    }
   ],
   "source": [
    "#drop column ที่ไม่จำเป็น\n",
    "if \"outcome Class\" in df_cow.columns:\n",
    "    y = df_cow['outcome Class']\n",
    "    df_cow.drop(columns=[\"outcome Class\"], inplace=True)\n",
    "if \"lesion\" in df_cow.columns:\n",
    "    df_cow.drop(columns=['hospital_number',\"lesion\"], inplace=True)\n",
    "df_cow.head()"
   ]
  },
  {
   "cell_type": "code",
   "execution_count": 11,
   "metadata": {
    "scrolled": true
   },
   "outputs": [],
   "source": [
    "numerical = list(df_cow._get_numeric_data().columns)\n",
    "categorical = list(set(df_cow.columns) - set(numerical))"
   ]
  },
  {
   "cell_type": "code",
   "execution_count": 12,
   "metadata": {
    "scrolled": true
   },
   "outputs": [
    {
     "data": {
      "text/plain": [
       "temperature              38.168619\n",
       "pulse                    72.000000\n",
       "respiratory_rate         30.460581\n",
       "nasogastric_reflux_ph     4.707547\n",
       "packed_cell_volume       46.307407\n",
       "total_protein            24.274436\n",
       "abdomo_protein            3.039604\n",
       "dtype: float64"
      ]
     },
     "execution_count": 12,
     "metadata": {},
     "output_type": "execute_result"
    }
   ],
   "source": [
    "df_cow.fillna(df_cow.mean(numeric_only=True), inplace=True)\n",
    "df_cow.mean(numeric_only=True)"
   ]
  },
  {
   "cell_type": "code",
   "execution_count": 13,
   "metadata": {},
   "outputs": [
    {
     "data": {
      "text/html": [
       "<div>\n",
       "<style scoped>\n",
       "    .dataframe tbody tr th:only-of-type {\n",
       "        vertical-align: middle;\n",
       "    }\n",
       "\n",
       "    .dataframe tbody tr th {\n",
       "        vertical-align: top;\n",
       "    }\n",
       "\n",
       "    .dataframe thead th {\n",
       "        text-align: right;\n",
       "    }\n",
       "</style>\n",
       "<table border=\"1\" class=\"dataframe\">\n",
       "  <thead>\n",
       "    <tr style=\"text-align: right;\">\n",
       "      <th></th>\n",
       "      <th>temperature</th>\n",
       "      <th>pulse</th>\n",
       "      <th>respiratory_rate</th>\n",
       "      <th>nasogastric_reflux_ph</th>\n",
       "      <th>packed_cell_volume</th>\n",
       "      <th>total_protein</th>\n",
       "      <th>abdomo_protein</th>\n",
       "    </tr>\n",
       "  </thead>\n",
       "  <tbody>\n",
       "    <tr>\n",
       "      <th>0</th>\n",
       "      <td>38.5</td>\n",
       "      <td>66.0</td>\n",
       "      <td>28.0</td>\n",
       "      <td>4.707547</td>\n",
       "      <td>45.0</td>\n",
       "      <td>8.4</td>\n",
       "      <td>3.039604</td>\n",
       "    </tr>\n",
       "    <tr>\n",
       "      <th>1</th>\n",
       "      <td>39.2</td>\n",
       "      <td>88.0</td>\n",
       "      <td>20.0</td>\n",
       "      <td>4.707547</td>\n",
       "      <td>50.0</td>\n",
       "      <td>85.0</td>\n",
       "      <td>2.000000</td>\n",
       "    </tr>\n",
       "    <tr>\n",
       "      <th>2</th>\n",
       "      <td>38.3</td>\n",
       "      <td>40.0</td>\n",
       "      <td>24.0</td>\n",
       "      <td>4.707547</td>\n",
       "      <td>33.0</td>\n",
       "      <td>6.7</td>\n",
       "      <td>3.039604</td>\n",
       "    </tr>\n",
       "    <tr>\n",
       "      <th>3</th>\n",
       "      <td>39.1</td>\n",
       "      <td>164.0</td>\n",
       "      <td>84.0</td>\n",
       "      <td>5.000000</td>\n",
       "      <td>48.0</td>\n",
       "      <td>7.2</td>\n",
       "      <td>5.300000</td>\n",
       "    </tr>\n",
       "    <tr>\n",
       "      <th>4</th>\n",
       "      <td>37.3</td>\n",
       "      <td>104.0</td>\n",
       "      <td>35.0</td>\n",
       "      <td>4.707547</td>\n",
       "      <td>74.0</td>\n",
       "      <td>7.4</td>\n",
       "      <td>3.039604</td>\n",
       "    </tr>\n",
       "  </tbody>\n",
       "</table>\n",
       "</div>"
      ],
      "text/plain": [
       "   temperature  pulse  respiratory_rate  nasogastric_reflux_ph  \\\n",
       "0         38.5   66.0              28.0               4.707547   \n",
       "1         39.2   88.0              20.0               4.707547   \n",
       "2         38.3   40.0              24.0               4.707547   \n",
       "3         39.1  164.0              84.0               5.000000   \n",
       "4         37.3  104.0              35.0               4.707547   \n",
       "\n",
       "   packed_cell_volume  total_protein  abdomo_protein  \n",
       "0                45.0            8.4        3.039604  \n",
       "1                50.0           85.0        2.000000  \n",
       "2                33.0            6.7        3.039604  \n",
       "3                48.0            7.2        5.300000  \n",
       "4                74.0            7.4        3.039604  "
      ]
     },
     "execution_count": 13,
     "metadata": {},
     "output_type": "execute_result"
    }
   ],
   "source": [
    "df_cow_numerical = df_cow[numerical].copy()\n",
    "df_cow_numerical.head()"
   ]
  },
  {
   "cell_type": "code",
   "execution_count": 14,
   "metadata": {
    "scrolled": true
   },
   "outputs": [
    {
     "data": {
      "text/html": [
       "<div>\n",
       "<style scoped>\n",
       "    .dataframe tbody tr th:only-of-type {\n",
       "        vertical-align: middle;\n",
       "    }\n",
       "\n",
       "    .dataframe tbody tr th {\n",
       "        vertical-align: top;\n",
       "    }\n",
       "\n",
       "    .dataframe thead th {\n",
       "        text-align: right;\n",
       "    }\n",
       "</style>\n",
       "<table border=\"1\" class=\"dataframe\">\n",
       "  <thead>\n",
       "    <tr style=\"text-align: right;\">\n",
       "      <th></th>\n",
       "      <th>peristalsis_absent</th>\n",
       "      <th>peristalsis_hypermotile</th>\n",
       "      <th>peristalsis_hypomotile</th>\n",
       "      <th>peristalsis_normal</th>\n",
       "      <th>peristalsis_nan</th>\n",
       "      <th>surgery_no</th>\n",
       "      <th>surgery_yes</th>\n",
       "      <th>surgery_nan</th>\n",
       "      <th>peripheral_pulse_absent</th>\n",
       "      <th>peripheral_pulse_increased</th>\n",
       "      <th>...</th>\n",
       "      <th>pain_alert</th>\n",
       "      <th>pain_depressed</th>\n",
       "      <th>pain_extreme_pain</th>\n",
       "      <th>pain_mild_pain</th>\n",
       "      <th>pain_severe_pain</th>\n",
       "      <th>pain_nan</th>\n",
       "      <th>abdomo_appearance_clear</th>\n",
       "      <th>abdomo_appearance_cloudy</th>\n",
       "      <th>abdomo_appearance_serosanguious</th>\n",
       "      <th>abdomo_appearance_nan</th>\n",
       "    </tr>\n",
       "  </thead>\n",
       "  <tbody>\n",
       "    <tr>\n",
       "      <th>0</th>\n",
       "      <td>1</td>\n",
       "      <td>0</td>\n",
       "      <td>0</td>\n",
       "      <td>0</td>\n",
       "      <td>0</td>\n",
       "      <td>1</td>\n",
       "      <td>0</td>\n",
       "      <td>0</td>\n",
       "      <td>0</td>\n",
       "      <td>0</td>\n",
       "      <td>...</td>\n",
       "      <td>0</td>\n",
       "      <td>0</td>\n",
       "      <td>1</td>\n",
       "      <td>0</td>\n",
       "      <td>0</td>\n",
       "      <td>0</td>\n",
       "      <td>0</td>\n",
       "      <td>0</td>\n",
       "      <td>0</td>\n",
       "      <td>1</td>\n",
       "    </tr>\n",
       "    <tr>\n",
       "      <th>1</th>\n",
       "      <td>1</td>\n",
       "      <td>0</td>\n",
       "      <td>0</td>\n",
       "      <td>0</td>\n",
       "      <td>0</td>\n",
       "      <td>0</td>\n",
       "      <td>1</td>\n",
       "      <td>0</td>\n",
       "      <td>0</td>\n",
       "      <td>0</td>\n",
       "      <td>...</td>\n",
       "      <td>0</td>\n",
       "      <td>0</td>\n",
       "      <td>0</td>\n",
       "      <td>1</td>\n",
       "      <td>0</td>\n",
       "      <td>0</td>\n",
       "      <td>0</td>\n",
       "      <td>1</td>\n",
       "      <td>0</td>\n",
       "      <td>0</td>\n",
       "    </tr>\n",
       "    <tr>\n",
       "      <th>2</th>\n",
       "      <td>0</td>\n",
       "      <td>0</td>\n",
       "      <td>1</td>\n",
       "      <td>0</td>\n",
       "      <td>0</td>\n",
       "      <td>1</td>\n",
       "      <td>0</td>\n",
       "      <td>0</td>\n",
       "      <td>0</td>\n",
       "      <td>0</td>\n",
       "      <td>...</td>\n",
       "      <td>0</td>\n",
       "      <td>0</td>\n",
       "      <td>0</td>\n",
       "      <td>1</td>\n",
       "      <td>0</td>\n",
       "      <td>0</td>\n",
       "      <td>0</td>\n",
       "      <td>0</td>\n",
       "      <td>0</td>\n",
       "      <td>1</td>\n",
       "    </tr>\n",
       "    <tr>\n",
       "      <th>3</th>\n",
       "      <td>1</td>\n",
       "      <td>0</td>\n",
       "      <td>0</td>\n",
       "      <td>0</td>\n",
       "      <td>0</td>\n",
       "      <td>0</td>\n",
       "      <td>1</td>\n",
       "      <td>0</td>\n",
       "      <td>0</td>\n",
       "      <td>0</td>\n",
       "      <td>...</td>\n",
       "      <td>0</td>\n",
       "      <td>1</td>\n",
       "      <td>0</td>\n",
       "      <td>0</td>\n",
       "      <td>0</td>\n",
       "      <td>0</td>\n",
       "      <td>0</td>\n",
       "      <td>0</td>\n",
       "      <td>1</td>\n",
       "      <td>0</td>\n",
       "    </tr>\n",
       "    <tr>\n",
       "      <th>4</th>\n",
       "      <td>0</td>\n",
       "      <td>0</td>\n",
       "      <td>0</td>\n",
       "      <td>0</td>\n",
       "      <td>1</td>\n",
       "      <td>1</td>\n",
       "      <td>0</td>\n",
       "      <td>0</td>\n",
       "      <td>0</td>\n",
       "      <td>0</td>\n",
       "      <td>...</td>\n",
       "      <td>0</td>\n",
       "      <td>0</td>\n",
       "      <td>0</td>\n",
       "      <td>0</td>\n",
       "      <td>0</td>\n",
       "      <td>1</td>\n",
       "      <td>0</td>\n",
       "      <td>0</td>\n",
       "      <td>0</td>\n",
       "      <td>1</td>\n",
       "    </tr>\n",
       "  </tbody>\n",
       "</table>\n",
       "<p>5 rows × 104 columns</p>\n",
       "</div>"
      ],
      "text/plain": [
       "   peristalsis_absent  peristalsis_hypermotile  peristalsis_hypomotile  \\\n",
       "0                   1                        0                       0   \n",
       "1                   1                        0                       0   \n",
       "2                   0                        0                       1   \n",
       "3                   1                        0                       0   \n",
       "4                   0                        0                       0   \n",
       "\n",
       "   peristalsis_normal  peristalsis_nan  surgery_no  surgery_yes  surgery_nan  \\\n",
       "0                   0                0           1            0            0   \n",
       "1                   0                0           0            1            0   \n",
       "2                   0                0           1            0            0   \n",
       "3                   0                0           0            1            0   \n",
       "4                   0                1           1            0            0   \n",
       "\n",
       "   peripheral_pulse_absent  peripheral_pulse_increased  ...  pain_alert  \\\n",
       "0                        0                           0  ...           0   \n",
       "1                        0                           0  ...           0   \n",
       "2                        0                           0  ...           0   \n",
       "3                        0                           0  ...           0   \n",
       "4                        0                           0  ...           0   \n",
       "\n",
       "   pain_depressed  pain_extreme_pain  pain_mild_pain  pain_severe_pain  \\\n",
       "0               0                  1               0                 0   \n",
       "1               0                  0               1                 0   \n",
       "2               0                  0               1                 0   \n",
       "3               1                  0               0                 0   \n",
       "4               0                  0               0                 0   \n",
       "\n",
       "   pain_nan  abdomo_appearance_clear  abdomo_appearance_cloudy  \\\n",
       "0         0                        0                         0   \n",
       "1         0                        0                         1   \n",
       "2         0                        0                         0   \n",
       "3         0                        0                         0   \n",
       "4         1                        0                         0   \n",
       "\n",
       "   abdomo_appearance_serosanguious  abdomo_appearance_nan  \n",
       "0                                0                      1  \n",
       "1                                0                      0  \n",
       "2                                0                      1  \n",
       "3                                1                      0  \n",
       "4                                0                      1  \n",
       "\n",
       "[5 rows x 104 columns]"
      ]
     },
     "execution_count": 14,
     "metadata": {},
     "output_type": "execute_result"
    }
   ],
   "source": [
    "df_cow_categorical = pd.DataFrame()\n",
    "\n",
    "for c in categorical:\n",
    "    encoded = pd.get_dummies(df_cow[c], dummy_na=True, prefix=c)\n",
    "    df_cow_categorical = pd.concat([df_cow_categorical, encoded], axis=1)\n",
    "\n",
    "df_cow_categorical.head()"
   ]
  },
  {
   "cell_type": "code",
   "execution_count": 15,
   "metadata": {
    "scrolled": false
   },
   "outputs": [
    {
     "data": {
      "text/html": [
       "<div>\n",
       "<style scoped>\n",
       "    .dataframe tbody tr th:only-of-type {\n",
       "        vertical-align: middle;\n",
       "    }\n",
       "\n",
       "    .dataframe tbody tr th {\n",
       "        vertical-align: top;\n",
       "    }\n",
       "\n",
       "    .dataframe thead th {\n",
       "        text-align: right;\n",
       "    }\n",
       "</style>\n",
       "<table border=\"1\" class=\"dataframe\">\n",
       "  <thead>\n",
       "    <tr style=\"text-align: right;\">\n",
       "      <th></th>\n",
       "      <th>temperature</th>\n",
       "      <th>pulse</th>\n",
       "      <th>respiratory_rate</th>\n",
       "      <th>nasogastric_reflux_ph</th>\n",
       "      <th>packed_cell_volume</th>\n",
       "      <th>total_protein</th>\n",
       "      <th>abdomo_protein</th>\n",
       "      <th>peristalsis_absent</th>\n",
       "      <th>peristalsis_hypermotile</th>\n",
       "      <th>peristalsis_hypomotile</th>\n",
       "      <th>...</th>\n",
       "      <th>pain_alert</th>\n",
       "      <th>pain_depressed</th>\n",
       "      <th>pain_extreme_pain</th>\n",
       "      <th>pain_mild_pain</th>\n",
       "      <th>pain_severe_pain</th>\n",
       "      <th>pain_nan</th>\n",
       "      <th>abdomo_appearance_clear</th>\n",
       "      <th>abdomo_appearance_cloudy</th>\n",
       "      <th>abdomo_appearance_serosanguious</th>\n",
       "      <th>abdomo_appearance_nan</th>\n",
       "    </tr>\n",
       "  </thead>\n",
       "  <tbody>\n",
       "    <tr>\n",
       "      <th>0</th>\n",
       "      <td>38.5</td>\n",
       "      <td>66.0</td>\n",
       "      <td>28.0</td>\n",
       "      <td>4.707547</td>\n",
       "      <td>45.0</td>\n",
       "      <td>8.4</td>\n",
       "      <td>3.039604</td>\n",
       "      <td>1</td>\n",
       "      <td>0</td>\n",
       "      <td>0</td>\n",
       "      <td>...</td>\n",
       "      <td>0</td>\n",
       "      <td>0</td>\n",
       "      <td>1</td>\n",
       "      <td>0</td>\n",
       "      <td>0</td>\n",
       "      <td>0</td>\n",
       "      <td>0</td>\n",
       "      <td>0</td>\n",
       "      <td>0</td>\n",
       "      <td>1</td>\n",
       "    </tr>\n",
       "    <tr>\n",
       "      <th>1</th>\n",
       "      <td>39.2</td>\n",
       "      <td>88.0</td>\n",
       "      <td>20.0</td>\n",
       "      <td>4.707547</td>\n",
       "      <td>50.0</td>\n",
       "      <td>85.0</td>\n",
       "      <td>2.000000</td>\n",
       "      <td>1</td>\n",
       "      <td>0</td>\n",
       "      <td>0</td>\n",
       "      <td>...</td>\n",
       "      <td>0</td>\n",
       "      <td>0</td>\n",
       "      <td>0</td>\n",
       "      <td>1</td>\n",
       "      <td>0</td>\n",
       "      <td>0</td>\n",
       "      <td>0</td>\n",
       "      <td>1</td>\n",
       "      <td>0</td>\n",
       "      <td>0</td>\n",
       "    </tr>\n",
       "    <tr>\n",
       "      <th>2</th>\n",
       "      <td>38.3</td>\n",
       "      <td>40.0</td>\n",
       "      <td>24.0</td>\n",
       "      <td>4.707547</td>\n",
       "      <td>33.0</td>\n",
       "      <td>6.7</td>\n",
       "      <td>3.039604</td>\n",
       "      <td>0</td>\n",
       "      <td>0</td>\n",
       "      <td>1</td>\n",
       "      <td>...</td>\n",
       "      <td>0</td>\n",
       "      <td>0</td>\n",
       "      <td>0</td>\n",
       "      <td>1</td>\n",
       "      <td>0</td>\n",
       "      <td>0</td>\n",
       "      <td>0</td>\n",
       "      <td>0</td>\n",
       "      <td>0</td>\n",
       "      <td>1</td>\n",
       "    </tr>\n",
       "    <tr>\n",
       "      <th>3</th>\n",
       "      <td>39.1</td>\n",
       "      <td>164.0</td>\n",
       "      <td>84.0</td>\n",
       "      <td>5.000000</td>\n",
       "      <td>48.0</td>\n",
       "      <td>7.2</td>\n",
       "      <td>5.300000</td>\n",
       "      <td>1</td>\n",
       "      <td>0</td>\n",
       "      <td>0</td>\n",
       "      <td>...</td>\n",
       "      <td>0</td>\n",
       "      <td>1</td>\n",
       "      <td>0</td>\n",
       "      <td>0</td>\n",
       "      <td>0</td>\n",
       "      <td>0</td>\n",
       "      <td>0</td>\n",
       "      <td>0</td>\n",
       "      <td>1</td>\n",
       "      <td>0</td>\n",
       "    </tr>\n",
       "    <tr>\n",
       "      <th>4</th>\n",
       "      <td>37.3</td>\n",
       "      <td>104.0</td>\n",
       "      <td>35.0</td>\n",
       "      <td>4.707547</td>\n",
       "      <td>74.0</td>\n",
       "      <td>7.4</td>\n",
       "      <td>3.039604</td>\n",
       "      <td>0</td>\n",
       "      <td>0</td>\n",
       "      <td>0</td>\n",
       "      <td>...</td>\n",
       "      <td>0</td>\n",
       "      <td>0</td>\n",
       "      <td>0</td>\n",
       "      <td>0</td>\n",
       "      <td>0</td>\n",
       "      <td>1</td>\n",
       "      <td>0</td>\n",
       "      <td>0</td>\n",
       "      <td>0</td>\n",
       "      <td>1</td>\n",
       "    </tr>\n",
       "  </tbody>\n",
       "</table>\n",
       "<p>5 rows × 111 columns</p>\n",
       "</div>"
      ],
      "text/plain": [
       "   temperature  pulse  respiratory_rate  nasogastric_reflux_ph  \\\n",
       "0         38.5   66.0              28.0               4.707547   \n",
       "1         39.2   88.0              20.0               4.707547   \n",
       "2         38.3   40.0              24.0               4.707547   \n",
       "3         39.1  164.0              84.0               5.000000   \n",
       "4         37.3  104.0              35.0               4.707547   \n",
       "\n",
       "   packed_cell_volume  total_protein  abdomo_protein  peristalsis_absent  \\\n",
       "0                45.0            8.4        3.039604                   1   \n",
       "1                50.0           85.0        2.000000                   1   \n",
       "2                33.0            6.7        3.039604                   0   \n",
       "3                48.0            7.2        5.300000                   1   \n",
       "4                74.0            7.4        3.039604                   0   \n",
       "\n",
       "   peristalsis_hypermotile  peristalsis_hypomotile  ...  pain_alert  \\\n",
       "0                        0                       0  ...           0   \n",
       "1                        0                       0  ...           0   \n",
       "2                        0                       1  ...           0   \n",
       "3                        0                       0  ...           0   \n",
       "4                        0                       0  ...           0   \n",
       "\n",
       "   pain_depressed  pain_extreme_pain  pain_mild_pain  pain_severe_pain  \\\n",
       "0               0                  1               0                 0   \n",
       "1               0                  0               1                 0   \n",
       "2               0                  0               1                 0   \n",
       "3               1                  0               0                 0   \n",
       "4               0                  0               0                 0   \n",
       "\n",
       "   pain_nan  abdomo_appearance_clear  abdomo_appearance_cloudy  \\\n",
       "0         0                        0                         0   \n",
       "1         0                        0                         1   \n",
       "2         0                        0                         0   \n",
       "3         0                        0                         0   \n",
       "4         1                        0                         0   \n",
       "\n",
       "   abdomo_appearance_serosanguious  abdomo_appearance_nan  \n",
       "0                                0                      1  \n",
       "1                                0                      0  \n",
       "2                                0                      1  \n",
       "3                                1                      0  \n",
       "4                                0                      1  \n",
       "\n",
       "[5 rows x 111 columns]"
      ]
     },
     "execution_count": 15,
     "metadata": {},
     "output_type": "execute_result"
    }
   ],
   "source": [
    "df_cow_data = pd.concat([df_cow_numerical,df_cow_categorical],axis=1)\n",
    "df_cow_data.head()"
   ]
  },
  {
   "cell_type": "code",
   "execution_count": 16,
   "metadata": {},
   "outputs": [
    {
     "data": {
      "text/plain": [
       "0    1\n",
       "1    2\n",
       "2    0\n",
       "3    1\n",
       "4    1\n",
       "Name: outcome Class, dtype: int64"
      ]
     },
     "execution_count": 16,
     "metadata": {},
     "output_type": "execute_result"
    }
   ],
   "source": [
    "y = y.map({\"lived\": 0, \"died\": 1, \"euthanized\": 2})\n",
    "y.head()"
   ]
  },
  {
   "cell_type": "code",
   "execution_count": 17,
   "metadata": {},
   "outputs": [],
   "source": [
    "X = df_cow_data.values"
   ]
  },
  {
   "cell_type": "code",
   "execution_count": 18,
   "metadata": {
    "scrolled": true
   },
   "outputs": [
    {
     "data": {
      "text/plain": [
       "((299, 111), (299,))"
      ]
     },
     "execution_count": 18,
     "metadata": {},
     "output_type": "execute_result"
    }
   ],
   "source": [
    "X.shape, y.shape"
   ]
  },
  {
   "cell_type": "code",
   "execution_count": 19,
   "metadata": {},
   "outputs": [],
   "source": [
    "X_train, X_test, y_train, y_test = train_test_split(X, y, train_size=0.8, stratify=y,random_state=1234)"
   ]
  },
  {
   "cell_type": "code",
   "execution_count": 20,
   "metadata": {},
   "outputs": [
    {
     "name": "stdout",
     "output_type": "stream",
     "text": [
      "(array([0, 1, 2], dtype=int64), array([142,  62,  35], dtype=int64))\n"
     ]
    }
   ],
   "source": [
    "print(np.unique(y_train,return_counts=True))"
   ]
  },
  {
   "cell_type": "code",
   "execution_count": 21,
   "metadata": {},
   "outputs": [
    {
     "name": "stdout",
     "output_type": "stream",
     "text": [
      "(array([0, 1, 2], dtype=int64), array([36, 15,  9], dtype=int64))\n"
     ]
    }
   ],
   "source": [
    "print(np.unique(y_test,return_counts=True))"
   ]
  },
  {
   "cell_type": "code",
   "execution_count": 22,
   "metadata": {
    "scrolled": true
   },
   "outputs": [
    {
     "name": "stdout",
     "output_type": "stream",
     "text": [
      "(array([0, 1, 2], dtype=int64), array([142, 142, 142], dtype=int64))\n"
     ]
    }
   ],
   "source": [
    "from imblearn.over_sampling import SMOTE\n",
    "smote = SMOTE(random_state=1234)\n",
    "X_train, y_train = smote.fit_resample(X_train, y_train)\n",
    "print(np.unique(y_train,return_counts=True))"
   ]
  },
  {
   "cell_type": "code",
   "execution_count": 23,
   "metadata": {},
   "outputs": [],
   "source": [
    "X_train, X_val, y_train, y_val = train_test_split(X_train, y_train, test_size =81, stratify=y_train,random_state=1234)"
   ]
  },
  {
   "cell_type": "code",
   "execution_count": 24,
   "metadata": {},
   "outputs": [
    {
     "name": "stdout",
     "output_type": "stream",
     "text": [
      "(array([0, 1, 2], dtype=int64), array([115, 115, 115], dtype=int64))\n"
     ]
    }
   ],
   "source": [
    "print(np.unique(y_train,return_counts=True))"
   ]
  },
  {
   "cell_type": "code",
   "execution_count": 25,
   "metadata": {},
   "outputs": [
    {
     "name": "stdout",
     "output_type": "stream",
     "text": [
      "(array([0, 1, 2], dtype=int64), array([27, 27, 27], dtype=int64))\n"
     ]
    }
   ],
   "source": [
    "print(np.unique(y_val,return_counts=True))"
   ]
  },
  {
   "cell_type": "code",
   "execution_count": 26,
   "metadata": {},
   "outputs": [],
   "source": [
    "y_train = keras.utils.to_categorical(y_train,3)\n",
    "y_val = keras.utils.to_categorical(y_val,3)\n",
    "# y_test = keras.utils.to_categorical(y_test,3)"
   ]
  },
  {
   "cell_type": "markdown",
   "metadata": {},
   "source": [
    "---"
   ]
  },
  {
   "cell_type": "markdown",
   "metadata": {},
   "source": [
    "# Training Models"
   ]
  },
  {
   "cell_type": "markdown",
   "metadata": {},
   "source": [
    "## Non-ensemble"
   ]
  },
  {
   "cell_type": "markdown",
   "metadata": {},
   "source": [
    "### Neural Network"
   ]
  },
  {
   "cell_type": "code",
   "execution_count": 27,
   "metadata": {
    "scrolled": true
   },
   "outputs": [
    {
     "name": "stdout",
     "output_type": "stream",
     "text": [
      "Epoch 1/100\n",
      "11/11 [==============================] - 3s 59ms/step - loss: 6.2038 - accuracy: 0.3420 - precision: 0.3412 - val_loss: 1.4777 - val_accuracy: 0.5185 - val_precision: 0.5190\n",
      "Epoch 2/100\n",
      "11/11 [==============================] - 0s 16ms/step - loss: 3.0256 - accuracy: 0.3681 - precision: 0.3750 - val_loss: 1.0226 - val_accuracy: 0.5309 - val_precision: 0.5636\n",
      "Epoch 3/100\n",
      "11/11 [==============================] - 0s 15ms/step - loss: 1.8717 - accuracy: 0.3507 - precision: 0.3366 - val_loss: 0.9853 - val_accuracy: 0.5432 - val_precision: 0.2500\n",
      "Epoch 4/100\n",
      "11/11 [==============================] - 0s 16ms/step - loss: 1.4816 - accuracy: 0.3971 - precision: 0.4167 - val_loss: 0.9877 - val_accuracy: 0.5309 - val_precision: 0.3333\n",
      "Epoch 5/100\n",
      "11/11 [==============================] - 0s 16ms/step - loss: 1.2348 - accuracy: 0.4261 - precision: 0.4449 - val_loss: 0.9741 - val_accuracy: 0.5432 - val_precision: 0.3333\n",
      "Epoch 6/100\n",
      "11/11 [==============================] - 0s 16ms/step - loss: 1.2056 - accuracy: 0.3739 - precision: 0.4216 - val_loss: 0.9705 - val_accuracy: 0.5185 - val_precision: 0.3333\n",
      "Epoch 7/100\n",
      "11/11 [==============================] - 0s 16ms/step - loss: 1.1676 - accuracy: 0.3797 - precision: 0.4599 - val_loss: 0.9607 - val_accuracy: 0.5556 - val_precision: 0.0000e+00\n",
      "Epoch 8/100\n",
      "11/11 [==============================] - 0s 16ms/step - loss: 1.1106 - accuracy: 0.4493 - precision: 0.4895 - val_loss: 0.9680 - val_accuracy: 0.6049 - val_precision: 0.0000e+00\n",
      "Epoch 9/100\n",
      "11/11 [==============================] - 0s 16ms/step - loss: 1.0254 - accuracy: 0.4928 - precision: 0.6067 - val_loss: 0.9673 - val_accuracy: 0.5802 - val_precision: 0.6000\n",
      "Epoch 10/100\n",
      "11/11 [==============================] - 0s 16ms/step - loss: 1.1086 - accuracy: 0.4116 - precision: 0.4597 - val_loss: 0.9543 - val_accuracy: 0.5556 - val_precision: 0.7273\n",
      "Epoch 11/100\n",
      "11/11 [==============================] - 0s 16ms/step - loss: 1.0428 - accuracy: 0.4174 - precision: 0.5072 - val_loss: 0.9385 - val_accuracy: 0.5679 - val_precision: 0.8000\n",
      "Epoch 12/100\n",
      "11/11 [==============================] - 0s 17ms/step - loss: 1.0043 - accuracy: 0.4638 - precision: 0.5319 - val_loss: 0.9202 - val_accuracy: 0.5432 - val_precision: 0.7895\n",
      "Epoch 13/100\n",
      "11/11 [==============================] - 0s 16ms/step - loss: 1.0185 - accuracy: 0.4986 - precision: 0.5479 - val_loss: 0.9086 - val_accuracy: 0.5556 - val_precision: 0.8000\n",
      "Epoch 14/100\n",
      "11/11 [==============================] - 0s 16ms/step - loss: 0.9738 - accuracy: 0.5188 - precision: 0.6350 - val_loss: 0.9078 - val_accuracy: 0.5802 - val_precision: 0.7895\n",
      "Epoch 15/100\n",
      "11/11 [==============================] - 0s 17ms/step - loss: 0.9866 - accuracy: 0.4551 - precision: 0.5662 - val_loss: 0.9042 - val_accuracy: 0.5926 - val_precision: 0.8182\n",
      "Epoch 16/100\n",
      "11/11 [==============================] - 0s 16ms/step - loss: 0.9883 - accuracy: 0.4957 - precision: 0.6269 - val_loss: 0.8948 - val_accuracy: 0.5926 - val_precision: 0.8000\n",
      "Epoch 17/100\n",
      "11/11 [==============================] - 0s 17ms/step - loss: 0.9754 - accuracy: 0.4783 - precision: 0.5762 - val_loss: 0.8810 - val_accuracy: 0.5926 - val_precision: 0.7778\n",
      "Epoch 18/100\n",
      "11/11 [==============================] - 0s 17ms/step - loss: 0.9826 - accuracy: 0.5304 - precision: 0.6234 - val_loss: 0.8718 - val_accuracy: 0.5802 - val_precision: 0.7857\n",
      "Epoch 19/100\n",
      "11/11 [==============================] - 0s 16ms/step - loss: 0.9801 - accuracy: 0.4899 - precision: 0.6065 - val_loss: 0.8734 - val_accuracy: 0.5679 - val_precision: 0.7000\n",
      "Epoch 20/100\n",
      "11/11 [==============================] - 0s 16ms/step - loss: 0.9551 - accuracy: 0.5130 - precision: 0.6402 - val_loss: 0.8638 - val_accuracy: 0.6296 - val_precision: 0.6667\n",
      "Epoch 21/100\n",
      "11/11 [==============================] - 0s 17ms/step - loss: 0.9314 - accuracy: 0.5420 - precision: 0.6797 - val_loss: 0.8612 - val_accuracy: 0.6049 - val_precision: 0.7143\n",
      "Epoch 22/100\n",
      "11/11 [==============================] - 0s 17ms/step - loss: 0.9450 - accuracy: 0.4812 - precision: 0.6289 - val_loss: 0.8614 - val_accuracy: 0.6420 - val_precision: 0.7097\n",
      "Epoch 23/100\n",
      "11/11 [==============================] - 0s 16ms/step - loss: 0.9339 - accuracy: 0.5246 - precision: 0.6454 - val_loss: 0.8277 - val_accuracy: 0.6667 - val_precision: 0.7073\n",
      "Epoch 24/100\n",
      "11/11 [==============================] - 0s 16ms/step - loss: 0.9280 - accuracy: 0.5478 - precision: 0.6398 - val_loss: 0.8188 - val_accuracy: 0.6420 - val_precision: 0.7222\n",
      "Epoch 25/100\n",
      "11/11 [==============================] - 0s 17ms/step - loss: 0.8993 - accuracy: 0.5478 - precision: 0.6667 - val_loss: 0.8274 - val_accuracy: 0.6667 - val_precision: 0.7931\n",
      "Epoch 26/100\n",
      "11/11 [==============================] - 0s 17ms/step - loss: 0.9311 - accuracy: 0.5739 - precision: 0.6832 - val_loss: 0.8189 - val_accuracy: 0.6667 - val_precision: 0.7568\n",
      "Epoch 27/100\n",
      "11/11 [==============================] - 0s 17ms/step - loss: 0.9051 - accuracy: 0.5333 - precision: 0.6667 - val_loss: 0.8170 - val_accuracy: 0.6667 - val_precision: 0.7209\n",
      "Epoch 28/100\n",
      "11/11 [==============================] - 0s 16ms/step - loss: 0.8935 - accuracy: 0.6174 - precision: 0.7135 - val_loss: 0.8205 - val_accuracy: 0.6543 - val_precision: 0.7368\n",
      "Epoch 29/100\n",
      "11/11 [==============================] - 0s 16ms/step - loss: 0.8479 - accuracy: 0.5971 - precision: 0.6788 - val_loss: 0.7968 - val_accuracy: 0.6667 - val_precision: 0.7500\n",
      "Epoch 30/100\n",
      "11/11 [==============================] - 0s 16ms/step - loss: 0.8436 - accuracy: 0.6058 - precision: 0.7526 - val_loss: 0.7651 - val_accuracy: 0.6914 - val_precision: 0.7609\n",
      "Epoch 31/100\n",
      "11/11 [==============================] - 0s 16ms/step - loss: 0.8408 - accuracy: 0.6145 - precision: 0.6840 - val_loss: 0.7400 - val_accuracy: 0.6914 - val_precision: 0.7736\n",
      "Epoch 32/100\n",
      "11/11 [==============================] - 0s 17ms/step - loss: 0.8920 - accuracy: 0.5884 - precision: 0.6934 - val_loss: 0.7691 - val_accuracy: 0.7037 - val_precision: 0.7556\n",
      "Epoch 33/100\n",
      "11/11 [==============================] - 0s 17ms/step - loss: 0.8236 - accuracy: 0.6290 - precision: 0.7550 - val_loss: 0.7753 - val_accuracy: 0.6914 - val_precision: 0.7551\n",
      "Epoch 34/100\n",
      "11/11 [==============================] - 0s 18ms/step - loss: 0.8348 - accuracy: 0.6290 - precision: 0.6856 - val_loss: 0.7623 - val_accuracy: 0.7284 - val_precision: 0.7083\n",
      "Epoch 35/100\n",
      "11/11 [==============================] - 0s 17ms/step - loss: 0.8228 - accuracy: 0.6232 - precision: 0.7183 - val_loss: 0.7601 - val_accuracy: 0.6914 - val_precision: 0.7708\n",
      "Epoch 36/100\n",
      "11/11 [==============================] - 0s 17ms/step - loss: 0.7968 - accuracy: 0.6174 - precision: 0.7249 - val_loss: 0.7502 - val_accuracy: 0.6914 - val_precision: 0.7736\n",
      "Epoch 37/100\n",
      "11/11 [==============================] - 0s 17ms/step - loss: 0.7875 - accuracy: 0.6870 - precision: 0.7607 - val_loss: 0.7222 - val_accuracy: 0.7531 - val_precision: 0.7500\n",
      "Epoch 38/100\n",
      "11/11 [==============================] - 0s 17ms/step - loss: 0.7632 - accuracy: 0.6725 - precision: 0.7888 - val_loss: 0.7116 - val_accuracy: 0.7160 - val_precision: 0.7538\n",
      "Epoch 39/100\n",
      "11/11 [==============================] - 0s 16ms/step - loss: 0.7945 - accuracy: 0.6754 - precision: 0.7597 - val_loss: 0.6993 - val_accuracy: 0.7160 - val_precision: 0.8033\n",
      "Epoch 40/100\n",
      "11/11 [==============================] - 0s 17ms/step - loss: 0.8021 - accuracy: 0.6319 - precision: 0.7255 - val_loss: 0.7252 - val_accuracy: 0.7284 - val_precision: 0.7843\n",
      "Epoch 41/100\n",
      "11/11 [==============================] - 0s 15ms/step - loss: 0.7812 - accuracy: 0.6522 - precision: 0.7604 - val_loss: 0.6909 - val_accuracy: 0.7407 - val_precision: 0.7705\n",
      "Epoch 42/100\n",
      "11/11 [==============================] - 0s 16ms/step - loss: 0.7342 - accuracy: 0.6754 - precision: 0.7569 - val_loss: 0.6721 - val_accuracy: 0.7778 - val_precision: 0.7761\n",
      "Epoch 43/100\n",
      "11/11 [==============================] - 0s 17ms/step - loss: 0.7343 - accuracy: 0.6812 - precision: 0.7652 - val_loss: 0.6419 - val_accuracy: 0.7654 - val_precision: 0.8281\n",
      "Epoch 44/100\n",
      "11/11 [==============================] - 0s 16ms/step - loss: 0.6854 - accuracy: 0.7130 - precision: 0.7786 - val_loss: 0.6174 - val_accuracy: 0.7654 - val_precision: 0.7794\n"
     ]
    },
    {
     "name": "stdout",
     "output_type": "stream",
     "text": [
      "Epoch 45/100\n",
      "11/11 [==============================] - 0s 18ms/step - loss: 0.7157 - accuracy: 0.7014 - precision: 0.7747 - val_loss: 0.6471 - val_accuracy: 0.7160 - val_precision: 0.7833\n",
      "Epoch 46/100\n",
      "11/11 [==============================] - 0s 18ms/step - loss: 0.7088 - accuracy: 0.7043 - precision: 0.8125 - val_loss: 0.6534 - val_accuracy: 0.7531 - val_precision: 0.7941\n",
      "Epoch 47/100\n",
      "11/11 [==============================] - 0s 17ms/step - loss: 0.6992 - accuracy: 0.7101 - precision: 0.7926 - val_loss: 0.6571 - val_accuracy: 0.7654 - val_precision: 0.8095\n",
      "Epoch 48/100\n",
      "11/11 [==============================] - 0s 17ms/step - loss: 0.6632 - accuracy: 0.7246 - precision: 0.7901 - val_loss: 0.5949 - val_accuracy: 0.8025 - val_precision: 0.8406\n",
      "Epoch 49/100\n",
      "11/11 [==============================] - 0s 17ms/step - loss: 0.6490 - accuracy: 0.7130 - precision: 0.8142 - val_loss: 0.5765 - val_accuracy: 0.7901 - val_precision: 0.8281\n",
      "Epoch 50/100\n",
      "11/11 [==============================] - 0s 17ms/step - loss: 0.6441 - accuracy: 0.7507 - precision: 0.8085 - val_loss: 0.6000 - val_accuracy: 0.7901 - val_precision: 0.8235\n",
      "Epoch 51/100\n",
      "11/11 [==============================] - 0s 17ms/step - loss: 0.6479 - accuracy: 0.7681 - precision: 0.8433 - val_loss: 0.5988 - val_accuracy: 0.7778 - val_precision: 0.8571\n",
      "Epoch 52/100\n",
      "11/11 [==============================] - 0s 17ms/step - loss: 0.6415 - accuracy: 0.7594 - precision: 0.8450 - val_loss: 0.5715 - val_accuracy: 0.8025 - val_precision: 0.8529\n",
      "Epoch 53/100\n",
      "11/11 [==============================] - 0s 17ms/step - loss: 0.6019 - accuracy: 0.7797 - precision: 0.8248 - val_loss: 0.5436 - val_accuracy: 0.7654 - val_precision: 0.8310\n",
      "Epoch 54/100\n",
      "11/11 [==============================] - 0s 16ms/step - loss: 0.6045 - accuracy: 0.7652 - precision: 0.8259 - val_loss: 0.5955 - val_accuracy: 0.7654 - val_precision: 0.7778\n",
      "Epoch 55/100\n",
      "11/11 [==============================] - 0s 17ms/step - loss: 0.6441 - accuracy: 0.7536 - precision: 0.8289 - val_loss: 0.5296 - val_accuracy: 0.7901 - val_precision: 0.8108\n",
      "Epoch 56/100\n",
      "11/11 [==============================] - 0s 17ms/step - loss: 0.5608 - accuracy: 0.7739 - precision: 0.8380 - val_loss: 0.5088 - val_accuracy: 0.8272 - val_precision: 0.8472\n",
      "Epoch 57/100\n",
      "11/11 [==============================] - 0s 16ms/step - loss: 0.5423 - accuracy: 0.8087 - precision: 0.8566 - val_loss: 0.4938 - val_accuracy: 0.8395 - val_precision: 0.8667\n",
      "Epoch 58/100\n",
      "11/11 [==============================] - 0s 16ms/step - loss: 0.5744 - accuracy: 0.7855 - precision: 0.8464 - val_loss: 0.5023 - val_accuracy: 0.8272 - val_precision: 0.8889\n",
      "Epoch 59/100\n",
      "11/11 [==============================] - 0s 17ms/step - loss: 0.5091 - accuracy: 0.8029 - precision: 0.8836 - val_loss: 0.4900 - val_accuracy: 0.8025 - val_precision: 0.8289\n",
      "Epoch 60/100\n",
      "11/11 [==============================] - 0s 17ms/step - loss: 0.5139 - accuracy: 0.8319 - precision: 0.8701 - val_loss: 0.4568 - val_accuracy: 0.8519 - val_precision: 0.8767\n",
      "Epoch 61/100\n",
      "11/11 [==============================] - 0s 17ms/step - loss: 0.4817 - accuracy: 0.8261 - precision: 0.8754 - val_loss: 0.5499 - val_accuracy: 0.8148 - val_precision: 0.8243\n",
      "Epoch 62/100\n",
      "11/11 [==============================] - 0s 17ms/step - loss: 0.5192 - accuracy: 0.8116 - precision: 0.8510 - val_loss: 0.4248 - val_accuracy: 0.8519 - val_precision: 0.8800\n",
      "Epoch 63/100\n",
      "11/11 [==============================] - 0s 18ms/step - loss: 0.5556 - accuracy: 0.8203 - precision: 0.8810 - val_loss: 0.4750 - val_accuracy: 0.8148 - val_precision: 0.8514\n",
      "Epoch 64/100\n",
      "11/11 [==============================] - 0s 16ms/step - loss: 0.4762 - accuracy: 0.8232 - precision: 0.8709 - val_loss: 0.4309 - val_accuracy: 0.8642 - val_precision: 0.8701\n",
      "Epoch 65/100\n",
      "11/11 [==============================] - 0s 17ms/step - loss: 0.4580 - accuracy: 0.8551 - precision: 0.8856 - val_loss: 0.4320 - val_accuracy: 0.8395 - val_precision: 0.8590\n",
      "Epoch 66/100\n",
      "11/11 [==============================] - 0s 17ms/step - loss: 0.4832 - accuracy: 0.8319 - precision: 0.8567 - val_loss: 0.4947 - val_accuracy: 0.8272 - val_precision: 0.8250\n",
      "Epoch 67/100\n",
      "11/11 [==============================] - 0s 17ms/step - loss: 0.4551 - accuracy: 0.8493 - precision: 0.8997 - val_loss: 0.4469 - val_accuracy: 0.8272 - val_precision: 0.8684\n",
      "Epoch 68/100\n",
      "11/11 [==============================] - 0s 17ms/step - loss: 0.4425 - accuracy: 0.8696 - precision: 0.8977 - val_loss: 0.4665 - val_accuracy: 0.8642 - val_precision: 0.8816\n",
      "Epoch 69/100\n",
      "11/11 [==============================] - 0s 16ms/step - loss: 0.4264 - accuracy: 0.8522 - precision: 0.8827 - val_loss: 0.4603 - val_accuracy: 0.8519 - val_precision: 0.8590\n",
      "Epoch 70/100\n",
      "11/11 [==============================] - 0s 16ms/step - loss: 0.4421 - accuracy: 0.8580 - precision: 0.8944 - val_loss: 0.3749 - val_accuracy: 0.9012 - val_precision: 0.9067\n",
      "Epoch 71/100\n",
      "11/11 [==============================] - 0s 16ms/step - loss: 0.4400 - accuracy: 0.8551 - precision: 0.8867 - val_loss: 0.4301 - val_accuracy: 0.8765 - val_precision: 0.8846\n",
      "Epoch 72/100\n",
      "11/11 [==============================] - 0s 17ms/step - loss: 0.4074 - accuracy: 0.8522 - precision: 0.8925 - val_loss: 0.4059 - val_accuracy: 0.8765 - val_precision: 0.9200\n",
      "Epoch 73/100\n",
      "11/11 [==============================] - 0s 18ms/step - loss: 0.3821 - accuracy: 0.8870 - precision: 0.9323 - val_loss: 0.4182 - val_accuracy: 0.8765 - val_precision: 0.8734\n",
      "Epoch 74/100\n",
      "11/11 [==============================] - 0s 16ms/step - loss: 0.4398 - accuracy: 0.8464 - precision: 0.8868 - val_loss: 0.4433 - val_accuracy: 0.8642 - val_precision: 0.8718\n",
      "Epoch 75/100\n",
      "11/11 [==============================] - 0s 17ms/step - loss: 0.3737 - accuracy: 0.8725 - precision: 0.9172 - val_loss: 0.3570 - val_accuracy: 0.9012 - val_precision: 0.9103\n",
      "Epoch 76/100\n",
      "11/11 [==============================] - 0s 21ms/step - loss: 0.3707 - accuracy: 0.8609 - precision: 0.9061 - val_loss: 0.3805 - val_accuracy: 0.8889 - val_precision: 0.8987\n",
      "Epoch 77/100\n",
      "11/11 [==============================] - 0s 17ms/step - loss: 0.3226 - accuracy: 0.8870 - precision: 0.9190 - val_loss: 0.3338 - val_accuracy: 0.8889 - val_precision: 0.9000\n",
      "Epoch 78/100\n",
      "11/11 [==============================] - 0s 17ms/step - loss: 0.3399 - accuracy: 0.8870 - precision: 0.8966 - val_loss: 0.3362 - val_accuracy: 0.8889 - val_precision: 0.8875\n",
      "Epoch 79/100\n",
      "11/11 [==============================] - 0s 17ms/step - loss: 0.3327 - accuracy: 0.8957 - precision: 0.9268 - val_loss: 0.3474 - val_accuracy: 0.8889 - val_precision: 0.9000\n",
      "Epoch 80/100\n",
      "11/11 [==============================] - 0s 18ms/step - loss: 0.3295 - accuracy: 0.8899 - precision: 0.9119 - val_loss: 0.3810 - val_accuracy: 0.8642 - val_precision: 0.8861\n",
      "Epoch 81/100\n",
      "11/11 [==============================] - 0s 18ms/step - loss: 0.3407 - accuracy: 0.9014 - precision: 0.9250 - val_loss: 0.4141 - val_accuracy: 0.8889 - val_precision: 0.8987\n",
      "Epoch 82/100\n",
      "11/11 [==============================] - 0s 17ms/step - loss: 0.3148 - accuracy: 0.8841 - precision: 0.9125 - val_loss: 0.3656 - val_accuracy: 0.8765 - val_precision: 0.8861\n",
      "Epoch 83/100\n",
      "11/11 [==============================] - 0s 16ms/step - loss: 0.3397 - accuracy: 0.8812 - precision: 0.9088 - val_loss: 0.4143 - val_accuracy: 0.8765 - val_precision: 0.8861\n",
      "Epoch 84/100\n",
      "11/11 [==============================] - 0s 19ms/step - loss: 0.2906 - accuracy: 0.8986 - precision: 0.9061 - val_loss: 0.4313 - val_accuracy: 0.8889 - val_precision: 0.8875\n",
      "Epoch 85/100\n",
      "11/11 [==============================] - 0s 17ms/step - loss: 0.2958 - accuracy: 0.8957 - precision: 0.9331 - val_loss: 0.3910 - val_accuracy: 0.8765 - val_precision: 0.8765\n",
      "Epoch 86/100\n",
      "11/11 [==============================] - 0s 16ms/step - loss: 0.3625 - accuracy: 0.8725 - precision: 0.8951 - val_loss: 0.3524 - val_accuracy: 0.8889 - val_precision: 0.9231\n",
      "Epoch 87/100\n",
      "11/11 [==============================] - 0s 17ms/step - loss: 0.3570 - accuracy: 0.8638 - precision: 0.8892 - val_loss: 0.4313 - val_accuracy: 0.8765 - val_precision: 0.8831\n",
      "Epoch 88/100\n",
      "11/11 [==============================] - 0s 17ms/step - loss: 0.3037 - accuracy: 0.8986 - precision: 0.9167 - val_loss: 0.3311 - val_accuracy: 0.8889 - val_precision: 0.9114\n"
     ]
    },
    {
     "name": "stdout",
     "output_type": "stream",
     "text": [
      "Epoch 89/100\n",
      "11/11 [==============================] - 0s 18ms/step - loss: 0.3188 - accuracy: 0.8812 - precision: 0.9136 - val_loss: 0.4007 - val_accuracy: 0.8765 - val_precision: 0.8875\n",
      "Epoch 90/100\n",
      "11/11 [==============================] - 0s 18ms/step - loss: 0.2934 - accuracy: 0.8841 - precision: 0.9083 - val_loss: 0.4699 - val_accuracy: 0.8519 - val_precision: 0.8625\n",
      "Epoch 91/100\n",
      "11/11 [==============================] - 0s 18ms/step - loss: 0.3877 - accuracy: 0.8609 - precision: 0.8816 - val_loss: 0.3581 - val_accuracy: 0.9012 - val_precision: 0.9231\n",
      "Epoch 92/100\n",
      "11/11 [==============================] - 0s 17ms/step - loss: 0.3220 - accuracy: 0.8609 - precision: 0.8862 - val_loss: 0.3643 - val_accuracy: 0.9012 - val_precision: 0.9000\n",
      "Epoch 93/100\n",
      "11/11 [==============================] - 0s 17ms/step - loss: 0.2815 - accuracy: 0.8928 - precision: 0.9235 - val_loss: 0.4105 - val_accuracy: 0.8519 - val_precision: 0.8846\n",
      "Epoch 94/100\n",
      "11/11 [==============================] - 0s 17ms/step - loss: 0.3298 - accuracy: 0.8812 - precision: 0.9006 - val_loss: 0.3749 - val_accuracy: 0.9012 - val_precision: 0.9241\n",
      "Epoch 95/100\n",
      "11/11 [==============================] - 0s 17ms/step - loss: 0.2708 - accuracy: 0.8928 - precision: 0.9202 - val_loss: 0.3635 - val_accuracy: 0.9136 - val_precision: 0.9241\n",
      "Epoch 96/100\n",
      "11/11 [==============================] - 0s 17ms/step - loss: 0.2590 - accuracy: 0.8986 - precision: 0.9146 - val_loss: 0.3704 - val_accuracy: 0.9012 - val_precision: 0.9114\n",
      "Epoch 97/100\n",
      "11/11 [==============================] - 0s 18ms/step - loss: 0.2263 - accuracy: 0.9362 - precision: 0.9540 - val_loss: 0.3581 - val_accuracy: 0.9012 - val_precision: 0.9012\n",
      "Epoch 98/100\n",
      "11/11 [==============================] - 0s 18ms/step - loss: 0.2474 - accuracy: 0.8986 - precision: 0.9240 - val_loss: 0.3817 - val_accuracy: 0.9012 - val_precision: 0.9000\n",
      "Epoch 99/100\n",
      "11/11 [==============================] - 0s 17ms/step - loss: 0.2362 - accuracy: 0.9304 - precision: 0.9362 - val_loss: 0.3545 - val_accuracy: 0.8765 - val_precision: 0.8987\n",
      "Epoch 100/100\n",
      "11/11 [==============================] - 0s 17ms/step - loss: 0.2839 - accuracy: 0.8957 - precision: 0.9198 - val_loss: 0.3340 - val_accuracy: 0.9259 - val_precision: 0.9250\n"
     ]
    },
    {
     "data": {
      "text/plain": [
       "<keras.callbacks.History at 0x221002213a0>"
      ]
     },
     "execution_count": 27,
     "metadata": {},
     "output_type": "execute_result"
    }
   ],
   "source": [
    "nn_model = Sequential([\n",
    "    Dense(64, activation=\"relu\", input_shape=X_train[0].shape),\n",
    "    Dense(64, activation=\"relu\"),\n",
    "    Dropout(0.5),\n",
    "    \n",
    "    Dense(128, activation=\"relu\"),\n",
    "    Dense(128, activation=\"relu\"),\n",
    "    Dropout(0.8),\n",
    "    \n",
    "    Dense(3, activation=\"softmax\"),\n",
    "])\n",
    "\n",
    "nn_model.compile(optimizer='adam',\n",
    "                 loss=\"categorical_crossentropy\", \n",
    "                 metrics=[\n",
    "                     \"accuracy\",\n",
    "                     keras.metrics.Precision()\n",
    "                     ])\n",
    "\n",
    "nn_model.fit(X_train, y_train, epochs=100, verbose=1\n",
    "            ,validation_data=(X_val, y_val))"
   ]
  },
  {
   "cell_type": "code",
   "execution_count": 28,
   "metadata": {},
   "outputs": [
    {
     "name": "stdout",
     "output_type": "stream",
     "text": [
      "2/2 [==============================] - 0s 5ms/step\n"
     ]
    }
   ],
   "source": [
    "y_pred_nn = np.argmax(nn_model.predict(X_test),axis=1)\n",
    "nn_model_acc = accuracy_score(y_test, y_pred_nn)\n",
    "nn_model_prec = precision_score(y_test, y_pred_nn, average=None)\n",
    "nn_model_f1 = f1_score(y_test, y_pred_nn, average=None)\n",
    "nn_model_recall = recall_score(y_test, y_pred_nn, average=None)"
   ]
  },
  {
   "cell_type": "code",
   "execution_count": 30,
   "metadata": {
    "scrolled": false
   },
   "outputs": [
    {
     "name": "stdout",
     "output_type": "stream",
     "text": [
      "lastes accuracy and loss\n"
     ]
    },
    {
     "ename": "KeyError",
     "evalue": "'loss'",
     "output_type": "error",
     "traceback": [
      "\u001b[1;31m---------------------------------------------------------------------------\u001b[0m",
      "\u001b[1;31mKeyError\u001b[0m                                  Traceback (most recent call last)",
      "\u001b[1;32m~\\AppData\\Local\\Temp\\ipykernel_2816\\352833625.py\u001b[0m in \u001b[0;36m<module>\u001b[1;34m\u001b[0m\n\u001b[1;32m----> 1\u001b[1;33m \u001b[0mplot_loss_accuracy\u001b[0m\u001b[1;33m(\u001b[0m\u001b[0mnn_model\u001b[0m\u001b[1;33m.\u001b[0m\u001b[0mhistory\u001b[0m\u001b[1;33m)\u001b[0m\u001b[1;33m\u001b[0m\u001b[1;33m\u001b[0m\u001b[0m\n\u001b[0m",
      "\u001b[1;32m~\\AppData\\Local\\Temp\\ipykernel_2816\\4161300506.py\u001b[0m in \u001b[0;36mplot_loss_accuracy\u001b[1;34m(history)\u001b[0m\n\u001b[0;32m      1\u001b[0m \u001b[1;32mdef\u001b[0m \u001b[0mplot_loss_accuracy\u001b[0m\u001b[1;33m(\u001b[0m\u001b[0mhistory\u001b[0m\u001b[1;33m)\u001b[0m\u001b[1;33m:\u001b[0m\u001b[1;33m\u001b[0m\u001b[1;33m\u001b[0m\u001b[0m\n\u001b[1;32m----> 2\u001b[1;33m     \u001b[0mprint_score\u001b[0m\u001b[1;33m(\u001b[0m\u001b[0mhistory\u001b[0m\u001b[1;33m)\u001b[0m\u001b[1;33m\u001b[0m\u001b[1;33m\u001b[0m\u001b[0m\n\u001b[0m\u001b[0;32m      3\u001b[0m \u001b[1;33m\u001b[0m\u001b[0m\n\u001b[0;32m      4\u001b[0m     \u001b[0mfig\u001b[0m \u001b[1;33m=\u001b[0m \u001b[0mplt\u001b[0m\u001b[1;33m.\u001b[0m\u001b[0mfigure\u001b[0m\u001b[1;33m(\u001b[0m\u001b[0mfigsize\u001b[0m\u001b[1;33m=\u001b[0m\u001b[1;33m(\u001b[0m\u001b[1;36m12\u001b[0m\u001b[1;33m,\u001b[0m \u001b[1;36m6\u001b[0m\u001b[1;33m)\u001b[0m\u001b[1;33m)\u001b[0m\u001b[1;33m\u001b[0m\u001b[1;33m\u001b[0m\u001b[0m\n\u001b[0;32m      5\u001b[0m     \u001b[0max\u001b[0m \u001b[1;33m=\u001b[0m \u001b[0mfig\u001b[0m\u001b[1;33m.\u001b[0m\u001b[0madd_subplot\u001b[0m\u001b[1;33m(\u001b[0m\u001b[1;36m1\u001b[0m\u001b[1;33m,\u001b[0m \u001b[1;36m2\u001b[0m\u001b[1;33m,\u001b[0m \u001b[1;36m1\u001b[0m\u001b[1;33m)\u001b[0m\u001b[1;33m\u001b[0m\u001b[1;33m\u001b[0m\u001b[0m\n",
      "\u001b[1;32m~\\AppData\\Local\\Temp\\ipykernel_2816\\4161300506.py\u001b[0m in \u001b[0;36mprint_score\u001b[1;34m(history)\u001b[0m\n\u001b[0;32m     20\u001b[0m \u001b[1;32mdef\u001b[0m \u001b[0mprint_score\u001b[0m\u001b[1;33m(\u001b[0m\u001b[0mhistory\u001b[0m\u001b[1;33m)\u001b[0m\u001b[1;33m:\u001b[0m\u001b[1;33m\u001b[0m\u001b[1;33m\u001b[0m\u001b[0m\n\u001b[0;32m     21\u001b[0m     \u001b[0mprint\u001b[0m\u001b[1;33m(\u001b[0m\u001b[1;34m\"lastes accuracy and loss\"\u001b[0m\u001b[1;33m)\u001b[0m\u001b[1;33m\u001b[0m\u001b[1;33m\u001b[0m\u001b[0m\n\u001b[1;32m---> 22\u001b[1;33m     print(\"train_loss : {:.4f}, val_loss : {:.4f}\\ntrain_acc : {:.4f}, val_acc : {:.4f}\".format(history.history['loss'][-1],\n\u001b[0m\u001b[0;32m     23\u001b[0m                                                                                                \u001b[0mhistory\u001b[0m\u001b[1;33m.\u001b[0m\u001b[0mhistory\u001b[0m\u001b[1;33m[\u001b[0m\u001b[1;34m'val_loss'\u001b[0m\u001b[1;33m]\u001b[0m\u001b[1;33m[\u001b[0m\u001b[1;33m-\u001b[0m\u001b[1;36m1\u001b[0m\u001b[1;33m]\u001b[0m\u001b[1;33m,\u001b[0m\u001b[1;33m\u001b[0m\u001b[1;33m\u001b[0m\u001b[0m\n\u001b[0;32m     24\u001b[0m                                                                                                \u001b[0mhistory\u001b[0m\u001b[1;33m.\u001b[0m\u001b[0mhistory\u001b[0m\u001b[1;33m[\u001b[0m\u001b[1;34m'accuracy'\u001b[0m\u001b[1;33m]\u001b[0m\u001b[1;33m[\u001b[0m\u001b[1;33m-\u001b[0m\u001b[1;36m1\u001b[0m\u001b[1;33m]\u001b[0m\u001b[1;33m,\u001b[0m\u001b[1;33m\u001b[0m\u001b[1;33m\u001b[0m\u001b[0m\n",
      "\u001b[1;31mKeyError\u001b[0m: 'loss'"
     ]
    }
   ],
   "source": [
    "plot_loss_accuracy(nn_model.history)"
   ]
  },
  {
   "cell_type": "markdown",
   "metadata": {},
   "source": [
    "### KNN"
   ]
  },
  {
   "cell_type": "code",
   "execution_count": null,
   "metadata": {},
   "outputs": [],
   "source": [
    "knn_model = KNeighborsClassifier(n_neighbors=5)\n",
    "knn_model.fit(X_train, y_train)"
   ]
  },
  {
   "cell_type": "code",
   "execution_count": null,
   "metadata": {
    "scrolled": true
   },
   "outputs": [],
   "source": [
    "y_pred_knn = np.argmax(knn_model.predict(X_test), axis=1)\n",
    "knn_model_acc = accuracy_score(y_test, y_pred_knn)\n",
    "knn_model_prec = precision_score(y_test, y_pred_knn, average=None)\n",
    "knn_model_f1 = f1_score(y_test, y_pred_knn, average=None)\n",
    "knn_model_recall = recall_score(y_test, y_pred_knn, average=None)"
   ]
  },
  {
   "cell_type": "markdown",
   "metadata": {},
   "source": [
    "## Ensemble"
   ]
  },
  {
   "cell_type": "markdown",
   "metadata": {},
   "source": [
    "### Random Forest"
   ]
  },
  {
   "cell_type": "code",
   "execution_count": null,
   "metadata": {},
   "outputs": [],
   "source": [
    "rfc_model = RandomForestClassifier(n_estimators=1000)\n",
    "rfc_model.fit(X_train, y_train)\n"
   ]
  },
  {
   "cell_type": "code",
   "execution_count": null,
   "metadata": {},
   "outputs": [],
   "source": [
    "y_pred_rf = np.argmax(rfc_model.predict(X_test), axis=1)\n",
    "rfc_model_acc = accuracy_score(y_test, y_pred_rf)\n",
    "rfc_model_prec = precision_score(y_test, y_pred_rf, average=None)\n",
    "rfc_model_f1 = f1_score(y_test, y_pred_rf, average=None)\n",
    "rfc_model_recall = recall_score(y_test, y_pred_rf, average=None)"
   ]
  },
  {
   "cell_type": "markdown",
   "metadata": {},
   "source": [
    "### AdaBoost"
   ]
  },
  {
   "cell_type": "code",
   "execution_count": null,
   "metadata": {},
   "outputs": [],
   "source": [
    "ada_model = AdaBoostClassifier(DecisionTreeClassifier(), n_estimators=1000)\n",
    "ada_model.fit(X_train, np.argmax(y_train, axis=1))"
   ]
  },
  {
   "cell_type": "code",
   "execution_count": null,
   "metadata": {},
   "outputs": [],
   "source": [
    "y_pred_ada =  ada_model.predict(X_test)\n",
    "ada_model_acc = accuracy_score(y_test, y_pred_ada)\n",
    "ada_model_prec = precision_score(y_test, y_pred_ada, average=None)\n",
    "ada_model_f1 = f1_score(y_test, y_pred_ada, average=None)\n",
    "ada_model_recall = recall_score(y_test, y_pred_ada, average=None)"
   ]
  },
  {
   "cell_type": "markdown",
   "metadata": {},
   "source": [
    "### Bagging"
   ]
  },
  {
   "cell_type": "code",
   "execution_count": null,
   "metadata": {},
   "outputs": [],
   "source": [
    "bag_model = BaggingClassifier(SVC(), n_estimators=1000)\n",
    "bag_model.fit(X_train,  np.argmax(y_train,axis=1))"
   ]
  },
  {
   "cell_type": "code",
   "execution_count": null,
   "metadata": {},
   "outputs": [],
   "source": [
    "y_pred_bag =  bag_model.predict(X_test)\n",
    "bag_model_acc = accuracy_score(y_test, y_pred_bag)\n",
    "bag_model_prec = precision_score(y_test, y_pred_bag, average=None)\n",
    "bag_model_f1 = f1_score(y_test, y_pred_bag, average=None)\n",
    "bag_model_recall = recall_score(y_test, y_pred_bag, average=None)"
   ]
  },
  {
   "cell_type": "markdown",
   "metadata": {},
   "source": [
    "---"
   ]
  },
  {
   "cell_type": "markdown",
   "metadata": {},
   "source": [
    "# Visualisation"
   ]
  },
  {
   "cell_type": "markdown",
   "metadata": {},
   "source": [
    "## Confusion Matrix"
   ]
  },
  {
   "cell_type": "code",
   "execution_count": null,
   "metadata": {
    "scrolled": false
   },
   "outputs": [],
   "source": [
    "create_confusion_matrix(nn_model,X_test,keras.utils.to_categorical(y_test,3),n_name)"
   ]
  },
  {
   "cell_type": "code",
   "execution_count": null,
   "metadata": {
    "scrolled": false
   },
   "outputs": [],
   "source": [
    "create_confusion_matrix(knn_model,X_test,keras.utils.to_categorical(y_test,3),n_name)"
   ]
  },
  {
   "cell_type": "code",
   "execution_count": null,
   "metadata": {
    "scrolled": false
   },
   "outputs": [],
   "source": [
    "create_confusion_matrix(rfc_model,X_test,keras.utils.to_categorical(y_test,3),n_name)"
   ]
  },
  {
   "cell_type": "code",
   "execution_count": null,
   "metadata": {
    "scrolled": false
   },
   "outputs": [],
   "source": [
    "create_confusion_matrix(ada_model,X_test,y_test,n_name)"
   ]
  },
  {
   "cell_type": "code",
   "execution_count": null,
   "metadata": {},
   "outputs": [],
   "source": [
    "create_confusion_matrix(bag_model,X_test,y_test,n_name)"
   ]
  },
  {
   "cell_type": "markdown",
   "metadata": {},
   "source": [
    "## Accuracy"
   ]
  },
  {
   "cell_type": "code",
   "execution_count": null,
   "metadata": {
    "scrolled": false
   },
   "outputs": [],
   "source": [
    "df = pd.DataFrame({'Models':['Neural Network', 'KNN', 'Random Forest', \"AdaBoost\", \"Bagging\"], 'Accuracy':[nn_model_acc, knn_model_acc, rfc_model_acc, ada_model_acc, bag_model_acc]})\n",
    "ax = df.plot.bar(x='Models', y='Accuracy', rot=0, ylim=(0, 1), title=\"Accuracy Comparison Between Models\")"
   ]
  },
  {
   "cell_type": "markdown",
   "metadata": {},
   "source": [
    "## Precision"
   ]
  },
  {
   "cell_type": "code",
   "execution_count": null,
   "metadata": {
    "scrolled": false
   },
   "outputs": [],
   "source": [
    "precs = [nn_model_prec, knn_model_prec, rfc_model_prec, ada_model_prec, bag_model_prec]\n",
    "ind = np.arange(len(precs))\n",
    "width = 0.25\n",
    "\n",
    "class_0 = [nn_model_prec[0], knn_model_prec[0], rfc_model_prec[0], ada_model_prec[0], bag_model_prec[0]]\n",
    "bar1 = plt.bar(ind, class_0, width, color = 'blue')\n",
    "  \n",
    "class_1 = [nn_model_prec[1], knn_model_prec[1], rfc_model_prec[1], ada_model_prec[1], bag_model_prec[1]]\n",
    "bar2 = plt.bar(ind+width, class_1, width, color='g')\n",
    "  \n",
    "class_2 = [nn_model_prec[2], knn_model_prec[2], rfc_model_prec[2], ada_model_prec[2], bag_model_prec[2]]\n",
    "bar3 = plt.bar(ind+width*2, class_2, width, color = 'orange')\n",
    "  \n",
    "plt.xlabel(\"Models\")\n",
    "plt.ylabel('Precision')\n",
    "plt.title(\"Precision Comparison between Models\")\n",
    "plt.ylim((0, 1))\n",
    "  \n",
    "plt.xticks(ind+width,['Neural Network', 'KNN', 'Random Forest', \"AdaBoost\", \"Bagging\"])\n",
    "plt.legend( (bar1, bar2, bar3), (\"lived\", \"died\", \"euthanized\") )\n",
    "plt.show()"
   ]
  },
  {
   "cell_type": "markdown",
   "metadata": {},
   "source": [
    "## F1"
   ]
  },
  {
   "cell_type": "code",
   "execution_count": null,
   "metadata": {
    "scrolled": false
   },
   "outputs": [],
   "source": [
    "f1 = [nn_model_f1, knn_model_f1, rfc_model_f1, ada_model_f1, bag_model_f1]\n",
    "ind = np.arange(len(f1))\n",
    "width = 0.25\n",
    "\n",
    "class_0 = [nn_model_f1[0], knn_model_f1[0], rfc_model_f1[0], ada_model_f1[0], bag_model_f1[0]]\n",
    "bar1 = plt.bar(ind, class_0, width, color = 'blue')\n",
    "  \n",
    "class_1 = [nn_model_f1[1], knn_model_f1[1], rfc_model_f1[1], ada_model_f1[1], bag_model_f1[1]]\n",
    "bar2 = plt.bar(ind+width, class_1, width, color='g')\n",
    "  \n",
    "class_2 = [nn_model_f1[2], knn_model_f1[2], rfc_model_f1[2], ada_model_f1[2], bag_model_f1[2]]\n",
    "bar3 = plt.bar(ind+width*2, class_2, width, color = 'orange')\n",
    "  \n",
    "plt.xlabel(\"Models\")\n",
    "plt.ylabel('F1')\n",
    "plt.title(\"F1 Comparison between Models\")\n",
    "plt.ylim((0, 1))\n",
    "  \n",
    "plt.xticks(ind+width,['Neural Network', 'KNN', 'Random Forest', \"AdaBoost\", \"Bagging\"])\n",
    "plt.legend( (bar1, bar2, bar3), (\"lived\", \"died\", \"euthanized\") )\n",
    "plt.show()"
   ]
  },
  {
   "cell_type": "markdown",
   "metadata": {},
   "source": [
    "## Recall"
   ]
  },
  {
   "cell_type": "code",
   "execution_count": null,
   "metadata": {
    "scrolled": false
   },
   "outputs": [],
   "source": [
    "recall = [nn_model_recall, knn_model_recall, rfc_model_recall, ada_model_recall, bag_model_recall]\n",
    "ind = np.arange(len(recall))\n",
    "width = 0.25\n",
    "\n",
    "class_0 = [nn_model_recall[0], knn_model_recall[0], rfc_model_recall[0], ada_model_recall[0], bag_model_recall[0]]\n",
    "bar1 = plt.bar(ind, class_0, width, color = 'blue')\n",
    "  \n",
    "class_1 = [nn_model_recall[1], knn_model_recall[1], rfc_model_recall[1], ada_model_recall[1], bag_model_recall[1]]\n",
    "bar2 = plt.bar(ind+width, class_1, width, color='g')\n",
    "  \n",
    "class_2 = [nn_model_recall[2], knn_model_recall[2], rfc_model_recall[2], ada_model_recall[2], bag_model_recall[2]]\n",
    "bar3 = plt.bar(ind+width*2, class_2, width, color = 'orange')\n",
    "  \n",
    "plt.xlabel(\"Models\")\n",
    "plt.ylabel('Recall')\n",
    "plt.title(\"Recall Comparison between Models\")\n",
    "plt.ylim((0, 1))\n",
    "  \n",
    "plt.xticks(ind+width,['Neural Network', 'KNN', 'Random Forest', \"AdaBoost\", \"Bagging\"])\n",
    "plt.legend( (bar1, bar2, bar3), (\"lived\", \"died\", \"euthanized\") )\n",
    "plt.show()"
   ]
  },
  {
   "cell_type": "markdown",
   "metadata": {},
   "source": [
    "---"
   ]
  }
 ],
 "metadata": {
  "kernelspec": {
   "display_name": "Python 3 (ipykernel)",
   "language": "python",
   "name": "python3"
  },
  "language_info": {
   "codemirror_mode": {
    "name": "ipython",
    "version": 3
   },
   "file_extension": ".py",
   "mimetype": "text/x-python",
   "name": "python",
   "nbconvert_exporter": "python",
   "pygments_lexer": "ipython3",
   "version": "3.9.13"
  }
 },
 "nbformat": 4,
 "nbformat_minor": 2
}

{
 "cells": [
  {
   "cell_type": "markdown",
   "metadata": {},
   "source": [
    "# Import & Set Variables"
   ]
  },
  {
   "cell_type": "code",
   "execution_count": 1,
   "metadata": {},
   "outputs": [],
   "source": [
    "import pandas as pd\n",
    "import numpy as np\n",
    "import re\n",
    "\n",
    "from sklearn.model_selection import train_test_split\n",
    "from sklearn.metrics import ConfusionMatrixDisplay, confusion_matrix, classification_report\n",
    "\n",
    "from keras.utils import to_categorical\n",
    "\n",
    "\n",
    "from keras.models import Sequential\n",
    "from keras.layers import Dense, Dropout\n",
    "\n",
    "import keras\n",
    "\n",
    "from sklearn.metrics import precision_score, accuracy_score, f1_score, recall_score\n",
    "\n",
    "from sklearn.neighbors import KNeighborsClassifier\n",
    "from sklearn.tree import DecisionTreeClassifier\n",
    "from sklearn.ensemble import RandomForestClassifier, AdaBoostClassifier, BaggingClassifier\n",
    "from sklearn.svm import SVC\n",
    "\n",
    "import matplotlib.pyplot as plt\n",
    "\n",
    "%matplotlib inline\n",
    "\n",
    "# dataset file name\n",
    "fname = \"cow.csv\"\n",
    "\n",
    "# normal values\n",
    "NORMAL_TEMPERATURE = 37.8\n",
    "NORMAL_PULSE = (30, 40)\n",
    "NORMAL_RESPIRATORY_RATE = (8, 10)\n",
    "NORMAL_NASOGASTRIC_REFLUX_PH = (3, 4)\n",
    "NORMAL_PACKED_CELL_VOLUME = (30, 50)\n",
    "NORMAL_TOTAL_PROTEIN = (6, 7.5)\n",
    "NORMAL_ABDOMO_APPEARANCE = \"clear\""
   ]
  },
  {
   "cell_type": "markdown",
   "metadata": {},
   "source": [
    "---"
   ]
  },
  {
   "cell_type": "markdown",
   "metadata": {},
   "source": [
    "# Load Data"
   ]
  },
  {
   "cell_type": "code",
   "execution_count": 2,
   "metadata": {
    "scrolled": false
   },
   "outputs": [
    {
     "data": {
      "text/plain": [
       "Index(['surgery', 'age', 'hospital_number', 'temperature', 'pulse',\n",
       "       'respiratory_rate', 'temp_of_extremities', 'peripheral_pulse',\n",
       "       'mucous_membrane', 'capillary_refill_time', 'pain', 'peristalsis',\n",
       "       'abdominal_distention', 'nasogastric_tube', 'nasogastric_reflux',\n",
       "       'nasogastric_reflux_ph', 'rectal_exam_feces', 'abdomen',\n",
       "       'packed_cell_volume', 'total_protein', 'abdomo_appearance',\n",
       "       'abdomo_protein', 'outcome Class', 'surgical_lesion', 'lesion'],\n",
       "      dtype='object')"
      ]
     },
     "execution_count": 2,
     "metadata": {},
     "output_type": "execute_result"
    }
   ],
   "source": [
    "df_cow = pd.read_csv(fname)\n",
    "df_cow.columns"
   ]
  },
  {
   "cell_type": "code",
   "execution_count": 3,
   "metadata": {},
   "outputs": [
    {
     "data": {
      "text/html": [
       "<div>\n",
       "<style scoped>\n",
       "    .dataframe tbody tr th:only-of-type {\n",
       "        vertical-align: middle;\n",
       "    }\n",
       "\n",
       "    .dataframe tbody tr th {\n",
       "        vertical-align: top;\n",
       "    }\n",
       "\n",
       "    .dataframe thead th {\n",
       "        text-align: right;\n",
       "    }\n",
       "</style>\n",
       "<table border=\"1\" class=\"dataframe\">\n",
       "  <thead>\n",
       "    <tr style=\"text-align: right;\">\n",
       "      <th></th>\n",
       "      <th>surgery</th>\n",
       "      <th>age</th>\n",
       "      <th>hospital_number</th>\n",
       "      <th>temperature</th>\n",
       "      <th>pulse</th>\n",
       "      <th>respiratory_rate</th>\n",
       "      <th>temp_of_extremities</th>\n",
       "      <th>peripheral_pulse</th>\n",
       "      <th>mucous_membrane</th>\n",
       "      <th>capillary_refill_time</th>\n",
       "      <th>...</th>\n",
       "      <th>nasogastric_reflux_ph</th>\n",
       "      <th>rectal_exam_feces</th>\n",
       "      <th>abdomen</th>\n",
       "      <th>packed_cell_volume</th>\n",
       "      <th>total_protein</th>\n",
       "      <th>abdomo_appearance</th>\n",
       "      <th>abdomo_protein</th>\n",
       "      <th>outcome Class</th>\n",
       "      <th>surgical_lesion</th>\n",
       "      <th>lesion</th>\n",
       "    </tr>\n",
       "  </thead>\n",
       "  <tbody>\n",
       "    <tr>\n",
       "      <th>0</th>\n",
       "      <td>no</td>\n",
       "      <td>adult</td>\n",
       "      <td>530101</td>\n",
       "      <td>38.5</td>\n",
       "      <td>66.0</td>\n",
       "      <td>28.0</td>\n",
       "      <td>cool</td>\n",
       "      <td>reduced</td>\n",
       "      <td>NaN</td>\n",
       "      <td>more_3_sec</td>\n",
       "      <td>...</td>\n",
       "      <td>NaN</td>\n",
       "      <td>decreased</td>\n",
       "      <td>distend_large</td>\n",
       "      <td>45.0</td>\n",
       "      <td>8.4</td>\n",
       "      <td>NaN</td>\n",
       "      <td>NaN</td>\n",
       "      <td>died</td>\n",
       "      <td>no</td>\n",
       "      <td>11300</td>\n",
       "    </tr>\n",
       "    <tr>\n",
       "      <th>1</th>\n",
       "      <td>yes</td>\n",
       "      <td>adult</td>\n",
       "      <td>534817</td>\n",
       "      <td>39.2</td>\n",
       "      <td>88.0</td>\n",
       "      <td>20.0</td>\n",
       "      <td>NaN</td>\n",
       "      <td>NaN</td>\n",
       "      <td>pale_cyanotic</td>\n",
       "      <td>less_3_sec</td>\n",
       "      <td>...</td>\n",
       "      <td>NaN</td>\n",
       "      <td>absent</td>\n",
       "      <td>other</td>\n",
       "      <td>50.0</td>\n",
       "      <td>85.0</td>\n",
       "      <td>cloudy</td>\n",
       "      <td>2.0</td>\n",
       "      <td>euthanized</td>\n",
       "      <td>no</td>\n",
       "      <td>2208</td>\n",
       "    </tr>\n",
       "    <tr>\n",
       "      <th>2</th>\n",
       "      <td>no</td>\n",
       "      <td>adult</td>\n",
       "      <td>530334</td>\n",
       "      <td>38.3</td>\n",
       "      <td>40.0</td>\n",
       "      <td>24.0</td>\n",
       "      <td>normal</td>\n",
       "      <td>normal</td>\n",
       "      <td>pale_pink</td>\n",
       "      <td>less_3_sec</td>\n",
       "      <td>...</td>\n",
       "      <td>NaN</td>\n",
       "      <td>normal</td>\n",
       "      <td>normal</td>\n",
       "      <td>33.0</td>\n",
       "      <td>6.7</td>\n",
       "      <td>NaN</td>\n",
       "      <td>NaN</td>\n",
       "      <td>lived</td>\n",
       "      <td>no</td>\n",
       "      <td>0</td>\n",
       "    </tr>\n",
       "    <tr>\n",
       "      <th>3</th>\n",
       "      <td>yes</td>\n",
       "      <td>young</td>\n",
       "      <td>5290409</td>\n",
       "      <td>39.1</td>\n",
       "      <td>164.0</td>\n",
       "      <td>84.0</td>\n",
       "      <td>cold</td>\n",
       "      <td>normal</td>\n",
       "      <td>dark_cyanotic</td>\n",
       "      <td>more_3_sec</td>\n",
       "      <td>...</td>\n",
       "      <td>5.0</td>\n",
       "      <td>decreased</td>\n",
       "      <td>NaN</td>\n",
       "      <td>48.0</td>\n",
       "      <td>7.2</td>\n",
       "      <td>serosanguious</td>\n",
       "      <td>5.3</td>\n",
       "      <td>died</td>\n",
       "      <td>yes</td>\n",
       "      <td>2208</td>\n",
       "    </tr>\n",
       "    <tr>\n",
       "      <th>4</th>\n",
       "      <td>no</td>\n",
       "      <td>adult</td>\n",
       "      <td>530255</td>\n",
       "      <td>37.3</td>\n",
       "      <td>104.0</td>\n",
       "      <td>35.0</td>\n",
       "      <td>NaN</td>\n",
       "      <td>NaN</td>\n",
       "      <td>dark_cyanotic</td>\n",
       "      <td>more_3_sec</td>\n",
       "      <td>...</td>\n",
       "      <td>NaN</td>\n",
       "      <td>NaN</td>\n",
       "      <td>NaN</td>\n",
       "      <td>74.0</td>\n",
       "      <td>7.4</td>\n",
       "      <td>NaN</td>\n",
       "      <td>NaN</td>\n",
       "      <td>died</td>\n",
       "      <td>no</td>\n",
       "      <td>4300</td>\n",
       "    </tr>\n",
       "  </tbody>\n",
       "</table>\n",
       "<p>5 rows × 25 columns</p>\n",
       "</div>"
      ],
      "text/plain": [
       "  surgery    age  hospital_number  temperature  pulse  respiratory_rate  \\\n",
       "0      no  adult           530101         38.5   66.0              28.0   \n",
       "1     yes  adult           534817         39.2   88.0              20.0   \n",
       "2      no  adult           530334         38.3   40.0              24.0   \n",
       "3     yes  young          5290409         39.1  164.0              84.0   \n",
       "4      no  adult           530255         37.3  104.0              35.0   \n",
       "\n",
       "  temp_of_extremities peripheral_pulse mucous_membrane capillary_refill_time  \\\n",
       "0                cool          reduced             NaN            more_3_sec   \n",
       "1                 NaN              NaN   pale_cyanotic            less_3_sec   \n",
       "2              normal           normal       pale_pink            less_3_sec   \n",
       "3                cold           normal   dark_cyanotic            more_3_sec   \n",
       "4                 NaN              NaN   dark_cyanotic            more_3_sec   \n",
       "\n",
       "   ... nasogastric_reflux_ph rectal_exam_feces        abdomen  \\\n",
       "0  ...                   NaN         decreased  distend_large   \n",
       "1  ...                   NaN            absent          other   \n",
       "2  ...                   NaN            normal         normal   \n",
       "3  ...                   5.0         decreased            NaN   \n",
       "4  ...                   NaN               NaN            NaN   \n",
       "\n",
       "  packed_cell_volume total_protein  abdomo_appearance abdomo_protein  \\\n",
       "0               45.0           8.4                NaN            NaN   \n",
       "1               50.0          85.0             cloudy            2.0   \n",
       "2               33.0           6.7                NaN            NaN   \n",
       "3               48.0           7.2      serosanguious            5.3   \n",
       "4               74.0           7.4                NaN            NaN   \n",
       "\n",
       "  outcome Class  surgical_lesion  lesion  \n",
       "0          died               no   11300  \n",
       "1    euthanized               no    2208  \n",
       "2         lived               no       0  \n",
       "3          died              yes    2208  \n",
       "4          died               no    4300  \n",
       "\n",
       "[5 rows x 25 columns]"
      ]
     },
     "execution_count": 3,
     "metadata": {},
     "output_type": "execute_result"
    }
   ],
   "source": [
    "df_cow.head(5)"
   ]
  },
  {
   "cell_type": "markdown",
   "metadata": {},
   "source": [
    "---"
   ]
  },
  {
   "cell_type": "markdown",
   "metadata": {},
   "source": [
    "# Funtion"
   ]
  },
  {
   "cell_type": "markdown",
   "metadata": {},
   "source": [
    "## visualization"
   ]
  },
  {
   "cell_type": "code",
   "execution_count": 4,
   "metadata": {},
   "outputs": [],
   "source": [
    "#print graph loss & accuracy\n",
    "def plot_loss_accuracy(history):\n",
    "    print_score(history)\n",
    "    \n",
    "    fig = plt.figure(figsize=(12, 6))\n",
    "    ax = fig.add_subplot(1, 2, 1)\n",
    "    ax.plot(history.history[\"loss\"],'r-x', label=\"Train Loss\")\n",
    "    ax.plot(history.history[\"val_loss\"],'b-x', label=\"Validation Loss\")\n",
    "    ax.legend()\n",
    "    ax.set_title('cross_entropy loss')\n",
    "    ax.grid(True)\n",
    "\n",
    "\n",
    "    ax = fig.add_subplot(1, 2, 2)\n",
    "    ax.plot(history.history[\"accuracy\"],'r-x', label=\"Train Accuracy\")\n",
    "    ax.plot(history.history[\"val_accuracy\"],'b-x', label=\"Validation Accuracy\")\n",
    "    ax.legend()\n",
    "    ax.set_title('accuracy')\n",
    "    ax.grid(True)\n",
    "\n",
    "def print_score(history):\n",
    "    print(\"lastes accuracy and loss\")\n",
    "    print(\"train_loss : {:.4f}, val_loss : {:.4f}\\ntrain_acc : {:.4f}, val_acc : {:.4f}\".format(history.history['loss'][-1],\n",
    "                                                                                               history.history['val_loss'][-1],\n",
    "                                                                                               history.history['accuracy'][-1],\n",
    "                                                                                               history.history['val_accuracy'][-1]))"
   ]
  },
  {
   "cell_type": "code",
   "execution_count": 5,
   "metadata": {},
   "outputs": [],
   "source": [
    "def create_confusion_matrix(model,x_val,y_val,label_names):\n",
    "    y_probs = model.predict(x_val)\n",
    "    if(y_probs[0].size > 1):\n",
    "        y_preds = y_probs.argmax(axis=1)\n",
    "        y_val = y_val.argmax(axis=1)\n",
    "    else:\n",
    "        y_preds = y_probs\n",
    "    \n",
    "    #Confusion matrix\n",
    "    cm= confusion_matrix(y_val,y_preds)\n",
    "\n",
    "    #Plot\n",
    "    disp=ConfusionMatrixDisplay(confusion_matrix=cm,display_labels=label_names)\n",
    "    fig, ax = plt.subplots(figsize=(5,5))\n",
    "    disp.plot(ax=ax,xticks_rotation=45)"
   ]
  },
  {
   "cell_type": "markdown",
   "metadata": {},
   "source": [
    "## preprocessing"
   ]
  },
  {
   "cell_type": "code",
   "execution_count": 6,
   "metadata": {},
   "outputs": [],
   "source": [
    "#แปลง lesion ให้อยู่ในรูปแบบที่เหมาะสม 1111 = [1,1,1,1]\n",
    "def extract_lesion_column(lesion):\n",
    "    site, type_l, subtype, code = 'None', 'None', 'None', 'None'\n",
    "    if lesion != 0:\n",
    "        types = re.findall('^([1-9]|11|00)([1-4])([0-2])([1-9]|10|0)',str(lesion))\n",
    "        if types:\n",
    "            site, type_l, subtype, code = types[0]\n",
    "    return pd.Series({'site': site, 'type': type_l, 'subtype': subtype, 'code': code}, dtype='category')\n"
   ]
  },
  {
   "cell_type": "markdown",
   "metadata": {},
   "source": [
    "# Preprocess Data"
   ]
  },
  {
   "cell_type": "code",
   "execution_count": 7,
   "metadata": {},
   "outputs": [],
   "source": [
    "n_name = [\"lived\",\"died\",\"euthanized\"]"
   ]
  },
  {
   "cell_type": "code",
   "execution_count": 8,
   "metadata": {},
   "outputs": [],
   "source": [
    "df_cow.loc[:, ['site', 'type', 'subtype', 'code']] = df_cow.lesion.apply(extract_lesion_column).astype('category')"
   ]
  },
  {
   "cell_type": "code",
   "execution_count": 9,
   "metadata": {
    "scrolled": true
   },
   "outputs": [
    {
     "data": {
      "text/html": [
       "<div>\n",
       "<style scoped>\n",
       "    .dataframe tbody tr th:only-of-type {\n",
       "        vertical-align: middle;\n",
       "    }\n",
       "\n",
       "    .dataframe tbody tr th {\n",
       "        vertical-align: top;\n",
       "    }\n",
       "\n",
       "    .dataframe thead th {\n",
       "        text-align: right;\n",
       "    }\n",
       "</style>\n",
       "<table border=\"1\" class=\"dataframe\">\n",
       "  <thead>\n",
       "    <tr style=\"text-align: right;\">\n",
       "      <th></th>\n",
       "      <th>surgery</th>\n",
       "      <th>age</th>\n",
       "      <th>hospital_number</th>\n",
       "      <th>temperature</th>\n",
       "      <th>pulse</th>\n",
       "      <th>respiratory_rate</th>\n",
       "      <th>temp_of_extremities</th>\n",
       "      <th>peripheral_pulse</th>\n",
       "      <th>mucous_membrane</th>\n",
       "      <th>capillary_refill_time</th>\n",
       "      <th>...</th>\n",
       "      <th>total_protein</th>\n",
       "      <th>abdomo_appearance</th>\n",
       "      <th>abdomo_protein</th>\n",
       "      <th>outcome Class</th>\n",
       "      <th>surgical_lesion</th>\n",
       "      <th>lesion</th>\n",
       "      <th>site</th>\n",
       "      <th>type</th>\n",
       "      <th>subtype</th>\n",
       "      <th>code</th>\n",
       "    </tr>\n",
       "  </thead>\n",
       "  <tbody>\n",
       "    <tr>\n",
       "      <th>0</th>\n",
       "      <td>no</td>\n",
       "      <td>adult</td>\n",
       "      <td>530101</td>\n",
       "      <td>38.5</td>\n",
       "      <td>66.0</td>\n",
       "      <td>28.0</td>\n",
       "      <td>cool</td>\n",
       "      <td>reduced</td>\n",
       "      <td>NaN</td>\n",
       "      <td>more_3_sec</td>\n",
       "      <td>...</td>\n",
       "      <td>8.4</td>\n",
       "      <td>NaN</td>\n",
       "      <td>NaN</td>\n",
       "      <td>died</td>\n",
       "      <td>no</td>\n",
       "      <td>11300</td>\n",
       "      <td>11</td>\n",
       "      <td>3</td>\n",
       "      <td>0</td>\n",
       "      <td>0</td>\n",
       "    </tr>\n",
       "    <tr>\n",
       "      <th>1</th>\n",
       "      <td>yes</td>\n",
       "      <td>adult</td>\n",
       "      <td>534817</td>\n",
       "      <td>39.2</td>\n",
       "      <td>88.0</td>\n",
       "      <td>20.0</td>\n",
       "      <td>NaN</td>\n",
       "      <td>NaN</td>\n",
       "      <td>pale_cyanotic</td>\n",
       "      <td>less_3_sec</td>\n",
       "      <td>...</td>\n",
       "      <td>85.0</td>\n",
       "      <td>cloudy</td>\n",
       "      <td>2.0</td>\n",
       "      <td>euthanized</td>\n",
       "      <td>no</td>\n",
       "      <td>2208</td>\n",
       "      <td>2</td>\n",
       "      <td>2</td>\n",
       "      <td>0</td>\n",
       "      <td>8</td>\n",
       "    </tr>\n",
       "    <tr>\n",
       "      <th>2</th>\n",
       "      <td>no</td>\n",
       "      <td>adult</td>\n",
       "      <td>530334</td>\n",
       "      <td>38.3</td>\n",
       "      <td>40.0</td>\n",
       "      <td>24.0</td>\n",
       "      <td>normal</td>\n",
       "      <td>normal</td>\n",
       "      <td>pale_pink</td>\n",
       "      <td>less_3_sec</td>\n",
       "      <td>...</td>\n",
       "      <td>6.7</td>\n",
       "      <td>NaN</td>\n",
       "      <td>NaN</td>\n",
       "      <td>lived</td>\n",
       "      <td>no</td>\n",
       "      <td>0</td>\n",
       "      <td>None</td>\n",
       "      <td>None</td>\n",
       "      <td>None</td>\n",
       "      <td>None</td>\n",
       "    </tr>\n",
       "    <tr>\n",
       "      <th>3</th>\n",
       "      <td>yes</td>\n",
       "      <td>young</td>\n",
       "      <td>5290409</td>\n",
       "      <td>39.1</td>\n",
       "      <td>164.0</td>\n",
       "      <td>84.0</td>\n",
       "      <td>cold</td>\n",
       "      <td>normal</td>\n",
       "      <td>dark_cyanotic</td>\n",
       "      <td>more_3_sec</td>\n",
       "      <td>...</td>\n",
       "      <td>7.2</td>\n",
       "      <td>serosanguious</td>\n",
       "      <td>5.3</td>\n",
       "      <td>died</td>\n",
       "      <td>yes</td>\n",
       "      <td>2208</td>\n",
       "      <td>2</td>\n",
       "      <td>2</td>\n",
       "      <td>0</td>\n",
       "      <td>8</td>\n",
       "    </tr>\n",
       "    <tr>\n",
       "      <th>4</th>\n",
       "      <td>no</td>\n",
       "      <td>adult</td>\n",
       "      <td>530255</td>\n",
       "      <td>37.3</td>\n",
       "      <td>104.0</td>\n",
       "      <td>35.0</td>\n",
       "      <td>NaN</td>\n",
       "      <td>NaN</td>\n",
       "      <td>dark_cyanotic</td>\n",
       "      <td>more_3_sec</td>\n",
       "      <td>...</td>\n",
       "      <td>7.4</td>\n",
       "      <td>NaN</td>\n",
       "      <td>NaN</td>\n",
       "      <td>died</td>\n",
       "      <td>no</td>\n",
       "      <td>4300</td>\n",
       "      <td>4</td>\n",
       "      <td>3</td>\n",
       "      <td>0</td>\n",
       "      <td>0</td>\n",
       "    </tr>\n",
       "  </tbody>\n",
       "</table>\n",
       "<p>5 rows × 29 columns</p>\n",
       "</div>"
      ],
      "text/plain": [
       "  surgery    age  hospital_number  temperature  pulse  respiratory_rate  \\\n",
       "0      no  adult           530101         38.5   66.0              28.0   \n",
       "1     yes  adult           534817         39.2   88.0              20.0   \n",
       "2      no  adult           530334         38.3   40.0              24.0   \n",
       "3     yes  young          5290409         39.1  164.0              84.0   \n",
       "4      no  adult           530255         37.3  104.0              35.0   \n",
       "\n",
       "  temp_of_extremities peripheral_pulse mucous_membrane capillary_refill_time  \\\n",
       "0                cool          reduced             NaN            more_3_sec   \n",
       "1                 NaN              NaN   pale_cyanotic            less_3_sec   \n",
       "2              normal           normal       pale_pink            less_3_sec   \n",
       "3                cold           normal   dark_cyanotic            more_3_sec   \n",
       "4                 NaN              NaN   dark_cyanotic            more_3_sec   \n",
       "\n",
       "   ... total_protein abdomo_appearance abdomo_protein outcome Class  \\\n",
       "0  ...           8.4               NaN            NaN          died   \n",
       "1  ...          85.0            cloudy            2.0    euthanized   \n",
       "2  ...           6.7               NaN            NaN         lived   \n",
       "3  ...           7.2     serosanguious            5.3          died   \n",
       "4  ...           7.4               NaN            NaN          died   \n",
       "\n",
       "  surgical_lesion  lesion  site  type  subtype  code  \n",
       "0              no   11300    11     3        0     0  \n",
       "1              no    2208     2     2        0     8  \n",
       "2              no       0  None  None     None  None  \n",
       "3             yes    2208     2     2        0     8  \n",
       "4              no    4300     4     3        0     0  \n",
       "\n",
       "[5 rows x 29 columns]"
      ]
     },
     "execution_count": 9,
     "metadata": {},
     "output_type": "execute_result"
    }
   ],
   "source": [
    "df_cow.head()"
   ]
  },
  {
   "cell_type": "code",
   "execution_count": 10,
   "metadata": {
    "scrolled": false
   },
   "outputs": [
    {
     "data": {
      "text/html": [
       "<div>\n",
       "<style scoped>\n",
       "    .dataframe tbody tr th:only-of-type {\n",
       "        vertical-align: middle;\n",
       "    }\n",
       "\n",
       "    .dataframe tbody tr th {\n",
       "        vertical-align: top;\n",
       "    }\n",
       "\n",
       "    .dataframe thead th {\n",
       "        text-align: right;\n",
       "    }\n",
       "</style>\n",
       "<table border=\"1\" class=\"dataframe\">\n",
       "  <thead>\n",
       "    <tr style=\"text-align: right;\">\n",
       "      <th></th>\n",
       "      <th>surgery</th>\n",
       "      <th>age</th>\n",
       "      <th>temperature</th>\n",
       "      <th>pulse</th>\n",
       "      <th>respiratory_rate</th>\n",
       "      <th>temp_of_extremities</th>\n",
       "      <th>peripheral_pulse</th>\n",
       "      <th>mucous_membrane</th>\n",
       "      <th>capillary_refill_time</th>\n",
       "      <th>pain</th>\n",
       "      <th>...</th>\n",
       "      <th>abdomen</th>\n",
       "      <th>packed_cell_volume</th>\n",
       "      <th>total_protein</th>\n",
       "      <th>abdomo_appearance</th>\n",
       "      <th>abdomo_protein</th>\n",
       "      <th>surgical_lesion</th>\n",
       "      <th>site</th>\n",
       "      <th>type</th>\n",
       "      <th>subtype</th>\n",
       "      <th>code</th>\n",
       "    </tr>\n",
       "  </thead>\n",
       "  <tbody>\n",
       "    <tr>\n",
       "      <th>0</th>\n",
       "      <td>no</td>\n",
       "      <td>adult</td>\n",
       "      <td>38.5</td>\n",
       "      <td>66.0</td>\n",
       "      <td>28.0</td>\n",
       "      <td>cool</td>\n",
       "      <td>reduced</td>\n",
       "      <td>NaN</td>\n",
       "      <td>more_3_sec</td>\n",
       "      <td>extreme_pain</td>\n",
       "      <td>...</td>\n",
       "      <td>distend_large</td>\n",
       "      <td>45.0</td>\n",
       "      <td>8.4</td>\n",
       "      <td>NaN</td>\n",
       "      <td>NaN</td>\n",
       "      <td>no</td>\n",
       "      <td>11</td>\n",
       "      <td>3</td>\n",
       "      <td>0</td>\n",
       "      <td>0</td>\n",
       "    </tr>\n",
       "    <tr>\n",
       "      <th>1</th>\n",
       "      <td>yes</td>\n",
       "      <td>adult</td>\n",
       "      <td>39.2</td>\n",
       "      <td>88.0</td>\n",
       "      <td>20.0</td>\n",
       "      <td>NaN</td>\n",
       "      <td>NaN</td>\n",
       "      <td>pale_cyanotic</td>\n",
       "      <td>less_3_sec</td>\n",
       "      <td>mild_pain</td>\n",
       "      <td>...</td>\n",
       "      <td>other</td>\n",
       "      <td>50.0</td>\n",
       "      <td>85.0</td>\n",
       "      <td>cloudy</td>\n",
       "      <td>2.0</td>\n",
       "      <td>no</td>\n",
       "      <td>2</td>\n",
       "      <td>2</td>\n",
       "      <td>0</td>\n",
       "      <td>8</td>\n",
       "    </tr>\n",
       "    <tr>\n",
       "      <th>2</th>\n",
       "      <td>no</td>\n",
       "      <td>adult</td>\n",
       "      <td>38.3</td>\n",
       "      <td>40.0</td>\n",
       "      <td>24.0</td>\n",
       "      <td>normal</td>\n",
       "      <td>normal</td>\n",
       "      <td>pale_pink</td>\n",
       "      <td>less_3_sec</td>\n",
       "      <td>mild_pain</td>\n",
       "      <td>...</td>\n",
       "      <td>normal</td>\n",
       "      <td>33.0</td>\n",
       "      <td>6.7</td>\n",
       "      <td>NaN</td>\n",
       "      <td>NaN</td>\n",
       "      <td>no</td>\n",
       "      <td>None</td>\n",
       "      <td>None</td>\n",
       "      <td>None</td>\n",
       "      <td>None</td>\n",
       "    </tr>\n",
       "    <tr>\n",
       "      <th>3</th>\n",
       "      <td>yes</td>\n",
       "      <td>young</td>\n",
       "      <td>39.1</td>\n",
       "      <td>164.0</td>\n",
       "      <td>84.0</td>\n",
       "      <td>cold</td>\n",
       "      <td>normal</td>\n",
       "      <td>dark_cyanotic</td>\n",
       "      <td>more_3_sec</td>\n",
       "      <td>depressed</td>\n",
       "      <td>...</td>\n",
       "      <td>NaN</td>\n",
       "      <td>48.0</td>\n",
       "      <td>7.2</td>\n",
       "      <td>serosanguious</td>\n",
       "      <td>5.3</td>\n",
       "      <td>yes</td>\n",
       "      <td>2</td>\n",
       "      <td>2</td>\n",
       "      <td>0</td>\n",
       "      <td>8</td>\n",
       "    </tr>\n",
       "    <tr>\n",
       "      <th>4</th>\n",
       "      <td>no</td>\n",
       "      <td>adult</td>\n",
       "      <td>37.3</td>\n",
       "      <td>104.0</td>\n",
       "      <td>35.0</td>\n",
       "      <td>NaN</td>\n",
       "      <td>NaN</td>\n",
       "      <td>dark_cyanotic</td>\n",
       "      <td>more_3_sec</td>\n",
       "      <td>NaN</td>\n",
       "      <td>...</td>\n",
       "      <td>NaN</td>\n",
       "      <td>74.0</td>\n",
       "      <td>7.4</td>\n",
       "      <td>NaN</td>\n",
       "      <td>NaN</td>\n",
       "      <td>no</td>\n",
       "      <td>4</td>\n",
       "      <td>3</td>\n",
       "      <td>0</td>\n",
       "      <td>0</td>\n",
       "    </tr>\n",
       "  </tbody>\n",
       "</table>\n",
       "<p>5 rows × 26 columns</p>\n",
       "</div>"
      ],
      "text/plain": [
       "  surgery    age  temperature  pulse  respiratory_rate temp_of_extremities  \\\n",
       "0      no  adult         38.5   66.0              28.0                cool   \n",
       "1     yes  adult         39.2   88.0              20.0                 NaN   \n",
       "2      no  adult         38.3   40.0              24.0              normal   \n",
       "3     yes  young         39.1  164.0              84.0                cold   \n",
       "4      no  adult         37.3  104.0              35.0                 NaN   \n",
       "\n",
       "  peripheral_pulse mucous_membrane capillary_refill_time          pain  ...  \\\n",
       "0          reduced             NaN            more_3_sec  extreme_pain  ...   \n",
       "1              NaN   pale_cyanotic            less_3_sec     mild_pain  ...   \n",
       "2           normal       pale_pink            less_3_sec     mild_pain  ...   \n",
       "3           normal   dark_cyanotic            more_3_sec     depressed  ...   \n",
       "4              NaN   dark_cyanotic            more_3_sec           NaN  ...   \n",
       "\n",
       "         abdomen packed_cell_volume total_protein abdomo_appearance  \\\n",
       "0  distend_large               45.0           8.4               NaN   \n",
       "1          other               50.0          85.0            cloudy   \n",
       "2         normal               33.0           6.7               NaN   \n",
       "3            NaN               48.0           7.2     serosanguious   \n",
       "4            NaN               74.0           7.4               NaN   \n",
       "\n",
       "   abdomo_protein surgical_lesion  site  type  subtype  code  \n",
       "0             NaN              no    11     3        0     0  \n",
       "1             2.0              no     2     2        0     8  \n",
       "2             NaN              no  None  None     None  None  \n",
       "3             5.3             yes     2     2        0     8  \n",
       "4             NaN              no     4     3        0     0  \n",
       "\n",
       "[5 rows x 26 columns]"
      ]
     },
     "execution_count": 10,
     "metadata": {},
     "output_type": "execute_result"
    }
   ],
   "source": [
    "#drop column ที่ไม่จำเป็น\n",
    "if \"outcome Class\" in df_cow.columns:\n",
    "    y = df_cow['outcome Class']\n",
    "    df_cow.drop(columns=[\"outcome Class\"], inplace=True)\n",
    "if \"lesion\" in df_cow.columns:\n",
    "    df_cow.drop(columns=['hospital_number',\"lesion\"], inplace=True)\n",
    "df_cow.head()"
   ]
  },
  {
   "cell_type": "code",
   "execution_count": 11,
   "metadata": {
    "scrolled": true
   },
   "outputs": [],
   "source": [
    "#แยกประเภท columns\n",
    "numerical = list(df_cow._get_numeric_data().columns)\n",
    "categorical = list(set(df_cow.columns) - set(numerical))"
   ]
  },
  {
   "cell_type": "code",
   "execution_count": 12,
   "metadata": {
    "scrolled": true
   },
   "outputs": [
    {
     "data": {
      "text/plain": [
       "temperature              38.168619\n",
       "pulse                    72.000000\n",
       "respiratory_rate         30.460581\n",
       "nasogastric_reflux_ph     4.707547\n",
       "packed_cell_volume       46.307407\n",
       "total_protein            24.274436\n",
       "abdomo_protein            3.039604\n",
       "dtype: float64"
      ]
     },
     "execution_count": 12,
     "metadata": {},
     "output_type": "execute_result"
    }
   ],
   "source": [
    "#แทน Na ของ feature numerical ด้วยค่า mean\n",
    "df_cow.fillna(df_cow.mean(numeric_only=True), inplace=True)\n",
    "df_cow.mean(numeric_only=True)"
   ]
  },
  {
   "cell_type": "code",
   "execution_count": 13,
   "metadata": {},
   "outputs": [
    {
     "data": {
      "text/html": [
       "<div>\n",
       "<style scoped>\n",
       "    .dataframe tbody tr th:only-of-type {\n",
       "        vertical-align: middle;\n",
       "    }\n",
       "\n",
       "    .dataframe tbody tr th {\n",
       "        vertical-align: top;\n",
       "    }\n",
       "\n",
       "    .dataframe thead th {\n",
       "        text-align: right;\n",
       "    }\n",
       "</style>\n",
       "<table border=\"1\" class=\"dataframe\">\n",
       "  <thead>\n",
       "    <tr style=\"text-align: right;\">\n",
       "      <th></th>\n",
       "      <th>temperature</th>\n",
       "      <th>pulse</th>\n",
       "      <th>respiratory_rate</th>\n",
       "      <th>nasogastric_reflux_ph</th>\n",
       "      <th>packed_cell_volume</th>\n",
       "      <th>total_protein</th>\n",
       "      <th>abdomo_protein</th>\n",
       "    </tr>\n",
       "  </thead>\n",
       "  <tbody>\n",
       "    <tr>\n",
       "      <th>0</th>\n",
       "      <td>38.5</td>\n",
       "      <td>66.0</td>\n",
       "      <td>28.0</td>\n",
       "      <td>4.707547</td>\n",
       "      <td>45.0</td>\n",
       "      <td>8.4</td>\n",
       "      <td>3.039604</td>\n",
       "    </tr>\n",
       "    <tr>\n",
       "      <th>1</th>\n",
       "      <td>39.2</td>\n",
       "      <td>88.0</td>\n",
       "      <td>20.0</td>\n",
       "      <td>4.707547</td>\n",
       "      <td>50.0</td>\n",
       "      <td>85.0</td>\n",
       "      <td>2.000000</td>\n",
       "    </tr>\n",
       "    <tr>\n",
       "      <th>2</th>\n",
       "      <td>38.3</td>\n",
       "      <td>40.0</td>\n",
       "      <td>24.0</td>\n",
       "      <td>4.707547</td>\n",
       "      <td>33.0</td>\n",
       "      <td>6.7</td>\n",
       "      <td>3.039604</td>\n",
       "    </tr>\n",
       "    <tr>\n",
       "      <th>3</th>\n",
       "      <td>39.1</td>\n",
       "      <td>164.0</td>\n",
       "      <td>84.0</td>\n",
       "      <td>5.000000</td>\n",
       "      <td>48.0</td>\n",
       "      <td>7.2</td>\n",
       "      <td>5.300000</td>\n",
       "    </tr>\n",
       "    <tr>\n",
       "      <th>4</th>\n",
       "      <td>37.3</td>\n",
       "      <td>104.0</td>\n",
       "      <td>35.0</td>\n",
       "      <td>4.707547</td>\n",
       "      <td>74.0</td>\n",
       "      <td>7.4</td>\n",
       "      <td>3.039604</td>\n",
       "    </tr>\n",
       "  </tbody>\n",
       "</table>\n",
       "</div>"
      ],
      "text/plain": [
       "   temperature  pulse  respiratory_rate  nasogastric_reflux_ph  \\\n",
       "0         38.5   66.0              28.0               4.707547   \n",
       "1         39.2   88.0              20.0               4.707547   \n",
       "2         38.3   40.0              24.0               4.707547   \n",
       "3         39.1  164.0              84.0               5.000000   \n",
       "4         37.3  104.0              35.0               4.707547   \n",
       "\n",
       "   packed_cell_volume  total_protein  abdomo_protein  \n",
       "0                45.0            8.4        3.039604  \n",
       "1                50.0           85.0        2.000000  \n",
       "2                33.0            6.7        3.039604  \n",
       "3                48.0            7.2        5.300000  \n",
       "4                74.0            7.4        3.039604  "
      ]
     },
     "execution_count": 13,
     "metadata": {},
     "output_type": "execute_result"
    }
   ],
   "source": [
    "df_cow_numerical = df_cow[numerical].copy()\n",
    "df_cow_numerical.head()"
   ]
  },
  {
   "cell_type": "code",
   "execution_count": 14,
   "metadata": {
    "scrolled": true
   },
   "outputs": [
    {
     "data": {
      "text/html": [
       "<div>\n",
       "<style scoped>\n",
       "    .dataframe tbody tr th:only-of-type {\n",
       "        vertical-align: middle;\n",
       "    }\n",
       "\n",
       "    .dataframe tbody tr th {\n",
       "        vertical-align: top;\n",
       "    }\n",
       "\n",
       "    .dataframe thead th {\n",
       "        text-align: right;\n",
       "    }\n",
       "</style>\n",
       "<table border=\"1\" class=\"dataframe\">\n",
       "  <thead>\n",
       "    <tr style=\"text-align: right;\">\n",
       "      <th></th>\n",
       "      <th>capillary_refill_time_3</th>\n",
       "      <th>capillary_refill_time_less_3_sec</th>\n",
       "      <th>capillary_refill_time_more_3_sec</th>\n",
       "      <th>capillary_refill_time_nan</th>\n",
       "      <th>abdomo_appearance_clear</th>\n",
       "      <th>abdomo_appearance_cloudy</th>\n",
       "      <th>abdomo_appearance_serosanguious</th>\n",
       "      <th>abdomo_appearance_nan</th>\n",
       "      <th>age_adult</th>\n",
       "      <th>age_young</th>\n",
       "      <th>...</th>\n",
       "      <th>abdomen_normal</th>\n",
       "      <th>abdomen_other</th>\n",
       "      <th>abdomen_nan</th>\n",
       "      <th>nasogastric_reflux_less_1_liter</th>\n",
       "      <th>nasogastric_reflux_more_1_liter</th>\n",
       "      <th>nasogastric_reflux_none</th>\n",
       "      <th>nasogastric_reflux_nan</th>\n",
       "      <th>surgery_no</th>\n",
       "      <th>surgery_yes</th>\n",
       "      <th>surgery_nan</th>\n",
       "    </tr>\n",
       "  </thead>\n",
       "  <tbody>\n",
       "    <tr>\n",
       "      <th>0</th>\n",
       "      <td>0</td>\n",
       "      <td>0</td>\n",
       "      <td>1</td>\n",
       "      <td>0</td>\n",
       "      <td>0</td>\n",
       "      <td>0</td>\n",
       "      <td>0</td>\n",
       "      <td>1</td>\n",
       "      <td>1</td>\n",
       "      <td>0</td>\n",
       "      <td>...</td>\n",
       "      <td>0</td>\n",
       "      <td>0</td>\n",
       "      <td>0</td>\n",
       "      <td>0</td>\n",
       "      <td>0</td>\n",
       "      <td>0</td>\n",
       "      <td>1</td>\n",
       "      <td>1</td>\n",
       "      <td>0</td>\n",
       "      <td>0</td>\n",
       "    </tr>\n",
       "    <tr>\n",
       "      <th>1</th>\n",
       "      <td>0</td>\n",
       "      <td>1</td>\n",
       "      <td>0</td>\n",
       "      <td>0</td>\n",
       "      <td>0</td>\n",
       "      <td>1</td>\n",
       "      <td>0</td>\n",
       "      <td>0</td>\n",
       "      <td>1</td>\n",
       "      <td>0</td>\n",
       "      <td>...</td>\n",
       "      <td>0</td>\n",
       "      <td>1</td>\n",
       "      <td>0</td>\n",
       "      <td>0</td>\n",
       "      <td>0</td>\n",
       "      <td>0</td>\n",
       "      <td>1</td>\n",
       "      <td>0</td>\n",
       "      <td>1</td>\n",
       "      <td>0</td>\n",
       "    </tr>\n",
       "    <tr>\n",
       "      <th>2</th>\n",
       "      <td>0</td>\n",
       "      <td>1</td>\n",
       "      <td>0</td>\n",
       "      <td>0</td>\n",
       "      <td>0</td>\n",
       "      <td>0</td>\n",
       "      <td>0</td>\n",
       "      <td>1</td>\n",
       "      <td>1</td>\n",
       "      <td>0</td>\n",
       "      <td>...</td>\n",
       "      <td>1</td>\n",
       "      <td>0</td>\n",
       "      <td>0</td>\n",
       "      <td>0</td>\n",
       "      <td>0</td>\n",
       "      <td>0</td>\n",
       "      <td>1</td>\n",
       "      <td>1</td>\n",
       "      <td>0</td>\n",
       "      <td>0</td>\n",
       "    </tr>\n",
       "    <tr>\n",
       "      <th>3</th>\n",
       "      <td>0</td>\n",
       "      <td>0</td>\n",
       "      <td>1</td>\n",
       "      <td>0</td>\n",
       "      <td>0</td>\n",
       "      <td>0</td>\n",
       "      <td>1</td>\n",
       "      <td>0</td>\n",
       "      <td>0</td>\n",
       "      <td>1</td>\n",
       "      <td>...</td>\n",
       "      <td>0</td>\n",
       "      <td>0</td>\n",
       "      <td>1</td>\n",
       "      <td>1</td>\n",
       "      <td>0</td>\n",
       "      <td>0</td>\n",
       "      <td>0</td>\n",
       "      <td>0</td>\n",
       "      <td>1</td>\n",
       "      <td>0</td>\n",
       "    </tr>\n",
       "    <tr>\n",
       "      <th>4</th>\n",
       "      <td>0</td>\n",
       "      <td>0</td>\n",
       "      <td>1</td>\n",
       "      <td>0</td>\n",
       "      <td>0</td>\n",
       "      <td>0</td>\n",
       "      <td>0</td>\n",
       "      <td>1</td>\n",
       "      <td>1</td>\n",
       "      <td>0</td>\n",
       "      <td>...</td>\n",
       "      <td>0</td>\n",
       "      <td>0</td>\n",
       "      <td>1</td>\n",
       "      <td>0</td>\n",
       "      <td>0</td>\n",
       "      <td>0</td>\n",
       "      <td>1</td>\n",
       "      <td>1</td>\n",
       "      <td>0</td>\n",
       "      <td>0</td>\n",
       "    </tr>\n",
       "  </tbody>\n",
       "</table>\n",
       "<p>5 rows × 104 columns</p>\n",
       "</div>"
      ],
      "text/plain": [
       "   capillary_refill_time_3  capillary_refill_time_less_3_sec  \\\n",
       "0                        0                                 0   \n",
       "1                        0                                 1   \n",
       "2                        0                                 1   \n",
       "3                        0                                 0   \n",
       "4                        0                                 0   \n",
       "\n",
       "   capillary_refill_time_more_3_sec  capillary_refill_time_nan  \\\n",
       "0                                 1                          0   \n",
       "1                                 0                          0   \n",
       "2                                 0                          0   \n",
       "3                                 1                          0   \n",
       "4                                 1                          0   \n",
       "\n",
       "   abdomo_appearance_clear  abdomo_appearance_cloudy  \\\n",
       "0                        0                         0   \n",
       "1                        0                         1   \n",
       "2                        0                         0   \n",
       "3                        0                         0   \n",
       "4                        0                         0   \n",
       "\n",
       "   abdomo_appearance_serosanguious  abdomo_appearance_nan  age_adult  \\\n",
       "0                                0                      1          1   \n",
       "1                                0                      0          1   \n",
       "2                                0                      1          1   \n",
       "3                                1                      0          0   \n",
       "4                                0                      1          1   \n",
       "\n",
       "   age_young  ...  abdomen_normal  abdomen_other  abdomen_nan  \\\n",
       "0          0  ...               0              0            0   \n",
       "1          0  ...               0              1            0   \n",
       "2          0  ...               1              0            0   \n",
       "3          1  ...               0              0            1   \n",
       "4          0  ...               0              0            1   \n",
       "\n",
       "   nasogastric_reflux_less_1_liter  nasogastric_reflux_more_1_liter  \\\n",
       "0                                0                                0   \n",
       "1                                0                                0   \n",
       "2                                0                                0   \n",
       "3                                1                                0   \n",
       "4                                0                                0   \n",
       "\n",
       "   nasogastric_reflux_none  nasogastric_reflux_nan  surgery_no  surgery_yes  \\\n",
       "0                        0                       1           1            0   \n",
       "1                        0                       1           0            1   \n",
       "2                        0                       1           1            0   \n",
       "3                        0                       0           0            1   \n",
       "4                        0                       1           1            0   \n",
       "\n",
       "   surgery_nan  \n",
       "0            0  \n",
       "1            0  \n",
       "2            0  \n",
       "3            0  \n",
       "4            0  \n",
       "\n",
       "[5 rows x 104 columns]"
      ]
     },
     "execution_count": 14,
     "metadata": {},
     "output_type": "execute_result"
    }
   ],
   "source": [
    "#ทำ one hot enconder โดยนับ NaN เป็น class ใหม่\n",
    "df_cow_categorical = pd.DataFrame()\n",
    "\n",
    "for c in categorical:\n",
    "    encoded = pd.get_dummies(df_cow[c], dummy_na=True, prefix=c)\n",
    "    df_cow_categorical = pd.concat([df_cow_categorical, encoded], axis=1)\n",
    "\n",
    "df_cow_categorical.head()"
   ]
  },
  {
   "cell_type": "code",
   "execution_count": 15,
   "metadata": {
    "scrolled": false
   },
   "outputs": [
    {
     "data": {
      "text/html": [
       "<div>\n",
       "<style scoped>\n",
       "    .dataframe tbody tr th:only-of-type {\n",
       "        vertical-align: middle;\n",
       "    }\n",
       "\n",
       "    .dataframe tbody tr th {\n",
       "        vertical-align: top;\n",
       "    }\n",
       "\n",
       "    .dataframe thead th {\n",
       "        text-align: right;\n",
       "    }\n",
       "</style>\n",
       "<table border=\"1\" class=\"dataframe\">\n",
       "  <thead>\n",
       "    <tr style=\"text-align: right;\">\n",
       "      <th></th>\n",
       "      <th>temperature</th>\n",
       "      <th>pulse</th>\n",
       "      <th>respiratory_rate</th>\n",
       "      <th>nasogastric_reflux_ph</th>\n",
       "      <th>packed_cell_volume</th>\n",
       "      <th>total_protein</th>\n",
       "      <th>abdomo_protein</th>\n",
       "      <th>capillary_refill_time_3</th>\n",
       "      <th>capillary_refill_time_less_3_sec</th>\n",
       "      <th>capillary_refill_time_more_3_sec</th>\n",
       "      <th>...</th>\n",
       "      <th>abdomen_normal</th>\n",
       "      <th>abdomen_other</th>\n",
       "      <th>abdomen_nan</th>\n",
       "      <th>nasogastric_reflux_less_1_liter</th>\n",
       "      <th>nasogastric_reflux_more_1_liter</th>\n",
       "      <th>nasogastric_reflux_none</th>\n",
       "      <th>nasogastric_reflux_nan</th>\n",
       "      <th>surgery_no</th>\n",
       "      <th>surgery_yes</th>\n",
       "      <th>surgery_nan</th>\n",
       "    </tr>\n",
       "  </thead>\n",
       "  <tbody>\n",
       "    <tr>\n",
       "      <th>0</th>\n",
       "      <td>38.5</td>\n",
       "      <td>66.0</td>\n",
       "      <td>28.0</td>\n",
       "      <td>4.707547</td>\n",
       "      <td>45.0</td>\n",
       "      <td>8.4</td>\n",
       "      <td>3.039604</td>\n",
       "      <td>0</td>\n",
       "      <td>0</td>\n",
       "      <td>1</td>\n",
       "      <td>...</td>\n",
       "      <td>0</td>\n",
       "      <td>0</td>\n",
       "      <td>0</td>\n",
       "      <td>0</td>\n",
       "      <td>0</td>\n",
       "      <td>0</td>\n",
       "      <td>1</td>\n",
       "      <td>1</td>\n",
       "      <td>0</td>\n",
       "      <td>0</td>\n",
       "    </tr>\n",
       "    <tr>\n",
       "      <th>1</th>\n",
       "      <td>39.2</td>\n",
       "      <td>88.0</td>\n",
       "      <td>20.0</td>\n",
       "      <td>4.707547</td>\n",
       "      <td>50.0</td>\n",
       "      <td>85.0</td>\n",
       "      <td>2.000000</td>\n",
       "      <td>0</td>\n",
       "      <td>1</td>\n",
       "      <td>0</td>\n",
       "      <td>...</td>\n",
       "      <td>0</td>\n",
       "      <td>1</td>\n",
       "      <td>0</td>\n",
       "      <td>0</td>\n",
       "      <td>0</td>\n",
       "      <td>0</td>\n",
       "      <td>1</td>\n",
       "      <td>0</td>\n",
       "      <td>1</td>\n",
       "      <td>0</td>\n",
       "    </tr>\n",
       "    <tr>\n",
       "      <th>2</th>\n",
       "      <td>38.3</td>\n",
       "      <td>40.0</td>\n",
       "      <td>24.0</td>\n",
       "      <td>4.707547</td>\n",
       "      <td>33.0</td>\n",
       "      <td>6.7</td>\n",
       "      <td>3.039604</td>\n",
       "      <td>0</td>\n",
       "      <td>1</td>\n",
       "      <td>0</td>\n",
       "      <td>...</td>\n",
       "      <td>1</td>\n",
       "      <td>0</td>\n",
       "      <td>0</td>\n",
       "      <td>0</td>\n",
       "      <td>0</td>\n",
       "      <td>0</td>\n",
       "      <td>1</td>\n",
       "      <td>1</td>\n",
       "      <td>0</td>\n",
       "      <td>0</td>\n",
       "    </tr>\n",
       "    <tr>\n",
       "      <th>3</th>\n",
       "      <td>39.1</td>\n",
       "      <td>164.0</td>\n",
       "      <td>84.0</td>\n",
       "      <td>5.000000</td>\n",
       "      <td>48.0</td>\n",
       "      <td>7.2</td>\n",
       "      <td>5.300000</td>\n",
       "      <td>0</td>\n",
       "      <td>0</td>\n",
       "      <td>1</td>\n",
       "      <td>...</td>\n",
       "      <td>0</td>\n",
       "      <td>0</td>\n",
       "      <td>1</td>\n",
       "      <td>1</td>\n",
       "      <td>0</td>\n",
       "      <td>0</td>\n",
       "      <td>0</td>\n",
       "      <td>0</td>\n",
       "      <td>1</td>\n",
       "      <td>0</td>\n",
       "    </tr>\n",
       "    <tr>\n",
       "      <th>4</th>\n",
       "      <td>37.3</td>\n",
       "      <td>104.0</td>\n",
       "      <td>35.0</td>\n",
       "      <td>4.707547</td>\n",
       "      <td>74.0</td>\n",
       "      <td>7.4</td>\n",
       "      <td>3.039604</td>\n",
       "      <td>0</td>\n",
       "      <td>0</td>\n",
       "      <td>1</td>\n",
       "      <td>...</td>\n",
       "      <td>0</td>\n",
       "      <td>0</td>\n",
       "      <td>1</td>\n",
       "      <td>0</td>\n",
       "      <td>0</td>\n",
       "      <td>0</td>\n",
       "      <td>1</td>\n",
       "      <td>1</td>\n",
       "      <td>0</td>\n",
       "      <td>0</td>\n",
       "    </tr>\n",
       "  </tbody>\n",
       "</table>\n",
       "<p>5 rows × 111 columns</p>\n",
       "</div>"
      ],
      "text/plain": [
       "   temperature  pulse  respiratory_rate  nasogastric_reflux_ph  \\\n",
       "0         38.5   66.0              28.0               4.707547   \n",
       "1         39.2   88.0              20.0               4.707547   \n",
       "2         38.3   40.0              24.0               4.707547   \n",
       "3         39.1  164.0              84.0               5.000000   \n",
       "4         37.3  104.0              35.0               4.707547   \n",
       "\n",
       "   packed_cell_volume  total_protein  abdomo_protein  capillary_refill_time_3  \\\n",
       "0                45.0            8.4        3.039604                        0   \n",
       "1                50.0           85.0        2.000000                        0   \n",
       "2                33.0            6.7        3.039604                        0   \n",
       "3                48.0            7.2        5.300000                        0   \n",
       "4                74.0            7.4        3.039604                        0   \n",
       "\n",
       "   capillary_refill_time_less_3_sec  capillary_refill_time_more_3_sec  ...  \\\n",
       "0                                 0                                 1  ...   \n",
       "1                                 1                                 0  ...   \n",
       "2                                 1                                 0  ...   \n",
       "3                                 0                                 1  ...   \n",
       "4                                 0                                 1  ...   \n",
       "\n",
       "   abdomen_normal  abdomen_other  abdomen_nan  \\\n",
       "0               0              0            0   \n",
       "1               0              1            0   \n",
       "2               1              0            0   \n",
       "3               0              0            1   \n",
       "4               0              0            1   \n",
       "\n",
       "   nasogastric_reflux_less_1_liter  nasogastric_reflux_more_1_liter  \\\n",
       "0                                0                                0   \n",
       "1                                0                                0   \n",
       "2                                0                                0   \n",
       "3                                1                                0   \n",
       "4                                0                                0   \n",
       "\n",
       "   nasogastric_reflux_none  nasogastric_reflux_nan  surgery_no  surgery_yes  \\\n",
       "0                        0                       1           1            0   \n",
       "1                        0                       1           0            1   \n",
       "2                        0                       1           1            0   \n",
       "3                        0                       0           0            1   \n",
       "4                        0                       1           1            0   \n",
       "\n",
       "   surgery_nan  \n",
       "0            0  \n",
       "1            0  \n",
       "2            0  \n",
       "3            0  \n",
       "4            0  \n",
       "\n",
       "[5 rows x 111 columns]"
      ]
     },
     "execution_count": 15,
     "metadata": {},
     "output_type": "execute_result"
    }
   ],
   "source": [
    "df_cow_data = pd.concat([df_cow_numerical,df_cow_categorical],axis=1)\n",
    "df_cow_data.head()"
   ]
  },
  {
   "cell_type": "code",
   "execution_count": 16,
   "metadata": {},
   "outputs": [
    {
     "data": {
      "text/plain": [
       "0    1\n",
       "1    2\n",
       "2    0\n",
       "3    1\n",
       "4    1\n",
       "Name: outcome Class, dtype: int64"
      ]
     },
     "execution_count": 16,
     "metadata": {},
     "output_type": "execute_result"
    }
   ],
   "source": [
    "y = y.map({\"lived\": 0, \"died\": 1, \"euthanized\": 2})\n",
    "y.head()"
   ]
  },
  {
   "cell_type": "code",
   "execution_count": 17,
   "metadata": {},
   "outputs": [],
   "source": [
    "X = df_cow_data.values"
   ]
  },
  {
   "cell_type": "code",
   "execution_count": 18,
   "metadata": {
    "scrolled": true
   },
   "outputs": [
    {
     "data": {
      "text/plain": [
       "((299, 111), (299,))"
      ]
     },
     "execution_count": 18,
     "metadata": {},
     "output_type": "execute_result"
    }
   ],
   "source": [
    "X.shape, y.shape"
   ]
  },
  {
   "cell_type": "code",
   "execution_count": 19,
   "metadata": {},
   "outputs": [],
   "source": [
    "#แบ่งข้อมูล train test\n",
    "X_train, X_test, y_train, y_test = train_test_split(X, y, train_size=0.8, stratify=y,random_state=1234)"
   ]
  },
  {
   "cell_type": "code",
   "execution_count": 20,
   "metadata": {},
   "outputs": [
    {
     "name": "stdout",
     "output_type": "stream",
     "text": [
      "(array([0, 1, 2], dtype=int64), array([142,  62,  35], dtype=int64))\n"
     ]
    }
   ],
   "source": [
    "print(np.unique(y_train,return_counts=True))"
   ]
  },
  {
   "cell_type": "code",
   "execution_count": 21,
   "metadata": {},
   "outputs": [
    {
     "name": "stdout",
     "output_type": "stream",
     "text": [
      "(array([0, 1, 2], dtype=int64), array([36, 15,  9], dtype=int64))\n"
     ]
    }
   ],
   "source": [
    "print(np.unique(y_test,return_counts=True))"
   ]
  },
  {
   "cell_type": "code",
   "execution_count": 22,
   "metadata": {
    "scrolled": true
   },
   "outputs": [
    {
     "name": "stdout",
     "output_type": "stream",
     "text": [
      "(array([0, 1, 2], dtype=int64), array([142, 142, 142], dtype=int64))\n"
     ]
    }
   ],
   "source": [
    "#ทำการ sampling ข้อมูลให้ balance กัน\n",
    "from imblearn.over_sampling import SMOTE\n",
    "smote = SMOTE(random_state=1234)\n",
    "X_train, y_train = smote.fit_resample(X_train, y_train)\n",
    "print(np.unique(y_train,return_counts=True))"
   ]
  },
  {
   "cell_type": "code",
   "execution_count": 23,
   "metadata": {},
   "outputs": [],
   "source": [
    "#แบ่งข้อมูลที่ทำการ sampling แล้วเป็น train validation\n",
    "X_train, X_val, y_train, y_val = train_test_split(X_train, y_train, test_size =81, stratify=y_train,random_state=1234)"
   ]
  },
  {
   "cell_type": "code",
   "execution_count": 24,
   "metadata": {},
   "outputs": [
    {
     "name": "stdout",
     "output_type": "stream",
     "text": [
      "(array([0, 1, 2], dtype=int64), array([115, 115, 115], dtype=int64))\n"
     ]
    }
   ],
   "source": [
    "print(np.unique(y_train,return_counts=True))"
   ]
  },
  {
   "cell_type": "code",
   "execution_count": 25,
   "metadata": {},
   "outputs": [
    {
     "name": "stdout",
     "output_type": "stream",
     "text": [
      "(array([0, 1, 2], dtype=int64), array([27, 27, 27], dtype=int64))\n"
     ]
    }
   ],
   "source": [
    "print(np.unique(y_val,return_counts=True))"
   ]
  },
  {
   "cell_type": "code",
   "execution_count": 26,
   "metadata": {},
   "outputs": [],
   "source": [
    "y_train = keras.utils.to_categorical(y_train,3)\n",
    "y_val = keras.utils.to_categorical(y_val,3)\n",
    "# y_test = keras.utils.to_categorical(y_test,3)"
   ]
  },
  {
   "cell_type": "markdown",
   "metadata": {},
   "source": [
    "---"
   ]
  },
  {
   "cell_type": "markdown",
   "metadata": {},
   "source": [
    "# Training Models"
   ]
  },
  {
   "cell_type": "markdown",
   "metadata": {},
   "source": [
    "## Non-ensemble"
   ]
  },
  {
   "cell_type": "markdown",
   "metadata": {},
   "source": [
    "### Neural Network"
   ]
  },
  {
   "cell_type": "code",
   "execution_count": 27,
   "metadata": {
    "scrolled": true
   },
   "outputs": [
    {
     "name": "stdout",
     "output_type": "stream",
     "text": [
      "Epoch 1/100\n",
      "11/11 [==============================] - 2s 51ms/step - loss: 6.6544 - accuracy: 0.3623 - precision: 0.3647 - val_loss: 1.4591 - val_accuracy: 0.5185 - val_precision: 0.5125\n",
      "Epoch 2/100\n",
      "11/11 [==============================] - 0s 13ms/step - loss: 3.4866 - accuracy: 0.3652 - precision: 0.3735 - val_loss: 1.0527 - val_accuracy: 0.3827 - val_precision: 0.5000\n",
      "Epoch 3/100\n",
      "11/11 [==============================] - 0s 12ms/step - loss: 2.1880 - accuracy: 0.3855 - precision: 0.3918 - val_loss: 0.9340 - val_accuracy: 0.4074 - val_precision: 0.6923\n",
      "Epoch 4/100\n",
      "11/11 [==============================] - 0s 16ms/step - loss: 1.5689 - accuracy: 0.3507 - precision: 0.3429 - val_loss: 0.9317 - val_accuracy: 0.5309 - val_precision: 0.7500\n",
      "Epoch 5/100\n",
      "11/11 [==============================] - 0s 12ms/step - loss: 1.3054 - accuracy: 0.4058 - precision: 0.4228 - val_loss: 0.9231 - val_accuracy: 0.5309 - val_precision: 0.7619\n",
      "Epoch 6/100\n",
      "11/11 [==============================] - 0s 11ms/step - loss: 1.2079 - accuracy: 0.4000 - precision: 0.4220 - val_loss: 0.9226 - val_accuracy: 0.6296 - val_precision: 0.8750\n",
      "Epoch 7/100\n",
      "11/11 [==============================] - 0s 12ms/step - loss: 1.1351 - accuracy: 0.4232 - precision: 0.4750 - val_loss: 0.9351 - val_accuracy: 0.6790 - val_precision: 0.7647\n",
      "Epoch 8/100\n",
      "11/11 [==============================] - 0s 12ms/step - loss: 1.1118 - accuracy: 0.4319 - precision: 0.4874 - val_loss: 0.9368 - val_accuracy: 0.6790 - val_precision: 0.6667\n",
      "Epoch 9/100\n",
      "11/11 [==============================] - 0s 14ms/step - loss: 1.0798 - accuracy: 0.4841 - precision: 0.5254 - val_loss: 0.9290 - val_accuracy: 0.7037 - val_precision: 0.6667\n",
      "Epoch 10/100\n",
      "11/11 [==============================] - 0s 14ms/step - loss: 1.1158 - accuracy: 0.4290 - precision: 0.4706 - val_loss: 0.9178 - val_accuracy: 0.7037 - val_precision: 0.7500\n",
      "Epoch 11/100\n",
      "11/11 [==============================] - 0s 17ms/step - loss: 1.0635 - accuracy: 0.4203 - precision: 0.4894 - val_loss: 0.9124 - val_accuracy: 0.6296 - val_precision: 0.8571\n",
      "Epoch 12/100\n",
      "11/11 [==============================] - 0s 14ms/step - loss: 1.0254 - accuracy: 0.4261 - precision: 0.4690 - val_loss: 0.9195 - val_accuracy: 0.7037 - val_precision: 0.8000\n",
      "Epoch 13/100\n",
      "11/11 [==============================] - 0s 11ms/step - loss: 0.9886 - accuracy: 0.4870 - precision: 0.5828 - val_loss: 0.9163 - val_accuracy: 0.6914 - val_precision: 0.7692\n",
      "Epoch 14/100\n",
      "11/11 [==============================] - 0s 16ms/step - loss: 0.9776 - accuracy: 0.4870 - precision: 0.6197 - val_loss: 0.9023 - val_accuracy: 0.6173 - val_precision: 0.8000\n",
      "Epoch 15/100\n",
      "11/11 [==============================] - 0s 13ms/step - loss: 0.9989 - accuracy: 0.5014 - precision: 0.5962 - val_loss: 0.8849 - val_accuracy: 0.6420 - val_precision: 0.8421\n",
      "Epoch 16/100\n",
      "11/11 [==============================] - 0s 15ms/step - loss: 0.9633 - accuracy: 0.5072 - precision: 0.5879 - val_loss: 0.8728 - val_accuracy: 0.6420 - val_precision: 0.7778\n",
      "Epoch 17/100\n",
      "11/11 [==============================] - 0s 17ms/step - loss: 0.9915 - accuracy: 0.5101 - precision: 0.5915 - val_loss: 0.8646 - val_accuracy: 0.6420 - val_precision: 0.7308\n",
      "Epoch 18/100\n",
      "11/11 [==============================] - 0s 12ms/step - loss: 0.9688 - accuracy: 0.5014 - precision: 0.5949 - val_loss: 0.8611 - val_accuracy: 0.6790 - val_precision: 0.7143\n",
      "Epoch 19/100\n",
      "11/11 [==============================] - 0s 26ms/step - loss: 0.9381 - accuracy: 0.5275 - precision: 0.6173 - val_loss: 0.8458 - val_accuracy: 0.6420 - val_precision: 0.6923\n",
      "Epoch 20/100\n",
      "11/11 [==============================] - 0s 22ms/step - loss: 0.9435 - accuracy: 0.5072 - precision: 0.6265 - val_loss: 0.8271 - val_accuracy: 0.6173 - val_precision: 0.6970\n",
      "Epoch 21/100\n",
      "11/11 [==============================] - 0s 19ms/step - loss: 0.8894 - accuracy: 0.5478 - precision: 0.6592 - val_loss: 0.8288 - val_accuracy: 0.6543 - val_precision: 0.6970\n",
      "Epoch 22/100\n",
      "11/11 [==============================] - 0s 13ms/step - loss: 0.9038 - accuracy: 0.5217 - precision: 0.6497 - val_loss: 0.8172 - val_accuracy: 0.6049 - val_precision: 0.7429\n",
      "Epoch 23/100\n",
      "11/11 [==============================] - 0s 14ms/step - loss: 0.9580 - accuracy: 0.5333 - precision: 0.6012 - val_loss: 0.8264 - val_accuracy: 0.5926 - val_precision: 0.6923\n",
      "Epoch 24/100\n",
      "11/11 [==============================] - 0s 43ms/step - loss: 0.8920 - accuracy: 0.5913 - precision: 0.6736 - val_loss: 0.8173 - val_accuracy: 0.6667 - val_precision: 0.7576\n",
      "Epoch 25/100\n",
      "11/11 [==============================] - 0s 41ms/step - loss: 0.8774 - accuracy: 0.6116 - precision: 0.7200 - val_loss: 0.7937 - val_accuracy: 0.6420 - val_precision: 0.8049\n",
      "Epoch 26/100\n",
      "11/11 [==============================] - 0s 37ms/step - loss: 0.8916 - accuracy: 0.5855 - precision: 0.6891 - val_loss: 0.7818 - val_accuracy: 0.6296 - val_precision: 0.7556\n",
      "Epoch 27/100\n",
      "11/11 [==============================] - 0s 33ms/step - loss: 0.8739 - accuracy: 0.6058 - precision: 0.7130 - val_loss: 0.7648 - val_accuracy: 0.6914 - val_precision: 0.7500\n",
      "Epoch 28/100\n",
      "11/11 [==============================] - 0s 38ms/step - loss: 0.9041 - accuracy: 0.5971 - precision: 0.6650 - val_loss: 0.7869 - val_accuracy: 0.7037 - val_precision: 0.8056\n",
      "Epoch 29/100\n",
      "11/11 [==============================] - 0s 21ms/step - loss: 0.8836 - accuracy: 0.5826 - precision: 0.7238 - val_loss: 0.7762 - val_accuracy: 0.6420 - val_precision: 0.8000\n",
      "Epoch 30/100\n",
      "11/11 [==============================] - 0s 14ms/step - loss: 0.8532 - accuracy: 0.6203 - precision: 0.7208 - val_loss: 0.7506 - val_accuracy: 0.6543 - val_precision: 0.8036\n",
      "Epoch 31/100\n",
      "11/11 [==============================] - 0s 11ms/step - loss: 0.8863 - accuracy: 0.5942 - precision: 0.6730 - val_loss: 0.7333 - val_accuracy: 0.6790 - val_precision: 0.8070\n",
      "Epoch 32/100\n",
      "11/11 [==============================] - 0s 15ms/step - loss: 0.8497 - accuracy: 0.6493 - precision: 0.7190 - val_loss: 0.7383 - val_accuracy: 0.7160 - val_precision: 0.8039\n",
      "Epoch 33/100\n",
      "11/11 [==============================] - 0s 12ms/step - loss: 0.8051 - accuracy: 0.6435 - precision: 0.7600 - val_loss: 0.7395 - val_accuracy: 0.7037 - val_precision: 0.7925\n",
      "Epoch 34/100\n",
      "11/11 [==============================] - 0s 17ms/step - loss: 0.8138 - accuracy: 0.6435 - precision: 0.7376 - val_loss: 0.7246 - val_accuracy: 0.7284 - val_precision: 0.7895\n",
      "Epoch 35/100\n",
      "11/11 [==============================] - 0s 16ms/step - loss: 0.8228 - accuracy: 0.6435 - precision: 0.7225 - val_loss: 0.7132 - val_accuracy: 0.7037 - val_precision: 0.8103\n",
      "Epoch 36/100\n",
      "11/11 [==============================] - 0s 24ms/step - loss: 0.8348 - accuracy: 0.6261 - precision: 0.7005 - val_loss: 0.6964 - val_accuracy: 0.7037 - val_precision: 0.7895\n",
      "Epoch 37/100\n",
      "11/11 [==============================] - 0s 19ms/step - loss: 0.7915 - accuracy: 0.6783 - precision: 0.7322 - val_loss: 0.6659 - val_accuracy: 0.6914 - val_precision: 0.8033\n",
      "Epoch 38/100\n",
      "11/11 [==============================] - 0s 12ms/step - loss: 0.7595 - accuracy: 0.6696 - precision: 0.7311 - val_loss: 0.6899 - val_accuracy: 0.7160 - val_precision: 0.8333\n",
      "Epoch 39/100\n",
      "11/11 [==============================] - 0s 13ms/step - loss: 0.7785 - accuracy: 0.6812 - precision: 0.7541 - val_loss: 0.6768 - val_accuracy: 0.7037 - val_precision: 0.8000\n",
      "Epoch 40/100\n",
      "11/11 [==============================] - 0s 18ms/step - loss: 0.7731 - accuracy: 0.6348 - precision: 0.7500 - val_loss: 0.6544 - val_accuracy: 0.7160 - val_precision: 0.8197\n",
      "Epoch 41/100\n",
      "11/11 [==============================] - 0s 37ms/step - loss: 0.7631 - accuracy: 0.6870 - precision: 0.7645 - val_loss: 0.6413 - val_accuracy: 0.7037 - val_precision: 0.8060\n",
      "Epoch 42/100\n",
      "11/11 [==============================] - 0s 33ms/step - loss: 0.7606 - accuracy: 0.6986 - precision: 0.7860 - val_loss: 0.6459 - val_accuracy: 0.7531 - val_precision: 0.8361\n",
      "Epoch 43/100\n",
      "11/11 [==============================] - 0s 22ms/step - loss: 0.7188 - accuracy: 0.7391 - precision: 0.7967 - val_loss: 0.6109 - val_accuracy: 0.7407 - val_precision: 0.8000\n",
      "Epoch 44/100\n",
      "11/11 [==============================] - 0s 43ms/step - loss: 0.6858 - accuracy: 0.7420 - precision: 0.8086 - val_loss: 0.6541 - val_accuracy: 0.7407 - val_precision: 0.7794\n"
     ]
    },
    {
     "name": "stdout",
     "output_type": "stream",
     "text": [
      "Epoch 45/100\n",
      "11/11 [==============================] - 0s 28ms/step - loss: 0.7133 - accuracy: 0.7014 - precision: 0.7888 - val_loss: 0.6274 - val_accuracy: 0.7531 - val_precision: 0.8030\n",
      "Epoch 46/100\n",
      "11/11 [==============================] - 0s 13ms/step - loss: 0.6920 - accuracy: 0.7304 - precision: 0.7769 - val_loss: 0.6033 - val_accuracy: 0.7407 - val_precision: 0.8154\n",
      "Epoch 47/100\n",
      "11/11 [==============================] - 0s 13ms/step - loss: 0.6858 - accuracy: 0.7304 - precision: 0.8148 - val_loss: 0.5936 - val_accuracy: 0.7654 - val_precision: 0.8308\n",
      "Epoch 48/100\n",
      "11/11 [==============================] - 0s 41ms/step - loss: 0.6417 - accuracy: 0.7710 - precision: 0.8141 - val_loss: 0.5768 - val_accuracy: 0.7654 - val_precision: 0.7794\n",
      "Epoch 49/100\n",
      "11/11 [==============================] - 0s 38ms/step - loss: 0.6613 - accuracy: 0.7594 - precision: 0.7957 - val_loss: 0.5589 - val_accuracy: 0.7778 - val_precision: 0.8209\n",
      "Epoch 50/100\n",
      "11/11 [==============================] - 0s 12ms/step - loss: 0.5742 - accuracy: 0.7942 - precision: 0.8521 - val_loss: 0.5615 - val_accuracy: 0.7778 - val_precision: 0.8082\n",
      "Epoch 51/100\n",
      "11/11 [==============================] - 0s 15ms/step - loss: 0.5940 - accuracy: 0.8000 - precision: 0.8387 - val_loss: 0.5667 - val_accuracy: 0.8025 - val_precision: 0.8028\n",
      "Epoch 52/100\n",
      "11/11 [==============================] - 0s 13ms/step - loss: 0.5697 - accuracy: 0.7942 - precision: 0.8571 - val_loss: 0.5615 - val_accuracy: 0.8025 - val_precision: 0.7838\n",
      "Epoch 53/100\n",
      "11/11 [==============================] - 0s 12ms/step - loss: 0.6126 - accuracy: 0.8029 - precision: 0.8516 - val_loss: 0.5388 - val_accuracy: 0.7778 - val_precision: 0.8143\n",
      "Epoch 54/100\n",
      "11/11 [==============================] - 0s 17ms/step - loss: 0.5633 - accuracy: 0.7913 - precision: 0.8304 - val_loss: 0.5310 - val_accuracy: 0.7531 - val_precision: 0.7971\n",
      "Epoch 55/100\n",
      "11/11 [==============================] - 0s 23ms/step - loss: 0.5808 - accuracy: 0.8087 - precision: 0.8552 - val_loss: 0.5490 - val_accuracy: 0.7778 - val_precision: 0.8286\n",
      "Epoch 56/100\n",
      "11/11 [==============================] - 0s 12ms/step - loss: 0.5861 - accuracy: 0.7942 - precision: 0.8408 - val_loss: 0.5659 - val_accuracy: 0.8148 - val_precision: 0.8429\n",
      "Epoch 57/100\n",
      "11/11 [==============================] - 0s 14ms/step - loss: 0.5455 - accuracy: 0.8290 - precision: 0.8526 - val_loss: 0.5446 - val_accuracy: 0.7901 - val_precision: 0.7973\n",
      "Epoch 58/100\n",
      "11/11 [==============================] - 0s 28ms/step - loss: 0.5800 - accuracy: 0.8145 - precision: 0.8472 - val_loss: 0.5083 - val_accuracy: 0.8025 - val_precision: 0.8219\n",
      "Epoch 59/100\n",
      "11/11 [==============================] - 0s 14ms/step - loss: 0.5542 - accuracy: 0.8087 - precision: 0.8596 - val_loss: 0.5081 - val_accuracy: 0.8395 - val_precision: 0.8429\n",
      "Epoch 60/100\n",
      "11/11 [==============================] - 0s 19ms/step - loss: 0.5515 - accuracy: 0.8029 - precision: 0.8526 - val_loss: 0.4991 - val_accuracy: 0.8148 - val_precision: 0.8356\n",
      "Epoch 61/100\n",
      "11/11 [==============================] - 0s 21ms/step - loss: 0.5513 - accuracy: 0.8000 - precision: 0.8367 - val_loss: 0.5092 - val_accuracy: 0.8395 - val_precision: 0.8289\n",
      "Epoch 62/100\n",
      "11/11 [==============================] - 0s 25ms/step - loss: 0.5128 - accuracy: 0.8174 - precision: 0.8493 - val_loss: 0.4849 - val_accuracy: 0.8272 - val_precision: 0.8267\n",
      "Epoch 63/100\n",
      "11/11 [==============================] - 0s 19ms/step - loss: 0.5100 - accuracy: 0.8290 - precision: 0.8822 - val_loss: 0.4728 - val_accuracy: 0.8395 - val_precision: 0.8333\n",
      "Epoch 64/100\n",
      "11/11 [==============================] - 0s 13ms/step - loss: 0.4870 - accuracy: 0.8319 - precision: 0.8629 - val_loss: 0.4718 - val_accuracy: 0.8395 - val_precision: 0.8462\n",
      "Epoch 65/100\n",
      "11/11 [==============================] - 0s 43ms/step - loss: 0.5159 - accuracy: 0.8319 - precision: 0.8594 - val_loss: 0.4920 - val_accuracy: 0.8025 - val_precision: 0.8158\n",
      "Epoch 66/100\n",
      "11/11 [==============================] - 0s 16ms/step - loss: 0.4224 - accuracy: 0.8522 - precision: 0.8786 - val_loss: 0.4318 - val_accuracy: 0.8519 - val_precision: 0.8767\n",
      "Epoch 67/100\n",
      "11/11 [==============================] - 0s 12ms/step - loss: 0.4603 - accuracy: 0.8145 - precision: 0.8581 - val_loss: 0.4252 - val_accuracy: 0.8519 - val_precision: 0.8800\n",
      "Epoch 68/100\n",
      "11/11 [==============================] - 0s 14ms/step - loss: 0.4343 - accuracy: 0.8290 - precision: 0.8730 - val_loss: 0.4405 - val_accuracy: 0.8148 - val_precision: 0.8333\n",
      "Epoch 69/100\n",
      "11/11 [==============================] - 0s 13ms/step - loss: 0.4591 - accuracy: 0.8638 - precision: 0.8987 - val_loss: 0.4547 - val_accuracy: 0.8765 - val_precision: 0.8767\n",
      "Epoch 70/100\n",
      "11/11 [==============================] - 0s 13ms/step - loss: 0.4495 - accuracy: 0.8464 - precision: 0.8867 - val_loss: 0.4448 - val_accuracy: 0.8025 - val_precision: 0.8267\n",
      "Epoch 71/100\n",
      "11/11 [==============================] - 0s 13ms/step - loss: 0.4318 - accuracy: 0.8580 - precision: 0.8900 - val_loss: 0.4194 - val_accuracy: 0.8519 - val_precision: 0.8816\n",
      "Epoch 72/100\n",
      "11/11 [==============================] - 0s 12ms/step - loss: 0.4489 - accuracy: 0.8406 - precision: 0.8903 - val_loss: 0.4746 - val_accuracy: 0.8025 - val_precision: 0.8228\n",
      "Epoch 73/100\n",
      "11/11 [==============================] - 0s 14ms/step - loss: 0.4552 - accuracy: 0.8348 - precision: 0.8774 - val_loss: 0.4229 - val_accuracy: 0.9012 - val_precision: 0.8947\n",
      "Epoch 74/100\n",
      "11/11 [==============================] - 0s 14ms/step - loss: 0.4193 - accuracy: 0.8609 - precision: 0.8781 - val_loss: 0.3851 - val_accuracy: 0.8765 - val_precision: 0.8875\n",
      "Epoch 75/100\n",
      "11/11 [==============================] - 0s 12ms/step - loss: 0.4390 - accuracy: 0.8145 - precision: 0.8864 - val_loss: 0.4435 - val_accuracy: 0.8889 - val_precision: 0.8947\n",
      "Epoch 76/100\n",
      "11/11 [==============================] - 0s 15ms/step - loss: 0.4051 - accuracy: 0.8667 - precision: 0.8934 - val_loss: 0.4006 - val_accuracy: 0.8395 - val_precision: 0.8442\n",
      "Epoch 77/100\n",
      "11/11 [==============================] - 0s 12ms/step - loss: 0.4125 - accuracy: 0.8551 - precision: 0.8793 - val_loss: 0.4297 - val_accuracy: 0.8395 - val_precision: 0.8481\n",
      "Epoch 78/100\n",
      "11/11 [==============================] - 0s 14ms/step - loss: 0.4130 - accuracy: 0.8696 - precision: 0.8974 - val_loss: 0.4030 - val_accuracy: 0.8519 - val_precision: 0.8590\n",
      "Epoch 79/100\n",
      "11/11 [==============================] - 0s 15ms/step - loss: 0.3710 - accuracy: 0.8667 - precision: 0.8841 - val_loss: 0.3665 - val_accuracy: 0.8642 - val_precision: 0.8734\n",
      "Epoch 80/100\n",
      "11/11 [==============================] - 0s 23ms/step - loss: 0.3750 - accuracy: 0.8638 - precision: 0.8851 - val_loss: 0.3522 - val_accuracy: 0.9259 - val_precision: 0.9241\n",
      "Epoch 81/100\n",
      "11/11 [==============================] - 0s 36ms/step - loss: 0.3852 - accuracy: 0.8725 - precision: 0.9025 - val_loss: 0.3778 - val_accuracy: 0.9012 - val_precision: 0.9000\n",
      "Epoch 82/100\n",
      "11/11 [==============================] - 1s 62ms/step - loss: 0.3434 - accuracy: 0.8870 - precision: 0.9346 - val_loss: 0.3758 - val_accuracy: 0.8889 - val_precision: 0.8875\n",
      "Epoch 83/100\n",
      "11/11 [==============================] - 0s 29ms/step - loss: 0.3250 - accuracy: 0.8899 - precision: 0.9187 - val_loss: 0.3870 - val_accuracy: 0.9012 - val_precision: 0.9012\n",
      "Epoch 84/100\n",
      "11/11 [==============================] - 0s 15ms/step - loss: 0.4749 - accuracy: 0.8290 - precision: 0.8664 - val_loss: 0.3536 - val_accuracy: 0.9012 - val_precision: 0.9103\n",
      "Epoch 85/100\n",
      "11/11 [==============================] - 0s 13ms/step - loss: 0.3815 - accuracy: 0.8609 - precision: 0.8899 - val_loss: 0.3733 - val_accuracy: 0.8519 - val_precision: 0.8831\n",
      "Epoch 86/100\n",
      "11/11 [==============================] - 0s 12ms/step - loss: 0.4132 - accuracy: 0.8493 - precision: 0.8871 - val_loss: 0.4052 - val_accuracy: 0.8889 - val_precision: 0.8974\n",
      "Epoch 87/100\n",
      "11/11 [==============================] - 0s 14ms/step - loss: 0.3427 - accuracy: 0.8754 - precision: 0.9128 - val_loss: 0.3677 - val_accuracy: 0.8889 - val_precision: 0.8987\n",
      "Epoch 88/100\n",
      "11/11 [==============================] - 0s 14ms/step - loss: 0.3240 - accuracy: 0.8725 - precision: 0.9074 - val_loss: 0.3463 - val_accuracy: 0.8889 - val_precision: 0.9231\n"
     ]
    },
    {
     "name": "stdout",
     "output_type": "stream",
     "text": [
      "Epoch 89/100\n",
      "11/11 [==============================] - 0s 13ms/step - loss: 0.3540 - accuracy: 0.8899 - precision: 0.9219 - val_loss: 0.4134 - val_accuracy: 0.8889 - val_precision: 0.8987\n",
      "Epoch 90/100\n",
      "11/11 [==============================] - 0s 15ms/step - loss: 0.3549 - accuracy: 0.8725 - precision: 0.8972 - val_loss: 0.3784 - val_accuracy: 0.8889 - val_precision: 0.8861\n",
      "Epoch 91/100\n",
      "11/11 [==============================] - 0s 12ms/step - loss: 0.3368 - accuracy: 0.8870 - precision: 0.9062 - val_loss: 0.3225 - val_accuracy: 0.9136 - val_precision: 0.9114\n",
      "Epoch 92/100\n",
      "11/11 [==============================] - 0s 14ms/step - loss: 0.3260 - accuracy: 0.8928 - precision: 0.9174 - val_loss: 0.3652 - val_accuracy: 0.8889 - val_precision: 0.9103\n",
      "Epoch 93/100\n",
      "11/11 [==============================] - 0s 15ms/step - loss: 0.2736 - accuracy: 0.9333 - precision: 0.9429 - val_loss: 0.3924 - val_accuracy: 0.8642 - val_precision: 0.8734\n",
      "Epoch 94/100\n",
      "11/11 [==============================] - 0s 12ms/step - loss: 0.3146 - accuracy: 0.8870 - precision: 0.9161 - val_loss: 0.3565 - val_accuracy: 0.9136 - val_precision: 0.9136\n",
      "Epoch 95/100\n",
      "11/11 [==============================] - 0s 13ms/step - loss: 0.2665 - accuracy: 0.9159 - precision: 0.9279 - val_loss: 0.3502 - val_accuracy: 0.9136 - val_precision: 0.9125\n",
      "Epoch 96/100\n",
      "11/11 [==============================] - 0s 12ms/step - loss: 0.2171 - accuracy: 0.9217 - precision: 0.9426 - val_loss: 0.3424 - val_accuracy: 0.9136 - val_precision: 0.9136\n",
      "Epoch 97/100\n",
      "11/11 [==============================] - 0s 14ms/step - loss: 0.2900 - accuracy: 0.8899 - precision: 0.9094 - val_loss: 0.3953 - val_accuracy: 0.9136 - val_precision: 0.9136\n",
      "Epoch 98/100\n",
      "11/11 [==============================] - 0s 13ms/step - loss: 0.2404 - accuracy: 0.9072 - precision: 0.9329 - val_loss: 0.3321 - val_accuracy: 0.9259 - val_precision: 0.9241\n",
      "Epoch 99/100\n",
      "11/11 [==============================] - 0s 13ms/step - loss: 0.2811 - accuracy: 0.9043 - precision: 0.9266 - val_loss: 0.3848 - val_accuracy: 0.9136 - val_precision: 0.9125\n",
      "Epoch 100/100\n",
      "11/11 [==============================] - 0s 13ms/step - loss: 0.2479 - accuracy: 0.9130 - precision: 0.9390 - val_loss: 0.3356 - val_accuracy: 0.9136 - val_precision: 0.9125\n"
     ]
    }
   ],
   "source": [
    "nn_model = Sequential([\n",
    "    Dense(64, activation=\"relu\", input_shape=X_train[0].shape),\n",
    "    Dense(64, activation=\"relu\"),\n",
    "    Dropout(0.5),\n",
    "    \n",
    "    Dense(128, activation=\"relu\"),\n",
    "    Dense(128, activation=\"relu\"),\n",
    "    Dropout(0.8),\n",
    "    \n",
    "    Dense(3, activation=\"softmax\"),\n",
    "])\n",
    "\n",
    "nn_model.compile(optimizer='adam',\n",
    "                 loss=\"categorical_crossentropy\", \n",
    "                 metrics=[\n",
    "                     \"accuracy\",\n",
    "                     keras.metrics.Precision()\n",
    "                     ])\n",
    "\n",
    "nn_history = nn_model.fit(X_train, y_train, epochs=100\n",
    "            ,validation_data=(X_val, y_val))"
   ]
  },
  {
   "cell_type": "code",
   "execution_count": 28,
   "metadata": {},
   "outputs": [
    {
     "name": "stdout",
     "output_type": "stream",
     "text": [
      "2/2 [==============================] - 0s 4ms/step\n"
     ]
    }
   ],
   "source": [
    "#หาค่าต่าง ๆ ด้วยข้อมูล test เช่น accuracy , f1_score\n",
    "y_pred_nn = np.argmax(nn_model.predict(X_test),axis=1)\n",
    "nn_model_acc = accuracy_score(y_test, y_pred_nn)\n",
    "nn_model_prec = precision_score(y_test, y_pred_nn, average=None)\n",
    "nn_model_f1 = f1_score(y_test, y_pred_nn, average=None)\n",
    "nn_model_recall = recall_score(y_test, y_pred_nn, average=None)"
   ]
  },
  {
   "cell_type": "code",
   "execution_count": 29,
   "metadata": {
    "scrolled": false
   },
   "outputs": [
    {
     "name": "stdout",
     "output_type": "stream",
     "text": [
      "lastes accuracy and loss\n",
      "train_loss : 0.2479, val_loss : 0.3356\n",
      "train_acc : 0.9130, val_acc : 0.9136\n"
     ]
    },
    {
     "data": {
      "image/png": "[encoded data removed]",
      "text/plain": [
       "<Figure size 1200x600 with 2 Axes>"
      ]
     },
     "metadata": {},
     "output_type": "display_data"
    }
   ],
   "source": [
    "#แสดงกราฟ loss และ accuray ของ model\n",
    "plot_loss_accuracy(nn_history)"
   ]
  },
  {
   "cell_type": "markdown",
   "metadata": {},
   "source": [
    "### KNN"
   ]
  },
  {
   "cell_type": "code",
   "execution_count": 30,
   "metadata": {},
   "outputs": [
    {
     "data": {
      "text/plain": [
       "KNeighborsClassifier()"
      ]
     },
     "execution_count": 30,
     "metadata": {},
     "output_type": "execute_result"
    }
   ],
   "source": [
    "knn_model = KNeighborsClassifier(n_neighbors=5)\n",
    "knn_model.fit(X_train, y_train)"
   ]
  },
  {
   "cell_type": "code",
   "execution_count": 31,
   "metadata": {
    "scrolled": true
   },
   "outputs": [
    {
     "name": "stderr",
     "output_type": "stream",
     "text": [
      "C:\\Users\\tong_\\anaconda3\\lib\\site-packages\\sklearn\\neighbors\\_classification.py:228: FutureWarning: Unlike other reduction functions (e.g. `skew`, `kurtosis`), the default behavior of `mode` typically preserves the axis it acts along. In SciPy 1.11.0, this behavior will change: the default value of `keepdims` will become False, the `axis` over which the statistic is taken will be eliminated, and the value None will no longer be accepted. Set `keepdims` to True or False to avoid this warning.\n",
      "  mode, _ = stats.mode(_y[neigh_ind, k], axis=1)\n"
     ]
    }
   ],
   "source": [
    "#หาค่าต่าง ๆ ด้วยข้อมูล test เช่น accuracy , f1_score\n",
    "y_pred_knn = np.argmax(knn_model.predict(X_test), axis=1)\n",
    "knn_model_acc = accuracy_score(y_test, y_pred_knn)\n",
    "knn_model_prec = precision_score(y_test, y_pred_knn, average=None)\n",
    "knn_model_f1 = f1_score(y_test, y_pred_knn, average=None)\n",
    "knn_model_recall = recall_score(y_test, y_pred_knn, average=None)"
   ]
  },
  {
   "cell_type": "markdown",
   "metadata": {},
   "source": [
    "## Ensemble"
   ]
  },
  {
   "cell_type": "markdown",
   "metadata": {},
   "source": [
    "### Random Forest"
   ]
  },
  {
   "cell_type": "code",
   "execution_count": 32,
   "metadata": {},
   "outputs": [
    {
     "data": {
      "text/plain": [
       "RandomForestClassifier(n_estimators=1000)"
      ]
     },
     "execution_count": 32,
     "metadata": {},
     "output_type": "execute_result"
    }
   ],
   "source": [
    "rfc_model = RandomForestClassifier(n_estimators=1000)\n",
    "rfc_model.fit(X_train, y_train)\n"
   ]
  },
  {
   "cell_type": "code",
   "execution_count": 33,
   "metadata": {},
   "outputs": [],
   "source": [
    "#หาค่าต่าง ๆ ด้วยข้อมูล test เช่น accuracy , f1_score\n",
    "y_pred_rf = np.argmax(rfc_model.predict(X_test), axis=1)\n",
    "rfc_model_acc = accuracy_score(y_test, y_pred_rf)\n",
    "rfc_model_prec = precision_score(y_test, y_pred_rf, average=None)\n",
    "rfc_model_f1 = f1_score(y_test, y_pred_rf, average=None)\n",
    "rfc_model_recall = recall_score(y_test, y_pred_rf, average=None)"
   ]
  },
  {
   "cell_type": "markdown",
   "metadata": {},
   "source": [
    "### AdaBoost"
   ]
  },
  {
   "cell_type": "code",
   "execution_count": 34,
   "metadata": {},
   "outputs": [
    {
     "data": {
      "text/plain": [
       "AdaBoostClassifier(base_estimator=DecisionTreeClassifier(), n_estimators=1000)"
      ]
     },
     "execution_count": 34,
     "metadata": {},
     "output_type": "execute_result"
    }
   ],
   "source": [
    "ada_model = AdaBoostClassifier(DecisionTreeClassifier(), n_estimators=1000)\n",
    "ada_model.fit(X_train, np.argmax(y_train, axis=1))"
   ]
  },
  {
   "cell_type": "code",
   "execution_count": 35,
   "metadata": {},
   "outputs": [],
   "source": [
    "#หาค่าต่าง ๆ ด้วยข้อมูล test เช่น accuracy , f1_score\n",
    "y_pred_ada =  ada_model.predict(X_test)\n",
    "ada_model_acc = accuracy_score(y_test, y_pred_ada)\n",
    "ada_model_prec = precision_score(y_test, y_pred_ada, average=None)\n",
    "ada_model_f1 = f1_score(y_test, y_pred_ada, average=None)\n",
    "ada_model_recall = recall_score(y_test, y_pred_ada, average=None)"
   ]
  },
  {
   "cell_type": "markdown",
   "metadata": {},
   "source": [
    "### Bagging"
   ]
  },
  {
   "cell_type": "code",
   "execution_count": 36,
   "metadata": {},
   "outputs": [
    {
     "data": {
      "text/plain": [
       "BaggingClassifier(base_estimator=SVC(), n_estimators=1000)"
      ]
     },
     "execution_count": 36,
     "metadata": {},
     "output_type": "execute_result"
    }
   ],
   "source": [
    "bag_model = BaggingClassifier(SVC(), n_estimators=1000)\n",
    "bag_model.fit(X_train,  np.argmax(y_train,axis=1))"
   ]
  },
  {
   "cell_type": "code",
   "execution_count": 37,
   "metadata": {},
   "outputs": [],
   "source": [
    "#หาค่าต่าง ๆ ด้วยข้อมูล test เช่น accuracy , f1_score\n",
    "y_pred_bag =  bag_model.predict(X_test)\n",
    "bag_model_acc = accuracy_score(y_test, y_pred_bag)\n",
    "bag_model_prec = precision_score(y_test, y_pred_bag, average=None)\n",
    "bag_model_f1 = f1_score(y_test, y_pred_bag, average=None)\n",
    "bag_model_recall = recall_score(y_test, y_pred_bag, average=None)"
   ]
  },
  {
   "cell_type": "markdown",
   "metadata": {},
   "source": [
    "---"
   ]
  },
  {
   "cell_type": "markdown",
   "metadata": {},
   "source": [
    "# Visualisation"
   ]
  },
  {
   "cell_type": "markdown",
   "metadata": {},
   "source": [
    "## Confusion Matrix"
   ]
  },
  {
   "cell_type": "markdown",
   "metadata": {},
   "source": [
    "### Neural Network"
   ]
  },
  {
   "cell_type": "code",
   "execution_count": 38,
   "metadata": {
    "scrolled": false
   },
   "outputs": [
    {
     "name": "stdout",
     "output_type": "stream",
     "text": [
      "2/2 [==============================] - 0s 5ms/step\n"
     ]
    },
    {
     "data": {
      "image/png": "[encoded data removed]",
      "text/plain": [
       "<Figure size 500x500 with 2 Axes>"
      ]
     },
     "metadata": {},
     "output_type": "display_data"
    }
   ],
   "source": [
    "create_confusion_matrix(nn_model,X_test,keras.utils.to_categorical(y_test,3),n_name)"
   ]
  },
  {
   "cell_type": "markdown",
   "metadata": {},
   "source": [
    "### KNN"
   ]
  },
  {
   "cell_type": "code",
   "execution_count": 39,
   "metadata": {
    "scrolled": false
   },
   "outputs": [
    {
     "name": "stderr",
     "output_type": "stream",
     "text": [
      "C:\\Users\\tong_\\anaconda3\\lib\\site-packages\\sklearn\\neighbors\\_classification.py:228: FutureWarning: Unlike other reduction functions (e.g. `skew`, `kurtosis`), the default behavior of `mode` typically preserves the axis it acts along. In SciPy 1.11.0, this behavior will change: the default value of `keepdims` will become False, the `axis` over which the statistic is taken will be eliminated, and the value None will no longer be accepted. Set `keepdims` to True or False to avoid this warning.\n",
      "  mode, _ = stats.mode(_y[neigh_ind, k], axis=1)\n"
     ]
    },
    {
     "data": {
      "image/png": "[encoded data removed]",
      "text/plain": [
       "<Figure size 500x500 with 2 Axes>"
      ]
     },
     "metadata": {},
     "output_type": "display_data"
    }
   ],
   "source": [
    "create_confusion_matrix(knn_model,X_test,keras.utils.to_categorical(y_test,3),n_name)"
   ]
  },
  {
   "cell_type": "markdown",
   "metadata": {},
   "source": [
    "### Random Forest"
   ]
  },
  {
   "cell_type": "code",
   "execution_count": 40,
   "metadata": {
    "scrolled": false
   },
   "outputs": [
    {
     "data": {
      "image/png": "[encoded data removed]",
      "text/plain": [
       "<Figure size 500x500 with 2 Axes>"
      ]
     },
     "metadata": {},
     "output_type": "display_data"
    }
   ],
   "source": [
    "create_confusion_matrix(rfc_model,X_test,keras.utils.to_categorical(y_test,3),n_name)"
   ]
  },
  {
   "cell_type": "markdown",
   "metadata": {},
   "source": [
    "### AdaBoost"
   ]
  },
  {
   "cell_type": "code",
   "execution_count": 41,
   "metadata": {
    "scrolled": false
   },
   "outputs": [
    {
     "data": {
      "image/png": "[encoded data removed]",
      "text/plain": [
       "<Figure size 500x500 with 2 Axes>"
      ]
     },
     "metadata": {},
     "output_type": "display_data"
    }
   ],
   "source": [
    "create_confusion_matrix(ada_model,X_test,y_test,n_name)"
   ]
  },
  {
   "cell_type": "markdown",
   "metadata": {},
   "source": [
    "### Bagging"
   ]
  },
  {
   "cell_type": "code",
   "execution_count": 42,
   "metadata": {
    "scrolled": false
   },
   "outputs": [
    {
     "data": {
      "image/png": "[encoded data removed]",
      "text/plain": [
       "<Figure size 500x500 with 2 Axes>"
      ]
     },
     "metadata": {},
     "output_type": "display_data"
    }
   ],
   "source": [
    "create_confusion_matrix(bag_model,X_test,y_test,n_name)"
   ]
  },
  {
   "cell_type": "markdown",
   "metadata": {},
   "source": [
    "## Accuracy"
   ]
  },
  {
   "cell_type": "code",
   "execution_count": 43,
   "metadata": {
    "scrolled": false
   },
   "outputs": [
    {
     "name": "stdout",
     "output_type": "stream",
     "text": [
      "Model : Accuracy\n",
      "Neural Network : 0.70\n",
      "KNN : 0.47\n",
      "Random Forest : 0.73\n",
      "AdaBoost : 0.73\n",
      "Bagging : 0.47\n"
     ]
    },
    {
     "data": {
      "image/png": "[encoded data removed]",
      "text/plain": [
       "<Figure size 640x480 with 1 Axes>"
      ]
     },
     "metadata": {},
     "output_type": "display_data"
    }
   ],
   "source": [
    "df = pd.DataFrame({'Models':['Neural Network', 'KNN', 'Random Forest', \"AdaBoost\", \"Bagging\"], 'Accuracy':[nn_model_acc, knn_model_acc, rfc_model_acc, ada_model_acc, bag_model_acc]})\n",
    "ax = df.plot.bar(x='Models', y='Accuracy', rot=0, ylim=(0, 1), title=\"Accuracy Comparison Between Models\")\n",
    "\n",
    "print(\"Model : Accuracy\")\n",
    "for i in df.values:\n",
    "    print(\"{} : {:.2f}\".format(i[0],i[1]))"
   ]
  },
  {
   "cell_type": "markdown",
   "metadata": {},
   "source": [
    "## Precision"
   ]
  },
  {
   "cell_type": "code",
   "execution_count": 44,
   "metadata": {
    "scrolled": false
   },
   "outputs": [
    {
     "data": {
      "image/png": "[encoded data removed]",
      "text/plain": [
       "<Figure size 640x480 with 1 Axes>"
      ]
     },
     "metadata": {},
     "output_type": "display_data"
    }
   ],
   "source": [
    "precs = [nn_model_prec, knn_model_prec, rfc_model_prec, ada_model_prec, bag_model_prec]\n",
    "ind = np.arange(len(precs))\n",
    "width = 0.25\n",
    "\n",
    "class_0 = [nn_model_prec[0], knn_model_prec[0], rfc_model_prec[0], ada_model_prec[0], bag_model_prec[0]]\n",
    "bar1 = plt.bar(ind, class_0, width, color = 'blue')\n",
    "  \n",
    "class_1 = [nn_model_prec[1], knn_model_prec[1], rfc_model_prec[1], ada_model_prec[1], bag_model_prec[1]]\n",
    "bar2 = plt.bar(ind+width, class_1, width, color='g')\n",
    "  \n",
    "class_2 = [nn_model_prec[2], knn_model_prec[2], rfc_model_prec[2], ada_model_prec[2], bag_model_prec[2]]\n",
    "bar3 = plt.bar(ind+width*2, class_2, width, color = 'orange')\n",
    "  \n",
    "plt.xlabel(\"Models\")\n",
    "plt.ylabel('Precision')\n",
    "plt.title(\"Precision Comparison between Models\")\n",
    "plt.ylim((0, 1))\n",
    "\n",
    "for index, value in enumerate(precs):\n",
    "    for i,v in enumerate(value):\n",
    "        plt.text(x=index + (0.25*i), y=v+0.01, s=\"{:.2f}\".format(v), ha='center')\n",
    "\n",
    "plt.xticks(ind+width,['Neural Network', 'KNN', 'Random Forest', \"AdaBoost\", \"Bagging\"])\n",
    "plt.legend( (bar1, bar2, bar3), (\"lived\", \"died\", \"euthanized\") )\n",
    "plt.show()"
   ]
  },
  {
   "cell_type": "markdown",
   "metadata": {},
   "source": [
    "## F1"
   ]
  },
  {
   "cell_type": "code",
   "execution_count": 45,
   "metadata": {
    "scrolled": false
   },
   "outputs": [
    {
     "data": {
      "image/png": "[encoded data removed]",
      "text/plain": [
       "<Figure size 640x480 with 1 Axes>"
      ]
     },
     "metadata": {},
     "output_type": "display_data"
    }
   ],
   "source": [
    "f1 = [nn_model_f1, knn_model_f1, rfc_model_f1, ada_model_f1, bag_model_f1]\n",
    "ind = np.arange(len(f1))\n",
    "width = 0.25\n",
    "\n",
    "class_0 = [nn_model_f1[0], knn_model_f1[0], rfc_model_f1[0], ada_model_f1[0], bag_model_f1[0]]\n",
    "bar1 = plt.bar(ind, class_0, width, color = 'blue')\n",
    "  \n",
    "class_1 = [nn_model_f1[1], knn_model_f1[1], rfc_model_f1[1], ada_model_f1[1], bag_model_f1[1]]\n",
    "bar2 = plt.bar(ind+width, class_1, width, color='g')\n",
    "  \n",
    "class_2 = [nn_model_f1[2], knn_model_f1[2], rfc_model_f1[2], ada_model_f1[2], bag_model_f1[2]]\n",
    "bar3 = plt.bar(ind+width*2, class_2, width, color = 'orange')\n",
    "  \n",
    "plt.xlabel(\"Models\")\n",
    "plt.ylabel('F1')\n",
    "plt.title(\"F1 Comparison between Models\")\n",
    "plt.ylim((0, 1))\n",
    "\n",
    "for index, value in enumerate(f1):\n",
    "    for i,v in enumerate(value):\n",
    "        plt.text(x=index + (0.25*i), y=v+0.01, s=\"{:.2f}\".format(v), ha='center')\n",
    "\n",
    "plt.xticks(ind+width,['Neural Network', 'KNN', 'Random Forest', \"AdaBoost\", \"Bagging\"])\n",
    "plt.legend( (bar1, bar2, bar3), (\"lived\", \"died\", \"euthanized\") )\n",
    "plt.show()"
   ]
  },
  {
   "cell_type": "markdown",
   "metadata": {},
   "source": [
    "## Recall"
   ]
  },
  {
   "cell_type": "code",
   "execution_count": 46,
   "metadata": {
    "scrolled": false
   },
   "outputs": [
    {
     "data": {
      "image/png": "[encoded data removed]",
      "text/plain": [
       "<Figure size 640x480 with 1 Axes>"
      ]
     },
     "metadata": {},
     "output_type": "display_data"
    }
   ],
   "source": [
    "recall = [nn_model_recall, knn_model_recall, rfc_model_recall, ada_model_recall, bag_model_recall]\n",
    "ind = np.arange(len(recall))\n",
    "width = 0.25\n",
    "\n",
    "class_0 = [nn_model_recall[0], knn_model_recall[0], rfc_model_recall[0], ada_model_recall[0], bag_model_recall[0]]\n",
    "bar1 = plt.bar(ind, class_0, width, color = 'blue')\n",
    "  \n",
    "class_1 = [nn_model_recall[1], knn_model_recall[1], rfc_model_recall[1], ada_model_recall[1], bag_model_recall[1]]\n",
    "bar2 = plt.bar(ind+width, class_1, width, color='g')\n",
    "  \n",
    "class_2 = [nn_model_recall[2], knn_model_recall[2], rfc_model_recall[2], ada_model_recall[2], bag_model_recall[2]]\n",
    "bar3 = plt.bar(ind+width*2, class_2, width, color = 'orange')\n",
    "  \n",
    "plt.xlabel(\"Models\")\n",
    "plt.ylabel('Recall')\n",
    "plt.title(\"Recall Comparison between Models\")\n",
    "plt.ylim((0, 1))\n",
    "  \n",
    "for index, value in enumerate(recall):\n",
    "    for i,v in enumerate(value):\n",
    "        plt.text(x=index + (0.25*i), y=v+0.01, s=\"{:.2f}\".format(v), ha='center')\n",
    "    \n",
    "plt.xticks(ind+width,['Neural Network', 'KNN', 'Random Forest', \"AdaBoost\", \"Bagging\"])\n",
    "plt.legend( (bar1, bar2, bar3), (\"lived\", \"died\", \"euthanized\") )\n",
    "plt.show()"
   ]
  },
  {
   "cell_type": "markdown",
   "metadata": {},
   "source": [
    "---"
   ]
  }
 ],
 "metadata": {
  "kernelspec": {
   "display_name": "Python 3 (ipykernel)",
   "language": "python",
   "name": "python3"
  },
  "language_info": {
   "codemirror_mode": {
    "name": "ipython",
    "version": 3
   },
   "file_extension": ".py",
   "mimetype": "text/x-python",
   "name": "python",
   "nbconvert_exporter": "python",
   "pygments_lexer": "ipython3",
   "version": "3.9.13"
  }
 },
 "nbformat": 4,
 "nbformat_minor": 2
}

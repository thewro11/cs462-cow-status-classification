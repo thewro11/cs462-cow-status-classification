{
 "cells": [
  {
   "cell_type": "markdown",
   "metadata": {},
   "source": [
    "# Import & Set Variables"
   ]
  },
  {
   "cell_type": "code",
   "execution_count": 1,
   "metadata": {},
   "outputs": [],
   "source": [
    "import pandas as pd\n",
    "import numpy as np\n",
    "import re\n",
    "\n",
    "from sklearn.model_selection import train_test_split\n",
    "from sklearn.metrics import ConfusionMatrixDisplay, confusion_matrix, classification_report\n",
    "\n",
    "from keras.utils import to_categorical\n",
    "\n",
    "\n",
    "from keras.models import Sequential\n",
    "from keras.layers import Dense, Dropout\n",
    "\n",
    "import keras\n",
    "\n",
    "from sklearn.metrics import precision_score, accuracy_score, f1_score, recall_score\n",
    "\n",
    "from sklearn.neighbors import KNeighborsClassifier\n",
    "from sklearn.tree import DecisionTreeClassifier\n",
    "from sklearn.ensemble import RandomForestClassifier, AdaBoostClassifier, BaggingClassifier\n",
    "from sklearn.svm import SVC\n",
    "\n",
    "import matplotlib.pyplot as plt\n",
    "\n",
    "%matplotlib inline\n",
    "\n",
    "# dataset file name\n",
    "fname = \"cow.csv\"\n",
    "\n",
    "# normal values\n",
    "NORMAL_TEMPERATURE = 37.8\n",
    "NORMAL_PULSE = (30, 40)\n",
    "NORMAL_RESPIRATORY_RATE = (8, 10)\n",
    "NORMAL_NASOGASTRIC_REFLUX_PH = (3, 4)\n",
    "NORMAL_PACKED_CELL_VOLUME = (30, 50)\n",
    "NORMAL_TOTAL_PROTEIN = (6, 7.5)\n",
    "NORMAL_ABDOMO_APPEARANCE = \"clear\""
   ]
  },
  {
   "cell_type": "markdown",
   "metadata": {},
   "source": [
    "---"
   ]
  },
  {
   "cell_type": "markdown",
   "metadata": {},
   "source": [
    "# Load Data"
   ]
  },
  {
   "cell_type": "code",
   "execution_count": 2,
   "metadata": {
    "scrolled": false
   },
   "outputs": [
    {
     "data": {
      "text/plain": [
       "Index(['surgery', 'age', 'hospital_number', 'temperature', 'pulse',\n",
       "       'respiratory_rate', 'temp_of_extremities', 'peripheral_pulse',\n",
       "       'mucous_membrane', 'capillary_refill_time', 'pain', 'peristalsis',\n",
       "       'abdominal_distention', 'nasogastric_tube', 'nasogastric_reflux',\n",
       "       'nasogastric_reflux_ph', 'rectal_exam_feces', 'abdomen',\n",
       "       'packed_cell_volume', 'total_protein', 'abdomo_appearance',\n",
       "       'abdomo_protein', 'outcome Class', 'surgical_lesion', 'lesion'],\n",
       "      dtype='object')"
      ]
     },
     "execution_count": 2,
     "metadata": {},
     "output_type": "execute_result"
    }
   ],
   "source": [
    "df_cow = pd.read_csv(fname)\n",
    "df_cow.columns"
   ]
  },
  {
   "cell_type": "code",
   "execution_count": 3,
   "metadata": {},
   "outputs": [
    {
     "data": {
      "text/html": [
       "<div>\n",
       "<style scoped>\n",
       "    .dataframe tbody tr th:only-of-type {\n",
       "        vertical-align: middle;\n",
       "    }\n",
       "\n",
       "    .dataframe tbody tr th {\n",
       "        vertical-align: top;\n",
       "    }\n",
       "\n",
       "    .dataframe thead th {\n",
       "        text-align: right;\n",
       "    }\n",
       "</style>\n",
       "<table border=\"1\" class=\"dataframe\">\n",
       "  <thead>\n",
       "    <tr style=\"text-align: right;\">\n",
       "      <th></th>\n",
       "      <th>surgery</th>\n",
       "      <th>age</th>\n",
       "      <th>hospital_number</th>\n",
       "      <th>temperature</th>\n",
       "      <th>pulse</th>\n",
       "      <th>respiratory_rate</th>\n",
       "      <th>temp_of_extremities</th>\n",
       "      <th>peripheral_pulse</th>\n",
       "      <th>mucous_membrane</th>\n",
       "      <th>capillary_refill_time</th>\n",
       "      <th>...</th>\n",
       "      <th>nasogastric_reflux_ph</th>\n",
       "      <th>rectal_exam_feces</th>\n",
       "      <th>abdomen</th>\n",
       "      <th>packed_cell_volume</th>\n",
       "      <th>total_protein</th>\n",
       "      <th>abdomo_appearance</th>\n",
       "      <th>abdomo_protein</th>\n",
       "      <th>outcome Class</th>\n",
       "      <th>surgical_lesion</th>\n",
       "      <th>lesion</th>\n",
       "    </tr>\n",
       "  </thead>\n",
       "  <tbody>\n",
       "    <tr>\n",
       "      <th>0</th>\n",
       "      <td>no</td>\n",
       "      <td>adult</td>\n",
       "      <td>530101</td>\n",
       "      <td>38.5</td>\n",
       "      <td>66.0</td>\n",
       "      <td>28.0</td>\n",
       "      <td>cool</td>\n",
       "      <td>reduced</td>\n",
       "      <td>NaN</td>\n",
       "      <td>more_3_sec</td>\n",
       "      <td>...</td>\n",
       "      <td>NaN</td>\n",
       "      <td>decreased</td>\n",
       "      <td>distend_large</td>\n",
       "      <td>45.0</td>\n",
       "      <td>8.4</td>\n",
       "      <td>NaN</td>\n",
       "      <td>NaN</td>\n",
       "      <td>died</td>\n",
       "      <td>no</td>\n",
       "      <td>11300</td>\n",
       "    </tr>\n",
       "    <tr>\n",
       "      <th>1</th>\n",
       "      <td>yes</td>\n",
       "      <td>adult</td>\n",
       "      <td>534817</td>\n",
       "      <td>39.2</td>\n",
       "      <td>88.0</td>\n",
       "      <td>20.0</td>\n",
       "      <td>NaN</td>\n",
       "      <td>NaN</td>\n",
       "      <td>pale_cyanotic</td>\n",
       "      <td>less_3_sec</td>\n",
       "      <td>...</td>\n",
       "      <td>NaN</td>\n",
       "      <td>absent</td>\n",
       "      <td>other</td>\n",
       "      <td>50.0</td>\n",
       "      <td>85.0</td>\n",
       "      <td>cloudy</td>\n",
       "      <td>2.0</td>\n",
       "      <td>euthanized</td>\n",
       "      <td>no</td>\n",
       "      <td>2208</td>\n",
       "    </tr>\n",
       "    <tr>\n",
       "      <th>2</th>\n",
       "      <td>no</td>\n",
       "      <td>adult</td>\n",
       "      <td>530334</td>\n",
       "      <td>38.3</td>\n",
       "      <td>40.0</td>\n",
       "      <td>24.0</td>\n",
       "      <td>normal</td>\n",
       "      <td>normal</td>\n",
       "      <td>pale_pink</td>\n",
       "      <td>less_3_sec</td>\n",
       "      <td>...</td>\n",
       "      <td>NaN</td>\n",
       "      <td>normal</td>\n",
       "      <td>normal</td>\n",
       "      <td>33.0</td>\n",
       "      <td>6.7</td>\n",
       "      <td>NaN</td>\n",
       "      <td>NaN</td>\n",
       "      <td>lived</td>\n",
       "      <td>no</td>\n",
       "      <td>0</td>\n",
       "    </tr>\n",
       "    <tr>\n",
       "      <th>3</th>\n",
       "      <td>yes</td>\n",
       "      <td>young</td>\n",
       "      <td>5290409</td>\n",
       "      <td>39.1</td>\n",
       "      <td>164.0</td>\n",
       "      <td>84.0</td>\n",
       "      <td>cold</td>\n",
       "      <td>normal</td>\n",
       "      <td>dark_cyanotic</td>\n",
       "      <td>more_3_sec</td>\n",
       "      <td>...</td>\n",
       "      <td>5.0</td>\n",
       "      <td>decreased</td>\n",
       "      <td>NaN</td>\n",
       "      <td>48.0</td>\n",
       "      <td>7.2</td>\n",
       "      <td>serosanguious</td>\n",
       "      <td>5.3</td>\n",
       "      <td>died</td>\n",
       "      <td>yes</td>\n",
       "      <td>2208</td>\n",
       "    </tr>\n",
       "    <tr>\n",
       "      <th>4</th>\n",
       "      <td>no</td>\n",
       "      <td>adult</td>\n",
       "      <td>530255</td>\n",
       "      <td>37.3</td>\n",
       "      <td>104.0</td>\n",
       "      <td>35.0</td>\n",
       "      <td>NaN</td>\n",
       "      <td>NaN</td>\n",
       "      <td>dark_cyanotic</td>\n",
       "      <td>more_3_sec</td>\n",
       "      <td>...</td>\n",
       "      <td>NaN</td>\n",
       "      <td>NaN</td>\n",
       "      <td>NaN</td>\n",
       "      <td>74.0</td>\n",
       "      <td>7.4</td>\n",
       "      <td>NaN</td>\n",
       "      <td>NaN</td>\n",
       "      <td>died</td>\n",
       "      <td>no</td>\n",
       "      <td>4300</td>\n",
       "    </tr>\n",
       "  </tbody>\n",
       "</table>\n",
       "<p>5 rows × 25 columns</p>\n",
       "</div>"
      ],
      "text/plain": [
       "  surgery    age  hospital_number  temperature  pulse  respiratory_rate  \\\n",
       "0      no  adult           530101         38.5   66.0              28.0   \n",
       "1     yes  adult           534817         39.2   88.0              20.0   \n",
       "2      no  adult           530334         38.3   40.0              24.0   \n",
       "3     yes  young          5290409         39.1  164.0              84.0   \n",
       "4      no  adult           530255         37.3  104.0              35.0   \n",
       "\n",
       "  temp_of_extremities peripheral_pulse mucous_membrane capillary_refill_time  \\\n",
       "0                cool          reduced             NaN            more_3_sec   \n",
       "1                 NaN              NaN   pale_cyanotic            less_3_sec   \n",
       "2              normal           normal       pale_pink            less_3_sec   \n",
       "3                cold           normal   dark_cyanotic            more_3_sec   \n",
       "4                 NaN              NaN   dark_cyanotic            more_3_sec   \n",
       "\n",
       "   ... nasogastric_reflux_ph rectal_exam_feces        abdomen  \\\n",
       "0  ...                   NaN         decreased  distend_large   \n",
       "1  ...                   NaN            absent          other   \n",
       "2  ...                   NaN            normal         normal   \n",
       "3  ...                   5.0         decreased            NaN   \n",
       "4  ...                   NaN               NaN            NaN   \n",
       "\n",
       "  packed_cell_volume total_protein  abdomo_appearance abdomo_protein  \\\n",
       "0               45.0           8.4                NaN            NaN   \n",
       "1               50.0          85.0             cloudy            2.0   \n",
       "2               33.0           6.7                NaN            NaN   \n",
       "3               48.0           7.2      serosanguious            5.3   \n",
       "4               74.0           7.4                NaN            NaN   \n",
       "\n",
       "  outcome Class  surgical_lesion  lesion  \n",
       "0          died               no   11300  \n",
       "1    euthanized               no    2208  \n",
       "2         lived               no       0  \n",
       "3          died              yes    2208  \n",
       "4          died               no    4300  \n",
       "\n",
       "[5 rows x 25 columns]"
      ]
     },
     "execution_count": 3,
     "metadata": {},
     "output_type": "execute_result"
    }
   ],
   "source": [
    "df_cow.head(5)"
   ]
  },
  {
   "cell_type": "markdown",
   "metadata": {},
   "source": [
    "---"
   ]
  },
  {
   "cell_type": "markdown",
   "metadata": {},
   "source": [
    "# Funtion"
   ]
  },
  {
   "cell_type": "markdown",
   "metadata": {},
   "source": [
    "## visualization"
   ]
  },
  {
   "cell_type": "code",
   "execution_count": 4,
   "metadata": {},
   "outputs": [],
   "source": [
    "def plot_loss_accuracy(history):\n",
    "    print_score(history)\n",
    "    \n",
    "    fig = plt.figure(figsize=(12, 6))\n",
    "    ax = fig.add_subplot(1, 2, 1)\n",
    "    ax.plot(history.history[\"loss\"],'r-x', label=\"Train Loss\")\n",
    "    ax.plot(history.history[\"val_loss\"],'b-x', label=\"Validation Loss\")\n",
    "    ax.legend()\n",
    "    ax.set_title('cross_entropy loss')\n",
    "    ax.grid(True)\n",
    "\n",
    "\n",
    "    ax = fig.add_subplot(1, 2, 2)\n",
    "    ax.plot(history.history[\"accuracy\"],'r-x', label=\"Train Accuracy\")\n",
    "    ax.plot(history.history[\"val_accuracy\"],'b-x', label=\"Validation Accuracy\")\n",
    "    ax.legend()\n",
    "    ax.set_title('accuracy')\n",
    "    ax.grid(True)\n",
    "\n",
    "def print_score(history):\n",
    "    print(\"lastes accuracy and loss\")\n",
    "    print(\"train_loss : {:.4f}, val_loss : {:.4f}\\ntrain_acc : {:.4f}, val_acc : {:.4f}\".format(history.history['loss'][-1],\n",
    "                                                                                               history.history['val_loss'][-1],\n",
    "                                                                                               history.history['accuracy'][-1],\n",
    "                                                                                               history.history['val_accuracy'][-1]))"
   ]
  },
  {
   "cell_type": "code",
   "execution_count": 5,
   "metadata": {},
   "outputs": [],
   "source": [
    "def create_confusion_matrix(model,x_val,y_val,label_names):\n",
    "    y_probs = model.predict(x_val)\n",
    "    if(y_probs[0].size > 1):\n",
    "        y_preds = y_probs.argmax(axis=1)\n",
    "        y_val = y_val.argmax(axis=1)\n",
    "    else:\n",
    "        y_preds = y_probs\n",
    "    \n",
    "    #Confusion matrix\n",
    "    cm= confusion_matrix(y_val,y_preds)\n",
    "\n",
    "    #Plot\n",
    "    disp=ConfusionMatrixDisplay(confusion_matrix=cm,display_labels=label_names)\n",
    "    fig, ax = plt.subplots(figsize=(5,5))\n",
    "    disp.plot(ax=ax,xticks_rotation=45)"
   ]
  },
  {
   "cell_type": "markdown",
   "metadata": {},
   "source": [
    "## preprocessing"
   ]
  },
  {
   "cell_type": "code",
   "execution_count": 6,
   "metadata": {},
   "outputs": [],
   "source": [
    "def extract_lesion_column(lesion):\n",
    "    site, type_l, subtype, code = 'None', 'None', 'None', 'None'\n",
    "    if lesion != 0:\n",
    "        types = re.findall('^([1-9]|11|00)([1-4])([0-2])([1-9]|10|0)',str(lesion))\n",
    "        if types:\n",
    "            site, type_l, subtype, code = types[0]\n",
    "    return pd.Series({'site': site, 'type': type_l, 'subtype': subtype, 'code': code}, dtype='category')\n"
   ]
  },
  {
   "cell_type": "markdown",
   "metadata": {},
   "source": [
    "# Preprocess Data"
   ]
  },
  {
   "cell_type": "code",
   "execution_count": 7,
   "metadata": {},
   "outputs": [],
   "source": [
    "n_name = [\"lived\",\"died\",\"euthanized\"]"
   ]
  },
  {
   "cell_type": "code",
   "execution_count": 8,
   "metadata": {},
   "outputs": [],
   "source": [
    "df_cow.loc[:, ['site', 'type', 'subtype', 'code']] = df_cow.lesion.apply(extract_lesion_column).astype('category')"
   ]
  },
  {
   "cell_type": "code",
   "execution_count": 9,
   "metadata": {
    "scrolled": true
   },
   "outputs": [
    {
     "data": {
      "text/html": [
       "<div>\n",
       "<style scoped>\n",
       "    .dataframe tbody tr th:only-of-type {\n",
       "        vertical-align: middle;\n",
       "    }\n",
       "\n",
       "    .dataframe tbody tr th {\n",
       "        vertical-align: top;\n",
       "    }\n",
       "\n",
       "    .dataframe thead th {\n",
       "        text-align: right;\n",
       "    }\n",
       "</style>\n",
       "<table border=\"1\" class=\"dataframe\">\n",
       "  <thead>\n",
       "    <tr style=\"text-align: right;\">\n",
       "      <th></th>\n",
       "      <th>surgery</th>\n",
       "      <th>age</th>\n",
       "      <th>hospital_number</th>\n",
       "      <th>temperature</th>\n",
       "      <th>pulse</th>\n",
       "      <th>respiratory_rate</th>\n",
       "      <th>temp_of_extremities</th>\n",
       "      <th>peripheral_pulse</th>\n",
       "      <th>mucous_membrane</th>\n",
       "      <th>capillary_refill_time</th>\n",
       "      <th>...</th>\n",
       "      <th>total_protein</th>\n",
       "      <th>abdomo_appearance</th>\n",
       "      <th>abdomo_protein</th>\n",
       "      <th>outcome Class</th>\n",
       "      <th>surgical_lesion</th>\n",
       "      <th>lesion</th>\n",
       "      <th>site</th>\n",
       "      <th>type</th>\n",
       "      <th>subtype</th>\n",
       "      <th>code</th>\n",
       "    </tr>\n",
       "  </thead>\n",
       "  <tbody>\n",
       "    <tr>\n",
       "      <th>0</th>\n",
       "      <td>no</td>\n",
       "      <td>adult</td>\n",
       "      <td>530101</td>\n",
       "      <td>38.5</td>\n",
       "      <td>66.0</td>\n",
       "      <td>28.0</td>\n",
       "      <td>cool</td>\n",
       "      <td>reduced</td>\n",
       "      <td>NaN</td>\n",
       "      <td>more_3_sec</td>\n",
       "      <td>...</td>\n",
       "      <td>8.4</td>\n",
       "      <td>NaN</td>\n",
       "      <td>NaN</td>\n",
       "      <td>died</td>\n",
       "      <td>no</td>\n",
       "      <td>11300</td>\n",
       "      <td>11</td>\n",
       "      <td>3</td>\n",
       "      <td>0</td>\n",
       "      <td>0</td>\n",
       "    </tr>\n",
       "    <tr>\n",
       "      <th>1</th>\n",
       "      <td>yes</td>\n",
       "      <td>adult</td>\n",
       "      <td>534817</td>\n",
       "      <td>39.2</td>\n",
       "      <td>88.0</td>\n",
       "      <td>20.0</td>\n",
       "      <td>NaN</td>\n",
       "      <td>NaN</td>\n",
       "      <td>pale_cyanotic</td>\n",
       "      <td>less_3_sec</td>\n",
       "      <td>...</td>\n",
       "      <td>85.0</td>\n",
       "      <td>cloudy</td>\n",
       "      <td>2.0</td>\n",
       "      <td>euthanized</td>\n",
       "      <td>no</td>\n",
       "      <td>2208</td>\n",
       "      <td>2</td>\n",
       "      <td>2</td>\n",
       "      <td>0</td>\n",
       "      <td>8</td>\n",
       "    </tr>\n",
       "    <tr>\n",
       "      <th>2</th>\n",
       "      <td>no</td>\n",
       "      <td>adult</td>\n",
       "      <td>530334</td>\n",
       "      <td>38.3</td>\n",
       "      <td>40.0</td>\n",
       "      <td>24.0</td>\n",
       "      <td>normal</td>\n",
       "      <td>normal</td>\n",
       "      <td>pale_pink</td>\n",
       "      <td>less_3_sec</td>\n",
       "      <td>...</td>\n",
       "      <td>6.7</td>\n",
       "      <td>NaN</td>\n",
       "      <td>NaN</td>\n",
       "      <td>lived</td>\n",
       "      <td>no</td>\n",
       "      <td>0</td>\n",
       "      <td>None</td>\n",
       "      <td>None</td>\n",
       "      <td>None</td>\n",
       "      <td>None</td>\n",
       "    </tr>\n",
       "    <tr>\n",
       "      <th>3</th>\n",
       "      <td>yes</td>\n",
       "      <td>young</td>\n",
       "      <td>5290409</td>\n",
       "      <td>39.1</td>\n",
       "      <td>164.0</td>\n",
       "      <td>84.0</td>\n",
       "      <td>cold</td>\n",
       "      <td>normal</td>\n",
       "      <td>dark_cyanotic</td>\n",
       "      <td>more_3_sec</td>\n",
       "      <td>...</td>\n",
       "      <td>7.2</td>\n",
       "      <td>serosanguious</td>\n",
       "      <td>5.3</td>\n",
       "      <td>died</td>\n",
       "      <td>yes</td>\n",
       "      <td>2208</td>\n",
       "      <td>2</td>\n",
       "      <td>2</td>\n",
       "      <td>0</td>\n",
       "      <td>8</td>\n",
       "    </tr>\n",
       "    <tr>\n",
       "      <th>4</th>\n",
       "      <td>no</td>\n",
       "      <td>adult</td>\n",
       "      <td>530255</td>\n",
       "      <td>37.3</td>\n",
       "      <td>104.0</td>\n",
       "      <td>35.0</td>\n",
       "      <td>NaN</td>\n",
       "      <td>NaN</td>\n",
       "      <td>dark_cyanotic</td>\n",
       "      <td>more_3_sec</td>\n",
       "      <td>...</td>\n",
       "      <td>7.4</td>\n",
       "      <td>NaN</td>\n",
       "      <td>NaN</td>\n",
       "      <td>died</td>\n",
       "      <td>no</td>\n",
       "      <td>4300</td>\n",
       "      <td>4</td>\n",
       "      <td>3</td>\n",
       "      <td>0</td>\n",
       "      <td>0</td>\n",
       "    </tr>\n",
       "  </tbody>\n",
       "</table>\n",
       "<p>5 rows × 29 columns</p>\n",
       "</div>"
      ],
      "text/plain": [
       "  surgery    age  hospital_number  temperature  pulse  respiratory_rate  \\\n",
       "0      no  adult           530101         38.5   66.0              28.0   \n",
       "1     yes  adult           534817         39.2   88.0              20.0   \n",
       "2      no  adult           530334         38.3   40.0              24.0   \n",
       "3     yes  young          5290409         39.1  164.0              84.0   \n",
       "4      no  adult           530255         37.3  104.0              35.0   \n",
       "\n",
       "  temp_of_extremities peripheral_pulse mucous_membrane capillary_refill_time  \\\n",
       "0                cool          reduced             NaN            more_3_sec   \n",
       "1                 NaN              NaN   pale_cyanotic            less_3_sec   \n",
       "2              normal           normal       pale_pink            less_3_sec   \n",
       "3                cold           normal   dark_cyanotic            more_3_sec   \n",
       "4                 NaN              NaN   dark_cyanotic            more_3_sec   \n",
       "\n",
       "   ... total_protein abdomo_appearance abdomo_protein outcome Class  \\\n",
       "0  ...           8.4               NaN            NaN          died   \n",
       "1  ...          85.0            cloudy            2.0    euthanized   \n",
       "2  ...           6.7               NaN            NaN         lived   \n",
       "3  ...           7.2     serosanguious            5.3          died   \n",
       "4  ...           7.4               NaN            NaN          died   \n",
       "\n",
       "  surgical_lesion  lesion  site  type  subtype  code  \n",
       "0              no   11300    11     3        0     0  \n",
       "1              no    2208     2     2        0     8  \n",
       "2              no       0  None  None     None  None  \n",
       "3             yes    2208     2     2        0     8  \n",
       "4              no    4300     4     3        0     0  \n",
       "\n",
       "[5 rows x 29 columns]"
      ]
     },
     "execution_count": 9,
     "metadata": {},
     "output_type": "execute_result"
    }
   ],
   "source": [
    "df_cow.head()"
   ]
  },
  {
   "cell_type": "code",
   "execution_count": 10,
   "metadata": {
    "scrolled": false
   },
   "outputs": [
    {
     "data": {
      "text/html": [
       "<div>\n",
       "<style scoped>\n",
       "    .dataframe tbody tr th:only-of-type {\n",
       "        vertical-align: middle;\n",
       "    }\n",
       "\n",
       "    .dataframe tbody tr th {\n",
       "        vertical-align: top;\n",
       "    }\n",
       "\n",
       "    .dataframe thead th {\n",
       "        text-align: right;\n",
       "    }\n",
       "</style>\n",
       "<table border=\"1\" class=\"dataframe\">\n",
       "  <thead>\n",
       "    <tr style=\"text-align: right;\">\n",
       "      <th></th>\n",
       "      <th>surgery</th>\n",
       "      <th>age</th>\n",
       "      <th>temperature</th>\n",
       "      <th>pulse</th>\n",
       "      <th>respiratory_rate</th>\n",
       "      <th>temp_of_extremities</th>\n",
       "      <th>peripheral_pulse</th>\n",
       "      <th>mucous_membrane</th>\n",
       "      <th>capillary_refill_time</th>\n",
       "      <th>pain</th>\n",
       "      <th>...</th>\n",
       "      <th>abdomen</th>\n",
       "      <th>packed_cell_volume</th>\n",
       "      <th>total_protein</th>\n",
       "      <th>abdomo_appearance</th>\n",
       "      <th>abdomo_protein</th>\n",
       "      <th>surgical_lesion</th>\n",
       "      <th>site</th>\n",
       "      <th>type</th>\n",
       "      <th>subtype</th>\n",
       "      <th>code</th>\n",
       "    </tr>\n",
       "  </thead>\n",
       "  <tbody>\n",
       "    <tr>\n",
       "      <th>0</th>\n",
       "      <td>no</td>\n",
       "      <td>adult</td>\n",
       "      <td>38.5</td>\n",
       "      <td>66.0</td>\n",
       "      <td>28.0</td>\n",
       "      <td>cool</td>\n",
       "      <td>reduced</td>\n",
       "      <td>NaN</td>\n",
       "      <td>more_3_sec</td>\n",
       "      <td>extreme_pain</td>\n",
       "      <td>...</td>\n",
       "      <td>distend_large</td>\n",
       "      <td>45.0</td>\n",
       "      <td>8.4</td>\n",
       "      <td>NaN</td>\n",
       "      <td>NaN</td>\n",
       "      <td>no</td>\n",
       "      <td>11</td>\n",
       "      <td>3</td>\n",
       "      <td>0</td>\n",
       "      <td>0</td>\n",
       "    </tr>\n",
       "    <tr>\n",
       "      <th>1</th>\n",
       "      <td>yes</td>\n",
       "      <td>adult</td>\n",
       "      <td>39.2</td>\n",
       "      <td>88.0</td>\n",
       "      <td>20.0</td>\n",
       "      <td>NaN</td>\n",
       "      <td>NaN</td>\n",
       "      <td>pale_cyanotic</td>\n",
       "      <td>less_3_sec</td>\n",
       "      <td>mild_pain</td>\n",
       "      <td>...</td>\n",
       "      <td>other</td>\n",
       "      <td>50.0</td>\n",
       "      <td>85.0</td>\n",
       "      <td>cloudy</td>\n",
       "      <td>2.0</td>\n",
       "      <td>no</td>\n",
       "      <td>2</td>\n",
       "      <td>2</td>\n",
       "      <td>0</td>\n",
       "      <td>8</td>\n",
       "    </tr>\n",
       "    <tr>\n",
       "      <th>2</th>\n",
       "      <td>no</td>\n",
       "      <td>adult</td>\n",
       "      <td>38.3</td>\n",
       "      <td>40.0</td>\n",
       "      <td>24.0</td>\n",
       "      <td>normal</td>\n",
       "      <td>normal</td>\n",
       "      <td>pale_pink</td>\n",
       "      <td>less_3_sec</td>\n",
       "      <td>mild_pain</td>\n",
       "      <td>...</td>\n",
       "      <td>normal</td>\n",
       "      <td>33.0</td>\n",
       "      <td>6.7</td>\n",
       "      <td>NaN</td>\n",
       "      <td>NaN</td>\n",
       "      <td>no</td>\n",
       "      <td>None</td>\n",
       "      <td>None</td>\n",
       "      <td>None</td>\n",
       "      <td>None</td>\n",
       "    </tr>\n",
       "    <tr>\n",
       "      <th>3</th>\n",
       "      <td>yes</td>\n",
       "      <td>young</td>\n",
       "      <td>39.1</td>\n",
       "      <td>164.0</td>\n",
       "      <td>84.0</td>\n",
       "      <td>cold</td>\n",
       "      <td>normal</td>\n",
       "      <td>dark_cyanotic</td>\n",
       "      <td>more_3_sec</td>\n",
       "      <td>depressed</td>\n",
       "      <td>...</td>\n",
       "      <td>NaN</td>\n",
       "      <td>48.0</td>\n",
       "      <td>7.2</td>\n",
       "      <td>serosanguious</td>\n",
       "      <td>5.3</td>\n",
       "      <td>yes</td>\n",
       "      <td>2</td>\n",
       "      <td>2</td>\n",
       "      <td>0</td>\n",
       "      <td>8</td>\n",
       "    </tr>\n",
       "    <tr>\n",
       "      <th>4</th>\n",
       "      <td>no</td>\n",
       "      <td>adult</td>\n",
       "      <td>37.3</td>\n",
       "      <td>104.0</td>\n",
       "      <td>35.0</td>\n",
       "      <td>NaN</td>\n",
       "      <td>NaN</td>\n",
       "      <td>dark_cyanotic</td>\n",
       "      <td>more_3_sec</td>\n",
       "      <td>NaN</td>\n",
       "      <td>...</td>\n",
       "      <td>NaN</td>\n",
       "      <td>74.0</td>\n",
       "      <td>7.4</td>\n",
       "      <td>NaN</td>\n",
       "      <td>NaN</td>\n",
       "      <td>no</td>\n",
       "      <td>4</td>\n",
       "      <td>3</td>\n",
       "      <td>0</td>\n",
       "      <td>0</td>\n",
       "    </tr>\n",
       "  </tbody>\n",
       "</table>\n",
       "<p>5 rows × 26 columns</p>\n",
       "</div>"
      ],
      "text/plain": [
       "  surgery    age  temperature  pulse  respiratory_rate temp_of_extremities  \\\n",
       "0      no  adult         38.5   66.0              28.0                cool   \n",
       "1     yes  adult         39.2   88.0              20.0                 NaN   \n",
       "2      no  adult         38.3   40.0              24.0              normal   \n",
       "3     yes  young         39.1  164.0              84.0                cold   \n",
       "4      no  adult         37.3  104.0              35.0                 NaN   \n",
       "\n",
       "  peripheral_pulse mucous_membrane capillary_refill_time          pain  ...  \\\n",
       "0          reduced             NaN            more_3_sec  extreme_pain  ...   \n",
       "1              NaN   pale_cyanotic            less_3_sec     mild_pain  ...   \n",
       "2           normal       pale_pink            less_3_sec     mild_pain  ...   \n",
       "3           normal   dark_cyanotic            more_3_sec     depressed  ...   \n",
       "4              NaN   dark_cyanotic            more_3_sec           NaN  ...   \n",
       "\n",
       "         abdomen packed_cell_volume total_protein abdomo_appearance  \\\n",
       "0  distend_large               45.0           8.4               NaN   \n",
       "1          other               50.0          85.0            cloudy   \n",
       "2         normal               33.0           6.7               NaN   \n",
       "3            NaN               48.0           7.2     serosanguious   \n",
       "4            NaN               74.0           7.4               NaN   \n",
       "\n",
       "   abdomo_protein surgical_lesion  site  type  subtype  code  \n",
       "0             NaN              no    11     3        0     0  \n",
       "1             2.0              no     2     2        0     8  \n",
       "2             NaN              no  None  None     None  None  \n",
       "3             5.3             yes     2     2        0     8  \n",
       "4             NaN              no     4     3        0     0  \n",
       "\n",
       "[5 rows x 26 columns]"
      ]
     },
     "execution_count": 10,
     "metadata": {},
     "output_type": "execute_result"
    }
   ],
   "source": [
    "#drop column ที่ไม่จำเป็น\n",
    "if \"outcome Class\" in df_cow.columns:\n",
    "    y = df_cow['outcome Class']\n",
    "    df_cow.drop(columns=[\"outcome Class\"], inplace=True)\n",
    "if \"lesion\" in df_cow.columns:\n",
    "    df_cow.drop(columns=['hospital_number',\"lesion\"], inplace=True)\n",
    "df_cow.head()"
   ]
  },
  {
   "cell_type": "code",
   "execution_count": 11,
   "metadata": {
    "scrolled": true
   },
   "outputs": [],
   "source": [
    "numerical = list(df_cow._get_numeric_data().columns)\n",
    "categorical = list(set(df_cow.columns) - set(numerical))"
   ]
  },
  {
   "cell_type": "code",
   "execution_count": 12,
   "metadata": {
    "scrolled": true
   },
   "outputs": [
    {
     "data": {
      "text/plain": [
       "temperature              38.168619\n",
       "pulse                    72.000000\n",
       "respiratory_rate         30.460581\n",
       "nasogastric_reflux_ph     4.707547\n",
       "packed_cell_volume       46.307407\n",
       "total_protein            24.274436\n",
       "abdomo_protein            3.039604\n",
       "dtype: float64"
      ]
     },
     "execution_count": 12,
     "metadata": {},
     "output_type": "execute_result"
    }
   ],
   "source": [
    "df_cow.fillna(df_cow.mean(numeric_only=True), inplace=True)\n",
    "df_cow.mean(numeric_only=True)"
   ]
  },
  {
   "cell_type": "code",
   "execution_count": 13,
   "metadata": {},
   "outputs": [
    {
     "data": {
      "text/html": [
       "<div>\n",
       "<style scoped>\n",
       "    .dataframe tbody tr th:only-of-type {\n",
       "        vertical-align: middle;\n",
       "    }\n",
       "\n",
       "    .dataframe tbody tr th {\n",
       "        vertical-align: top;\n",
       "    }\n",
       "\n",
       "    .dataframe thead th {\n",
       "        text-align: right;\n",
       "    }\n",
       "</style>\n",
       "<table border=\"1\" class=\"dataframe\">\n",
       "  <thead>\n",
       "    <tr style=\"text-align: right;\">\n",
       "      <th></th>\n",
       "      <th>temperature</th>\n",
       "      <th>pulse</th>\n",
       "      <th>respiratory_rate</th>\n",
       "      <th>nasogastric_reflux_ph</th>\n",
       "      <th>packed_cell_volume</th>\n",
       "      <th>total_protein</th>\n",
       "      <th>abdomo_protein</th>\n",
       "    </tr>\n",
       "  </thead>\n",
       "  <tbody>\n",
       "    <tr>\n",
       "      <th>0</th>\n",
       "      <td>38.5</td>\n",
       "      <td>66.0</td>\n",
       "      <td>28.0</td>\n",
       "      <td>4.707547</td>\n",
       "      <td>45.0</td>\n",
       "      <td>8.4</td>\n",
       "      <td>3.039604</td>\n",
       "    </tr>\n",
       "    <tr>\n",
       "      <th>1</th>\n",
       "      <td>39.2</td>\n",
       "      <td>88.0</td>\n",
       "      <td>20.0</td>\n",
       "      <td>4.707547</td>\n",
       "      <td>50.0</td>\n",
       "      <td>85.0</td>\n",
       "      <td>2.000000</td>\n",
       "    </tr>\n",
       "    <tr>\n",
       "      <th>2</th>\n",
       "      <td>38.3</td>\n",
       "      <td>40.0</td>\n",
       "      <td>24.0</td>\n",
       "      <td>4.707547</td>\n",
       "      <td>33.0</td>\n",
       "      <td>6.7</td>\n",
       "      <td>3.039604</td>\n",
       "    </tr>\n",
       "    <tr>\n",
       "      <th>3</th>\n",
       "      <td>39.1</td>\n",
       "      <td>164.0</td>\n",
       "      <td>84.0</td>\n",
       "      <td>5.000000</td>\n",
       "      <td>48.0</td>\n",
       "      <td>7.2</td>\n",
       "      <td>5.300000</td>\n",
       "    </tr>\n",
       "    <tr>\n",
       "      <th>4</th>\n",
       "      <td>37.3</td>\n",
       "      <td>104.0</td>\n",
       "      <td>35.0</td>\n",
       "      <td>4.707547</td>\n",
       "      <td>74.0</td>\n",
       "      <td>7.4</td>\n",
       "      <td>3.039604</td>\n",
       "    </tr>\n",
       "  </tbody>\n",
       "</table>\n",
       "</div>"
      ],
      "text/plain": [
       "   temperature  pulse  respiratory_rate  nasogastric_reflux_ph  \\\n",
       "0         38.5   66.0              28.0               4.707547   \n",
       "1         39.2   88.0              20.0               4.707547   \n",
       "2         38.3   40.0              24.0               4.707547   \n",
       "3         39.1  164.0              84.0               5.000000   \n",
       "4         37.3  104.0              35.0               4.707547   \n",
       "\n",
       "   packed_cell_volume  total_protein  abdomo_protein  \n",
       "0                45.0            8.4        3.039604  \n",
       "1                50.0           85.0        2.000000  \n",
       "2                33.0            6.7        3.039604  \n",
       "3                48.0            7.2        5.300000  \n",
       "4                74.0            7.4        3.039604  "
      ]
     },
     "execution_count": 13,
     "metadata": {},
     "output_type": "execute_result"
    }
   ],
   "source": [
    "df_cow_numerical = df_cow[numerical].copy()\n",
    "df_cow_numerical.head()"
   ]
  },
  {
   "cell_type": "code",
   "execution_count": 14,
   "metadata": {
    "scrolled": true
   },
   "outputs": [
    {
     "data": {
      "text/html": [
       "<div>\n",
       "<style scoped>\n",
       "    .dataframe tbody tr th:only-of-type {\n",
       "        vertical-align: middle;\n",
       "    }\n",
       "\n",
       "    .dataframe tbody tr th {\n",
       "        vertical-align: top;\n",
       "    }\n",
       "\n",
       "    .dataframe thead th {\n",
       "        text-align: right;\n",
       "    }\n",
       "</style>\n",
       "<table border=\"1\" class=\"dataframe\">\n",
       "  <thead>\n",
       "    <tr style=\"text-align: right;\">\n",
       "      <th></th>\n",
       "      <th>mucous_membrane_bright_pink</th>\n",
       "      <th>mucous_membrane_bright_red</th>\n",
       "      <th>mucous_membrane_dark_cyanotic</th>\n",
       "      <th>mucous_membrane_normal_pink</th>\n",
       "      <th>mucous_membrane_pale_cyanotic</th>\n",
       "      <th>mucous_membrane_pale_pink</th>\n",
       "      <th>mucous_membrane_nan</th>\n",
       "      <th>site_1</th>\n",
       "      <th>site_11</th>\n",
       "      <th>site_2</th>\n",
       "      <th>...</th>\n",
       "      <th>code_nan</th>\n",
       "      <th>abdomen_distend_large</th>\n",
       "      <th>abdomen_distend_small</th>\n",
       "      <th>abdomen_firm</th>\n",
       "      <th>abdomen_normal</th>\n",
       "      <th>abdomen_other</th>\n",
       "      <th>abdomen_nan</th>\n",
       "      <th>age_adult</th>\n",
       "      <th>age_young</th>\n",
       "      <th>age_nan</th>\n",
       "    </tr>\n",
       "  </thead>\n",
       "  <tbody>\n",
       "    <tr>\n",
       "      <th>0</th>\n",
       "      <td>0</td>\n",
       "      <td>0</td>\n",
       "      <td>0</td>\n",
       "      <td>0</td>\n",
       "      <td>0</td>\n",
       "      <td>0</td>\n",
       "      <td>1</td>\n",
       "      <td>0</td>\n",
       "      <td>1</td>\n",
       "      <td>0</td>\n",
       "      <td>...</td>\n",
       "      <td>0</td>\n",
       "      <td>1</td>\n",
       "      <td>0</td>\n",
       "      <td>0</td>\n",
       "      <td>0</td>\n",
       "      <td>0</td>\n",
       "      <td>0</td>\n",
       "      <td>1</td>\n",
       "      <td>0</td>\n",
       "      <td>0</td>\n",
       "    </tr>\n",
       "    <tr>\n",
       "      <th>1</th>\n",
       "      <td>0</td>\n",
       "      <td>0</td>\n",
       "      <td>0</td>\n",
       "      <td>0</td>\n",
       "      <td>1</td>\n",
       "      <td>0</td>\n",
       "      <td>0</td>\n",
       "      <td>0</td>\n",
       "      <td>0</td>\n",
       "      <td>1</td>\n",
       "      <td>...</td>\n",
       "      <td>0</td>\n",
       "      <td>0</td>\n",
       "      <td>0</td>\n",
       "      <td>0</td>\n",
       "      <td>0</td>\n",
       "      <td>1</td>\n",
       "      <td>0</td>\n",
       "      <td>1</td>\n",
       "      <td>0</td>\n",
       "      <td>0</td>\n",
       "    </tr>\n",
       "    <tr>\n",
       "      <th>2</th>\n",
       "      <td>0</td>\n",
       "      <td>0</td>\n",
       "      <td>0</td>\n",
       "      <td>0</td>\n",
       "      <td>0</td>\n",
       "      <td>1</td>\n",
       "      <td>0</td>\n",
       "      <td>0</td>\n",
       "      <td>0</td>\n",
       "      <td>0</td>\n",
       "      <td>...</td>\n",
       "      <td>0</td>\n",
       "      <td>0</td>\n",
       "      <td>0</td>\n",
       "      <td>0</td>\n",
       "      <td>1</td>\n",
       "      <td>0</td>\n",
       "      <td>0</td>\n",
       "      <td>1</td>\n",
       "      <td>0</td>\n",
       "      <td>0</td>\n",
       "    </tr>\n",
       "    <tr>\n",
       "      <th>3</th>\n",
       "      <td>0</td>\n",
       "      <td>0</td>\n",
       "      <td>1</td>\n",
       "      <td>0</td>\n",
       "      <td>0</td>\n",
       "      <td>0</td>\n",
       "      <td>0</td>\n",
       "      <td>0</td>\n",
       "      <td>0</td>\n",
       "      <td>1</td>\n",
       "      <td>...</td>\n",
       "      <td>0</td>\n",
       "      <td>0</td>\n",
       "      <td>0</td>\n",
       "      <td>0</td>\n",
       "      <td>0</td>\n",
       "      <td>0</td>\n",
       "      <td>1</td>\n",
       "      <td>0</td>\n",
       "      <td>1</td>\n",
       "      <td>0</td>\n",
       "    </tr>\n",
       "    <tr>\n",
       "      <th>4</th>\n",
       "      <td>0</td>\n",
       "      <td>0</td>\n",
       "      <td>1</td>\n",
       "      <td>0</td>\n",
       "      <td>0</td>\n",
       "      <td>0</td>\n",
       "      <td>0</td>\n",
       "      <td>0</td>\n",
       "      <td>0</td>\n",
       "      <td>0</td>\n",
       "      <td>...</td>\n",
       "      <td>0</td>\n",
       "      <td>0</td>\n",
       "      <td>0</td>\n",
       "      <td>0</td>\n",
       "      <td>0</td>\n",
       "      <td>0</td>\n",
       "      <td>1</td>\n",
       "      <td>1</td>\n",
       "      <td>0</td>\n",
       "      <td>0</td>\n",
       "    </tr>\n",
       "  </tbody>\n",
       "</table>\n",
       "<p>5 rows × 104 columns</p>\n",
       "</div>"
      ],
      "text/plain": [
       "   mucous_membrane_bright_pink  mucous_membrane_bright_red  \\\n",
       "0                            0                           0   \n",
       "1                            0                           0   \n",
       "2                            0                           0   \n",
       "3                            0                           0   \n",
       "4                            0                           0   \n",
       "\n",
       "   mucous_membrane_dark_cyanotic  mucous_membrane_normal_pink  \\\n",
       "0                              0                            0   \n",
       "1                              0                            0   \n",
       "2                              0                            0   \n",
       "3                              1                            0   \n",
       "4                              1                            0   \n",
       "\n",
       "   mucous_membrane_pale_cyanotic  mucous_membrane_pale_pink  \\\n",
       "0                              0                          0   \n",
       "1                              1                          0   \n",
       "2                              0                          1   \n",
       "3                              0                          0   \n",
       "4                              0                          0   \n",
       "\n",
       "   mucous_membrane_nan  site_1  site_11  site_2  ...  code_nan  \\\n",
       "0                    1       0        1       0  ...         0   \n",
       "1                    0       0        0       1  ...         0   \n",
       "2                    0       0        0       0  ...         0   \n",
       "3                    0       0        0       1  ...         0   \n",
       "4                    0       0        0       0  ...         0   \n",
       "\n",
       "   abdomen_distend_large  abdomen_distend_small  abdomen_firm  abdomen_normal  \\\n",
       "0                      1                      0             0               0   \n",
       "1                      0                      0             0               0   \n",
       "2                      0                      0             0               1   \n",
       "3                      0                      0             0               0   \n",
       "4                      0                      0             0               0   \n",
       "\n",
       "   abdomen_other  abdomen_nan  age_adult  age_young  age_nan  \n",
       "0              0            0          1          0        0  \n",
       "1              1            0          1          0        0  \n",
       "2              0            0          1          0        0  \n",
       "3              0            1          0          1        0  \n",
       "4              0            1          1          0        0  \n",
       "\n",
       "[5 rows x 104 columns]"
      ]
     },
     "execution_count": 14,
     "metadata": {},
     "output_type": "execute_result"
    }
   ],
   "source": [
    "df_cow_categorical = pd.DataFrame()\n",
    "\n",
    "for c in categorical:\n",
    "    encoded = pd.get_dummies(df_cow[c], dummy_na=True, prefix=c)\n",
    "    df_cow_categorical = pd.concat([df_cow_categorical, encoded], axis=1)\n",
    "\n",
    "df_cow_categorical.head()"
   ]
  },
  {
   "cell_type": "code",
   "execution_count": 15,
   "metadata": {
    "scrolled": false
   },
   "outputs": [
    {
     "data": {
      "text/html": [
       "<div>\n",
       "<style scoped>\n",
       "    .dataframe tbody tr th:only-of-type {\n",
       "        vertical-align: middle;\n",
       "    }\n",
       "\n",
       "    .dataframe tbody tr th {\n",
       "        vertical-align: top;\n",
       "    }\n",
       "\n",
       "    .dataframe thead th {\n",
       "        text-align: right;\n",
       "    }\n",
       "</style>\n",
       "<table border=\"1\" class=\"dataframe\">\n",
       "  <thead>\n",
       "    <tr style=\"text-align: right;\">\n",
       "      <th></th>\n",
       "      <th>temperature</th>\n",
       "      <th>pulse</th>\n",
       "      <th>respiratory_rate</th>\n",
       "      <th>nasogastric_reflux_ph</th>\n",
       "      <th>packed_cell_volume</th>\n",
       "      <th>total_protein</th>\n",
       "      <th>abdomo_protein</th>\n",
       "      <th>mucous_membrane_bright_pink</th>\n",
       "      <th>mucous_membrane_bright_red</th>\n",
       "      <th>mucous_membrane_dark_cyanotic</th>\n",
       "      <th>...</th>\n",
       "      <th>code_nan</th>\n",
       "      <th>abdomen_distend_large</th>\n",
       "      <th>abdomen_distend_small</th>\n",
       "      <th>abdomen_firm</th>\n",
       "      <th>abdomen_normal</th>\n",
       "      <th>abdomen_other</th>\n",
       "      <th>abdomen_nan</th>\n",
       "      <th>age_adult</th>\n",
       "      <th>age_young</th>\n",
       "      <th>age_nan</th>\n",
       "    </tr>\n",
       "  </thead>\n",
       "  <tbody>\n",
       "    <tr>\n",
       "      <th>0</th>\n",
       "      <td>38.5</td>\n",
       "      <td>66.0</td>\n",
       "      <td>28.0</td>\n",
       "      <td>4.707547</td>\n",
       "      <td>45.0</td>\n",
       "      <td>8.4</td>\n",
       "      <td>3.039604</td>\n",
       "      <td>0</td>\n",
       "      <td>0</td>\n",
       "      <td>0</td>\n",
       "      <td>...</td>\n",
       "      <td>0</td>\n",
       "      <td>1</td>\n",
       "      <td>0</td>\n",
       "      <td>0</td>\n",
       "      <td>0</td>\n",
       "      <td>0</td>\n",
       "      <td>0</td>\n",
       "      <td>1</td>\n",
       "      <td>0</td>\n",
       "      <td>0</td>\n",
       "    </tr>\n",
       "    <tr>\n",
       "      <th>1</th>\n",
       "      <td>39.2</td>\n",
       "      <td>88.0</td>\n",
       "      <td>20.0</td>\n",
       "      <td>4.707547</td>\n",
       "      <td>50.0</td>\n",
       "      <td>85.0</td>\n",
       "      <td>2.000000</td>\n",
       "      <td>0</td>\n",
       "      <td>0</td>\n",
       "      <td>0</td>\n",
       "      <td>...</td>\n",
       "      <td>0</td>\n",
       "      <td>0</td>\n",
       "      <td>0</td>\n",
       "      <td>0</td>\n",
       "      <td>0</td>\n",
       "      <td>1</td>\n",
       "      <td>0</td>\n",
       "      <td>1</td>\n",
       "      <td>0</td>\n",
       "      <td>0</td>\n",
       "    </tr>\n",
       "    <tr>\n",
       "      <th>2</th>\n",
       "      <td>38.3</td>\n",
       "      <td>40.0</td>\n",
       "      <td>24.0</td>\n",
       "      <td>4.707547</td>\n",
       "      <td>33.0</td>\n",
       "      <td>6.7</td>\n",
       "      <td>3.039604</td>\n",
       "      <td>0</td>\n",
       "      <td>0</td>\n",
       "      <td>0</td>\n",
       "      <td>...</td>\n",
       "      <td>0</td>\n",
       "      <td>0</td>\n",
       "      <td>0</td>\n",
       "      <td>0</td>\n",
       "      <td>1</td>\n",
       "      <td>0</td>\n",
       "      <td>0</td>\n",
       "      <td>1</td>\n",
       "      <td>0</td>\n",
       "      <td>0</td>\n",
       "    </tr>\n",
       "    <tr>\n",
       "      <th>3</th>\n",
       "      <td>39.1</td>\n",
       "      <td>164.0</td>\n",
       "      <td>84.0</td>\n",
       "      <td>5.000000</td>\n",
       "      <td>48.0</td>\n",
       "      <td>7.2</td>\n",
       "      <td>5.300000</td>\n",
       "      <td>0</td>\n",
       "      <td>0</td>\n",
       "      <td>1</td>\n",
       "      <td>...</td>\n",
       "      <td>0</td>\n",
       "      <td>0</td>\n",
       "      <td>0</td>\n",
       "      <td>0</td>\n",
       "      <td>0</td>\n",
       "      <td>0</td>\n",
       "      <td>1</td>\n",
       "      <td>0</td>\n",
       "      <td>1</td>\n",
       "      <td>0</td>\n",
       "    </tr>\n",
       "    <tr>\n",
       "      <th>4</th>\n",
       "      <td>37.3</td>\n",
       "      <td>104.0</td>\n",
       "      <td>35.0</td>\n",
       "      <td>4.707547</td>\n",
       "      <td>74.0</td>\n",
       "      <td>7.4</td>\n",
       "      <td>3.039604</td>\n",
       "      <td>0</td>\n",
       "      <td>0</td>\n",
       "      <td>1</td>\n",
       "      <td>...</td>\n",
       "      <td>0</td>\n",
       "      <td>0</td>\n",
       "      <td>0</td>\n",
       "      <td>0</td>\n",
       "      <td>0</td>\n",
       "      <td>0</td>\n",
       "      <td>1</td>\n",
       "      <td>1</td>\n",
       "      <td>0</td>\n",
       "      <td>0</td>\n",
       "    </tr>\n",
       "  </tbody>\n",
       "</table>\n",
       "<p>5 rows × 111 columns</p>\n",
       "</div>"
      ],
      "text/plain": [
       "   temperature  pulse  respiratory_rate  nasogastric_reflux_ph  \\\n",
       "0         38.5   66.0              28.0               4.707547   \n",
       "1         39.2   88.0              20.0               4.707547   \n",
       "2         38.3   40.0              24.0               4.707547   \n",
       "3         39.1  164.0              84.0               5.000000   \n",
       "4         37.3  104.0              35.0               4.707547   \n",
       "\n",
       "   packed_cell_volume  total_protein  abdomo_protein  \\\n",
       "0                45.0            8.4        3.039604   \n",
       "1                50.0           85.0        2.000000   \n",
       "2                33.0            6.7        3.039604   \n",
       "3                48.0            7.2        5.300000   \n",
       "4                74.0            7.4        3.039604   \n",
       "\n",
       "   mucous_membrane_bright_pink  mucous_membrane_bright_red  \\\n",
       "0                            0                           0   \n",
       "1                            0                           0   \n",
       "2                            0                           0   \n",
       "3                            0                           0   \n",
       "4                            0                           0   \n",
       "\n",
       "   mucous_membrane_dark_cyanotic  ...  code_nan  abdomen_distend_large  \\\n",
       "0                              0  ...         0                      1   \n",
       "1                              0  ...         0                      0   \n",
       "2                              0  ...         0                      0   \n",
       "3                              1  ...         0                      0   \n",
       "4                              1  ...         0                      0   \n",
       "\n",
       "   abdomen_distend_small  abdomen_firm  abdomen_normal  abdomen_other  \\\n",
       "0                      0             0               0              0   \n",
       "1                      0             0               0              1   \n",
       "2                      0             0               1              0   \n",
       "3                      0             0               0              0   \n",
       "4                      0             0               0              0   \n",
       "\n",
       "   abdomen_nan  age_adult  age_young  age_nan  \n",
       "0            0          1          0        0  \n",
       "1            0          1          0        0  \n",
       "2            0          1          0        0  \n",
       "3            1          0          1        0  \n",
       "4            1          1          0        0  \n",
       "\n",
       "[5 rows x 111 columns]"
      ]
     },
     "execution_count": 15,
     "metadata": {},
     "output_type": "execute_result"
    }
   ],
   "source": [
    "df_cow_data = pd.concat([df_cow_numerical,df_cow_categorical],axis=1)\n",
    "df_cow_data.head()"
   ]
  },
  {
   "cell_type": "code",
   "execution_count": 16,
   "metadata": {},
   "outputs": [
    {
     "data": {
      "text/plain": [
       "0    1\n",
       "1    2\n",
       "2    0\n",
       "3    1\n",
       "4    1\n",
       "Name: outcome Class, dtype: int64"
      ]
     },
     "execution_count": 16,
     "metadata": {},
     "output_type": "execute_result"
    }
   ],
   "source": [
    "y = y.map({\"lived\": 0, \"died\": 1, \"euthanized\": 2})\n",
    "y.head()"
   ]
  },
  {
   "cell_type": "code",
   "execution_count": 17,
   "metadata": {},
   "outputs": [],
   "source": [
    "X = df_cow_data.values"
   ]
  },
  {
   "cell_type": "code",
   "execution_count": 18,
   "metadata": {
    "scrolled": true
   },
   "outputs": [
    {
     "data": {
      "text/plain": [
       "((299, 111), (299,))"
      ]
     },
     "execution_count": 18,
     "metadata": {},
     "output_type": "execute_result"
    }
   ],
   "source": [
    "X.shape, y.shape"
   ]
  },
  {
   "cell_type": "code",
   "execution_count": 19,
   "metadata": {},
   "outputs": [],
   "source": [
    "X_train, X_test, y_train, y_test = train_test_split(X, y, train_size=0.8, stratify=y,random_state=1234)"
   ]
  },
  {
   "cell_type": "code",
   "execution_count": 20,
   "metadata": {},
   "outputs": [
    {
     "name": "stdout",
     "output_type": "stream",
     "text": [
      "(array([0, 1, 2], dtype=int64), array([142,  62,  35], dtype=int64))\n"
     ]
    }
   ],
   "source": [
    "print(np.unique(y_train,return_counts=True))"
   ]
  },
  {
   "cell_type": "code",
   "execution_count": 21,
   "metadata": {},
   "outputs": [
    {
     "name": "stdout",
     "output_type": "stream",
     "text": [
      "(array([0, 1, 2], dtype=int64), array([36, 15,  9], dtype=int64))\n"
     ]
    }
   ],
   "source": [
    "print(np.unique(y_test,return_counts=True))"
   ]
  },
  {
   "cell_type": "code",
   "execution_count": 22,
   "metadata": {
    "scrolled": true
   },
   "outputs": [
    {
     "name": "stdout",
     "output_type": "stream",
     "text": [
      "(array([0, 1, 2], dtype=int64), array([142, 142, 142], dtype=int64))\n"
     ]
    }
   ],
   "source": [
    "from imblearn.over_sampling import SMOTE\n",
    "smote = SMOTE(random_state=1234)\n",
    "X_train, y_train = smote.fit_resample(X_train, y_train)\n",
    "print(np.unique(y_train,return_counts=True))"
   ]
  },
  {
   "cell_type": "code",
   "execution_count": 23,
   "metadata": {},
   "outputs": [],
   "source": [
    "X_train, X_val, y_train, y_val = train_test_split(X_train, y_train, test_size =81, stratify=y_train,random_state=1234)"
   ]
  },
  {
   "cell_type": "code",
   "execution_count": 24,
   "metadata": {},
   "outputs": [
    {
     "name": "stdout",
     "output_type": "stream",
     "text": [
      "(array([0, 1, 2], dtype=int64), array([115, 115, 115], dtype=int64))\n"
     ]
    }
   ],
   "source": [
    "print(np.unique(y_train,return_counts=True))"
   ]
  },
  {
   "cell_type": "code",
   "execution_count": 25,
   "metadata": {},
   "outputs": [
    {
     "name": "stdout",
     "output_type": "stream",
     "text": [
      "(array([0, 1, 2], dtype=int64), array([27, 27, 27], dtype=int64))\n"
     ]
    }
   ],
   "source": [
    "print(np.unique(y_val,return_counts=True))"
   ]
  },
  {
   "cell_type": "code",
   "execution_count": 26,
   "metadata": {},
   "outputs": [],
   "source": [
    "y_train = keras.utils.to_categorical(y_train,3)\n",
    "y_val = keras.utils.to_categorical(y_val,3)\n",
    "# y_test = keras.utils.to_categorical(y_test,3)"
   ]
  },
  {
   "cell_type": "markdown",
   "metadata": {},
   "source": [
    "---"
   ]
  },
  {
   "cell_type": "markdown",
   "metadata": {},
   "source": [
    "# Training Models"
   ]
  },
  {
   "cell_type": "markdown",
   "metadata": {},
   "source": [
    "## Non-ensemble"
   ]
  },
  {
   "cell_type": "markdown",
   "metadata": {},
   "source": [
    "### Neural Network"
   ]
  },
  {
   "cell_type": "code",
   "execution_count": 27,
   "metadata": {
    "scrolled": true
   },
   "outputs": [
    {
     "name": "stdout",
     "output_type": "stream",
     "text": [
      "Epoch 1/100\n",
      "11/11 [==============================] - 2s 48ms/step - loss: 5.9019 - accuracy: 0.3246 - precision: 0.3224 - val_loss: 1.5247 - val_accuracy: 0.3333 - val_precision: 0.3333\n",
      "Epoch 2/100\n",
      "11/11 [==============================] - 0s 15ms/step - loss: 2.8388 - accuracy: 0.3826 - precision: 0.3825 - val_loss: 0.8811 - val_accuracy: 0.5802 - val_precision: 0.7436\n",
      "Epoch 3/100\n",
      "11/11 [==============================] - 0s 19ms/step - loss: 1.8564 - accuracy: 0.3884 - precision: 0.3994 - val_loss: 0.8902 - val_accuracy: 0.6173 - val_precision: 0.8438\n",
      "Epoch 4/100\n",
      "11/11 [==============================] - 0s 14ms/step - loss: 1.4981 - accuracy: 0.4145 - precision: 0.4460 - val_loss: 0.9324 - val_accuracy: 0.6173 - val_precision: 0.7500\n",
      "Epoch 5/100\n",
      "11/11 [==============================] - 0s 23ms/step - loss: 1.3414 - accuracy: 0.3797 - precision: 0.3959 - val_loss: 0.9443 - val_accuracy: 0.5185 - val_precision: 0.7500\n",
      "Epoch 6/100\n",
      "11/11 [==============================] - 0s 21ms/step - loss: 1.1652 - accuracy: 0.4261 - precision: 0.4907 - val_loss: 0.9222 - val_accuracy: 0.6543 - val_precision: 0.8000\n",
      "Epoch 7/100\n",
      "11/11 [==============================] - 0s 24ms/step - loss: 1.0946 - accuracy: 0.4667 - precision: 0.5000 - val_loss: 0.9300 - val_accuracy: 0.6049 - val_precision: 0.7857\n",
      "Epoch 8/100\n",
      "11/11 [==============================] - 0s 25ms/step - loss: 1.0727 - accuracy: 0.4232 - precision: 0.5061 - val_loss: 0.9373 - val_accuracy: 0.5679 - val_precision: 0.7857\n",
      "Epoch 9/100\n",
      "11/11 [==============================] - 0s 21ms/step - loss: 1.0222 - accuracy: 0.5043 - precision: 0.5939 - val_loss: 0.9292 - val_accuracy: 0.5926 - val_precision: 0.8235\n",
      "Epoch 10/100\n",
      "11/11 [==============================] - 0s 21ms/step - loss: 0.9803 - accuracy: 0.4725 - precision: 0.6204 - val_loss: 0.9160 - val_accuracy: 0.5802 - val_precision: 0.7778\n",
      "Epoch 11/100\n",
      "11/11 [==============================] - 0s 18ms/step - loss: 0.9780 - accuracy: 0.5333 - precision: 0.6667 - val_loss: 0.9132 - val_accuracy: 0.6173 - val_precision: 0.7500\n",
      "Epoch 12/100\n",
      "11/11 [==============================] - 0s 15ms/step - loss: 0.9447 - accuracy: 0.5275 - precision: 0.6597 - val_loss: 0.9108 - val_accuracy: 0.6173 - val_precision: 0.7619\n",
      "Epoch 13/100\n",
      "11/11 [==============================] - 0s 14ms/step - loss: 1.0262 - accuracy: 0.4667 - precision: 0.6119 - val_loss: 0.8859 - val_accuracy: 0.6543 - val_precision: 0.8182\n",
      "Epoch 14/100\n",
      "11/11 [==============================] - 0s 14ms/step - loss: 0.9847 - accuracy: 0.5304 - precision: 0.6414 - val_loss: 0.8727 - val_accuracy: 0.6049 - val_precision: 0.8077\n",
      "Epoch 15/100\n",
      "11/11 [==============================] - 0s 17ms/step - loss: 0.9622 - accuracy: 0.5507 - precision: 0.6887 - val_loss: 0.8764 - val_accuracy: 0.6543 - val_precision: 0.7500\n",
      "Epoch 16/100\n",
      "11/11 [==============================] - 0s 15ms/step - loss: 0.9875 - accuracy: 0.4928 - precision: 0.6218 - val_loss: 0.8649 - val_accuracy: 0.7037 - val_precision: 0.7727\n",
      "Epoch 17/100\n",
      "11/11 [==============================] - 0s 13ms/step - loss: 0.9537 - accuracy: 0.5101 - precision: 0.6577 - val_loss: 0.8693 - val_accuracy: 0.7037 - val_precision: 0.8261\n",
      "Epoch 18/100\n",
      "11/11 [==============================] - 0s 11ms/step - loss: 0.9878 - accuracy: 0.4870 - precision: 0.5974 - val_loss: 0.8571 - val_accuracy: 0.7037 - val_precision: 0.8148\n",
      "Epoch 19/100\n",
      "11/11 [==============================] - 0s 11ms/step - loss: 0.9375 - accuracy: 0.5739 - precision: 0.6562 - val_loss: 0.8482 - val_accuracy: 0.6173 - val_precision: 0.7857\n",
      "Epoch 20/100\n",
      "11/11 [==============================] - 0s 12ms/step - loss: 0.9097 - accuracy: 0.5710 - precision: 0.6914 - val_loss: 0.8319 - val_accuracy: 0.6420 - val_precision: 0.7500\n",
      "Epoch 21/100\n",
      "11/11 [==============================] - 0s 15ms/step - loss: 0.9731 - accuracy: 0.5420 - precision: 0.6184 - val_loss: 0.8236 - val_accuracy: 0.6914 - val_precision: 0.8333\n",
      "Epoch 22/100\n",
      "11/11 [==============================] - 0s 18ms/step - loss: 0.9089 - accuracy: 0.5710 - precision: 0.6763 - val_loss: 0.8020 - val_accuracy: 0.6914 - val_precision: 0.7949\n",
      "Epoch 23/100\n",
      "11/11 [==============================] - 0s 15ms/step - loss: 0.9210 - accuracy: 0.5478 - precision: 0.6429 - val_loss: 0.7935 - val_accuracy: 0.6667 - val_precision: 0.8108\n",
      "Epoch 24/100\n",
      "11/11 [==============================] - 0s 18ms/step - loss: 0.9152 - accuracy: 0.5884 - precision: 0.6990 - val_loss: 0.7864 - val_accuracy: 0.7160 - val_precision: 0.7727\n",
      "Epoch 25/100\n",
      "11/11 [==============================] - 0s 30ms/step - loss: 0.8822 - accuracy: 0.6232 - precision: 0.7394 - val_loss: 0.7864 - val_accuracy: 0.7654 - val_precision: 0.8611\n",
      "Epoch 26/100\n",
      "11/11 [==============================] - 0s 46ms/step - loss: 0.9027 - accuracy: 0.5797 - precision: 0.6592 - val_loss: 0.7938 - val_accuracy: 0.7037 - val_precision: 0.8108\n",
      "Epoch 27/100\n",
      "11/11 [==============================] - 0s 38ms/step - loss: 0.8731 - accuracy: 0.5971 - precision: 0.7212 - val_loss: 0.7694 - val_accuracy: 0.7037 - val_precision: 0.8372\n",
      "Epoch 28/100\n",
      "11/11 [==============================] - 0s 22ms/step - loss: 0.8475 - accuracy: 0.6116 - precision: 0.7254 - val_loss: 0.7479 - val_accuracy: 0.7284 - val_precision: 0.8163\n",
      "Epoch 29/100\n",
      "11/11 [==============================] - 0s 14ms/step - loss: 0.8294 - accuracy: 0.6290 - precision: 0.7000 - val_loss: 0.7277 - val_accuracy: 0.7407 - val_precision: 0.8302\n",
      "Epoch 30/100\n",
      "11/11 [==============================] - 0s 15ms/step - loss: 0.8260 - accuracy: 0.6580 - precision: 0.7243 - val_loss: 0.7082 - val_accuracy: 0.7654 - val_precision: 0.8519\n",
      "Epoch 31/100\n",
      "11/11 [==============================] - 0s 14ms/step - loss: 0.8013 - accuracy: 0.6696 - precision: 0.7476 - val_loss: 0.7130 - val_accuracy: 0.7407 - val_precision: 0.8182\n",
      "Epoch 32/100\n",
      "11/11 [==============================] - 0s 14ms/step - loss: 0.7940 - accuracy: 0.6667 - precision: 0.7500 - val_loss: 0.7273 - val_accuracy: 0.7160 - val_precision: 0.8246\n",
      "Epoch 33/100\n",
      "11/11 [==============================] - 0s 13ms/step - loss: 0.7931 - accuracy: 0.6812 - precision: 0.7551 - val_loss: 0.6827 - val_accuracy: 0.7531 - val_precision: 0.8305\n",
      "Epoch 34/100\n",
      "11/11 [==============================] - 0s 39ms/step - loss: 0.8196 - accuracy: 0.6290 - precision: 0.7156 - val_loss: 0.7243 - val_accuracy: 0.7407 - val_precision: 0.8302\n",
      "Epoch 35/100\n",
      "11/11 [==============================] - 0s 38ms/step - loss: 0.8092 - accuracy: 0.6435 - precision: 0.7455 - val_loss: 0.6850 - val_accuracy: 0.7531 - val_precision: 0.8421\n",
      "Epoch 36/100\n",
      "11/11 [==============================] - 0s 35ms/step - loss: 0.7443 - accuracy: 0.7072 - precision: 0.7839 - val_loss: 0.6845 - val_accuracy: 0.7284 - val_precision: 0.8276\n",
      "Epoch 37/100\n",
      "11/11 [==============================] - 0s 44ms/step - loss: 0.7432 - accuracy: 0.6609 - precision: 0.7613 - val_loss: 0.6583 - val_accuracy: 0.7531 - val_precision: 0.8246\n",
      "Epoch 38/100\n",
      "11/11 [==============================] - 0s 37ms/step - loss: 0.7434 - accuracy: 0.6870 - precision: 0.7388 - val_loss: 0.6303 - val_accuracy: 0.7654 - val_precision: 0.8361\n",
      "Epoch 39/100\n",
      "11/11 [==============================] - 0s 42ms/step - loss: 0.7948 - accuracy: 0.6870 - precision: 0.7414 - val_loss: 0.6702 - val_accuracy: 0.7778 - val_precision: 0.8246\n",
      "Epoch 40/100\n",
      "11/11 [==============================] - 0s 41ms/step - loss: 0.7517 - accuracy: 0.7014 - precision: 0.7982 - val_loss: 0.6264 - val_accuracy: 0.7778 - val_precision: 0.8167\n",
      "Epoch 41/100\n",
      "11/11 [==============================] - 0s 29ms/step - loss: 0.6966 - accuracy: 0.7159 - precision: 0.7992 - val_loss: 0.6005 - val_accuracy: 0.7778 - val_precision: 0.8769\n",
      "Epoch 42/100\n",
      "11/11 [==============================] - 0s 27ms/step - loss: 0.7361 - accuracy: 0.6725 - precision: 0.7549 - val_loss: 0.6271 - val_accuracy: 0.7654 - val_precision: 0.8125\n",
      "Epoch 43/100\n",
      "11/11 [==============================] - 0s 32ms/step - loss: 0.6852 - accuracy: 0.7043 - precision: 0.8105 - val_loss: 0.5819 - val_accuracy: 0.7778 - val_precision: 0.8438\n",
      "Epoch 44/100\n",
      "11/11 [==============================] - 0s 24ms/step - loss: 0.6793 - accuracy: 0.7159 - precision: 0.7536 - val_loss: 0.6114 - val_accuracy: 0.7778 - val_precision: 0.8116\n"
     ]
    },
    {
     "name": "stdout",
     "output_type": "stream",
     "text": [
      "Epoch 45/100\n",
      "11/11 [==============================] - 0s 31ms/step - loss: 0.6296 - accuracy: 0.7478 - precision: 0.7944 - val_loss: 0.5396 - val_accuracy: 0.7901 - val_precision: 0.8261\n",
      "Epoch 46/100\n",
      "11/11 [==============================] - 0s 24ms/step - loss: 0.6260 - accuracy: 0.7565 - precision: 0.8007 - val_loss: 0.5730 - val_accuracy: 0.7654 - val_precision: 0.7778\n",
      "Epoch 47/100\n",
      "11/11 [==============================] - 0s 28ms/step - loss: 0.6739 - accuracy: 0.7507 - precision: 0.7978 - val_loss: 0.5632 - val_accuracy: 0.7778 - val_precision: 0.8116\n",
      "Epoch 48/100\n",
      "11/11 [==============================] - 0s 19ms/step - loss: 0.6488 - accuracy: 0.7594 - precision: 0.8043 - val_loss: 0.5116 - val_accuracy: 0.7901 - val_precision: 0.8243\n",
      "Epoch 49/100\n",
      "11/11 [==============================] - 0s 13ms/step - loss: 0.6563 - accuracy: 0.7507 - precision: 0.8104 - val_loss: 0.5601 - val_accuracy: 0.8272 - val_precision: 0.8261\n",
      "Epoch 50/100\n",
      "11/11 [==============================] - 0s 13ms/step - loss: 0.6140 - accuracy: 0.7710 - precision: 0.8556 - val_loss: 0.5539 - val_accuracy: 0.8025 - val_precision: 0.8333\n",
      "Epoch 51/100\n",
      "11/11 [==============================] - 0s 12ms/step - loss: 0.6134 - accuracy: 0.7710 - precision: 0.8297 - val_loss: 0.5044 - val_accuracy: 0.8272 - val_precision: 0.8429\n",
      "Epoch 52/100\n",
      "11/11 [==============================] - 0s 13ms/step - loss: 0.5725 - accuracy: 0.7710 - precision: 0.8138 - val_loss: 0.4902 - val_accuracy: 0.8519 - val_precision: 0.8630\n",
      "Epoch 53/100\n",
      "11/11 [==============================] - 0s 13ms/step - loss: 0.5919 - accuracy: 0.7565 - precision: 0.7993 - val_loss: 0.4785 - val_accuracy: 0.8272 - val_precision: 0.8421\n",
      "Epoch 54/100\n",
      "11/11 [==============================] - 0s 14ms/step - loss: 0.5900 - accuracy: 0.7710 - precision: 0.8261 - val_loss: 0.4822 - val_accuracy: 0.8272 - val_precision: 0.8243\n",
      "Epoch 55/100\n",
      "11/11 [==============================] - 0s 15ms/step - loss: 0.5903 - accuracy: 0.7855 - precision: 0.8294 - val_loss: 0.5397 - val_accuracy: 0.7654 - val_precision: 0.8026\n",
      "Epoch 56/100\n",
      "11/11 [==============================] - 0s 13ms/step - loss: 0.5319 - accuracy: 0.8145 - precision: 0.8464 - val_loss: 0.4840 - val_accuracy: 0.8148 - val_precision: 0.8400\n",
      "Epoch 57/100\n",
      "11/11 [==============================] - 0s 14ms/step - loss: 0.5615 - accuracy: 0.7971 - precision: 0.8247 - val_loss: 0.5007 - val_accuracy: 0.7901 - val_precision: 0.8219\n",
      "Epoch 58/100\n",
      "11/11 [==============================] - 0s 15ms/step - loss: 0.5128 - accuracy: 0.8000 - precision: 0.8621 - val_loss: 0.5321 - val_accuracy: 0.8025 - val_precision: 0.8228\n",
      "Epoch 59/100\n",
      "11/11 [==============================] - 0s 24ms/step - loss: 0.5353 - accuracy: 0.8000 - precision: 0.8462 - val_loss: 0.5115 - val_accuracy: 0.8395 - val_precision: 0.8714\n",
      "Epoch 60/100\n",
      "11/11 [==============================] - 0s 39ms/step - loss: 0.5375 - accuracy: 0.8116 - precision: 0.8655 - val_loss: 0.5051 - val_accuracy: 0.8272 - val_precision: 0.8442\n",
      "Epoch 61/100\n",
      "11/11 [==============================] - 0s 30ms/step - loss: 0.5029 - accuracy: 0.8058 - precision: 0.8459 - val_loss: 0.4308 - val_accuracy: 0.8395 - val_precision: 0.8701\n",
      "Epoch 62/100\n",
      "11/11 [==============================] - 0s 31ms/step - loss: 0.5287 - accuracy: 0.8058 - precision: 0.8294 - val_loss: 0.5077 - val_accuracy: 0.8272 - val_precision: 0.8533\n",
      "Epoch 63/100\n",
      "11/11 [==============================] - 0s 40ms/step - loss: 0.4728 - accuracy: 0.8377 - precision: 0.8675 - val_loss: 0.4686 - val_accuracy: 0.8395 - val_precision: 0.8481\n",
      "Epoch 64/100\n",
      "11/11 [==============================] - 0s 22ms/step - loss: 0.4681 - accuracy: 0.8261 - precision: 0.8576 - val_loss: 0.4358 - val_accuracy: 0.8395 - val_precision: 0.8684\n",
      "Epoch 65/100\n",
      "11/11 [==============================] - 0s 14ms/step - loss: 0.4228 - accuracy: 0.8290 - precision: 0.8800 - val_loss: 0.4268 - val_accuracy: 0.8642 - val_precision: 0.8718\n",
      "Epoch 66/100\n",
      "11/11 [==============================] - 0s 36ms/step - loss: 0.4352 - accuracy: 0.8580 - precision: 0.8818 - val_loss: 0.4211 - val_accuracy: 0.8519 - val_precision: 0.8625\n",
      "Epoch 67/100\n",
      "11/11 [==============================] - 0s 30ms/step - loss: 0.4777 - accuracy: 0.8609 - precision: 0.8824 - val_loss: 0.4525 - val_accuracy: 0.8519 - val_precision: 0.8816\n",
      "Epoch 68/100\n",
      "11/11 [==============================] - 0s 19ms/step - loss: 0.4565 - accuracy: 0.8232 - precision: 0.8733 - val_loss: 0.4172 - val_accuracy: 0.8642 - val_precision: 0.8846\n",
      "Epoch 69/100\n",
      "11/11 [==============================] - 0s 14ms/step - loss: 0.4140 - accuracy: 0.8493 - precision: 0.8795 - val_loss: 0.4111 - val_accuracy: 0.8765 - val_precision: 0.8718\n",
      "Epoch 70/100\n",
      "11/11 [==============================] - 0s 16ms/step - loss: 0.4435 - accuracy: 0.8435 - precision: 0.8766 - val_loss: 0.4408 - val_accuracy: 0.8395 - val_precision: 0.8395\n",
      "Epoch 71/100\n",
      "11/11 [==============================] - 0s 12ms/step - loss: 0.4070 - accuracy: 0.8522 - precision: 0.9013 - val_loss: 0.4686 - val_accuracy: 0.8642 - val_precision: 0.8750\n",
      "Epoch 72/100\n",
      "11/11 [==============================] - 0s 12ms/step - loss: 0.3857 - accuracy: 0.8667 - precision: 0.8885 - val_loss: 0.4003 - val_accuracy: 0.8889 - val_precision: 0.8987\n",
      "Epoch 73/100\n",
      "11/11 [==============================] - 0s 12ms/step - loss: 0.3794 - accuracy: 0.8696 - precision: 0.9085 - val_loss: 0.3801 - val_accuracy: 0.8889 - val_precision: 0.8875\n",
      "Epoch 74/100\n",
      "11/11 [==============================] - 0s 13ms/step - loss: 0.3882 - accuracy: 0.8551 - precision: 0.8899 - val_loss: 0.4135 - val_accuracy: 0.8519 - val_precision: 0.8625\n",
      "Epoch 75/100\n",
      "11/11 [==============================] - 0s 14ms/step - loss: 0.3943 - accuracy: 0.8725 - precision: 0.9068 - val_loss: 0.4358 - val_accuracy: 0.8765 - val_precision: 0.8846\n",
      "Epoch 76/100\n",
      "11/11 [==============================] - 0s 12ms/step - loss: 0.3517 - accuracy: 0.8754 - precision: 0.9062 - val_loss: 0.3696 - val_accuracy: 0.8765 - val_precision: 0.8861\n",
      "Epoch 77/100\n",
      "11/11 [==============================] - 0s 14ms/step - loss: 0.3984 - accuracy: 0.8551 - precision: 0.8773 - val_loss: 0.4465 - val_accuracy: 0.8519 - val_precision: 0.8734\n",
      "Epoch 78/100\n",
      "11/11 [==============================] - 0s 14ms/step - loss: 0.3833 - accuracy: 0.8464 - precision: 0.8907 - val_loss: 0.3734 - val_accuracy: 0.8765 - val_precision: 0.8987\n",
      "Epoch 79/100\n",
      "11/11 [==============================] - 0s 12ms/step - loss: 0.3534 - accuracy: 0.8522 - precision: 0.8833 - val_loss: 0.3814 - val_accuracy: 0.8889 - val_precision: 0.8875\n",
      "Epoch 80/100\n",
      "11/11 [==============================] - 0s 11ms/step - loss: 0.4035 - accuracy: 0.8464 - precision: 0.8822 - val_loss: 0.4021 - val_accuracy: 0.8765 - val_precision: 0.8861\n",
      "Epoch 81/100\n",
      "11/11 [==============================] - 0s 16ms/step - loss: 0.3705 - accuracy: 0.8493 - precision: 0.8836 - val_loss: 0.3846 - val_accuracy: 0.8765 - val_precision: 0.8750\n",
      "Epoch 82/100\n",
      "11/11 [==============================] - 0s 13ms/step - loss: 0.3360 - accuracy: 0.8812 - precision: 0.9119 - val_loss: 0.3692 - val_accuracy: 0.9012 - val_precision: 0.9012\n",
      "Epoch 83/100\n",
      "11/11 [==============================] - 0s 15ms/step - loss: 0.2887 - accuracy: 0.8899 - precision: 0.9174 - val_loss: 0.3374 - val_accuracy: 0.9136 - val_precision: 0.9136\n",
      "Epoch 84/100\n",
      "11/11 [==============================] - 0s 14ms/step - loss: 0.3064 - accuracy: 0.8899 - precision: 0.9144 - val_loss: 0.4080 - val_accuracy: 0.8889 - val_precision: 0.8861\n",
      "Epoch 85/100\n",
      "11/11 [==============================] - 0s 13ms/step - loss: 0.3130 - accuracy: 0.8986 - precision: 0.9338 - val_loss: 0.4252 - val_accuracy: 0.8889 - val_precision: 0.8987\n",
      "Epoch 86/100\n",
      "11/11 [==============================] - 0s 14ms/step - loss: 0.3398 - accuracy: 0.8841 - precision: 0.9105 - val_loss: 0.4570 - val_accuracy: 0.8519 - val_precision: 0.8734\n",
      "Epoch 87/100\n",
      "11/11 [==============================] - 0s 12ms/step - loss: 0.2791 - accuracy: 0.8986 - precision: 0.9164 - val_loss: 0.3914 - val_accuracy: 0.9012 - val_precision: 0.8987\n",
      "Epoch 88/100\n",
      "11/11 [==============================] - 0s 11ms/step - loss: 0.3349 - accuracy: 0.8812 - precision: 0.9076 - val_loss: 0.4233 - val_accuracy: 0.8889 - val_precision: 0.9114\n"
     ]
    },
    {
     "name": "stdout",
     "output_type": "stream",
     "text": [
      "Epoch 89/100\n",
      "11/11 [==============================] - 0s 14ms/step - loss: 0.2910 - accuracy: 0.8870 - precision: 0.9167 - val_loss: 0.3591 - val_accuracy: 0.9259 - val_precision: 0.9259\n",
      "Epoch 90/100\n",
      "11/11 [==============================] - 0s 14ms/step - loss: 0.2610 - accuracy: 0.9014 - precision: 0.9224 - val_loss: 0.3664 - val_accuracy: 0.9136 - val_precision: 0.9136\n",
      "Epoch 91/100\n",
      "11/11 [==============================] - 0s 13ms/step - loss: 0.2562 - accuracy: 0.9014 - precision: 0.9266 - val_loss: 0.4003 - val_accuracy: 0.9012 - val_precision: 0.9012\n",
      "Epoch 92/100\n",
      "11/11 [==============================] - 0s 16ms/step - loss: 0.3092 - accuracy: 0.8841 - precision: 0.8969 - val_loss: 0.3349 - val_accuracy: 0.9136 - val_precision: 0.9241\n",
      "Epoch 93/100\n",
      "11/11 [==============================] - 0s 22ms/step - loss: 0.3040 - accuracy: 0.8841 - precision: 0.9167 - val_loss: 0.3747 - val_accuracy: 0.9012 - val_precision: 0.9012\n",
      "Epoch 94/100\n",
      "11/11 [==============================] - 0s 20ms/step - loss: 0.2848 - accuracy: 0.9101 - precision: 0.9352 - val_loss: 0.3514 - val_accuracy: 0.9136 - val_precision: 0.9367\n",
      "Epoch 95/100\n",
      "11/11 [==============================] - 0s 14ms/step - loss: 0.2960 - accuracy: 0.9130 - precision: 0.9273 - val_loss: 0.4375 - val_accuracy: 0.8889 - val_precision: 0.8889\n",
      "Epoch 96/100\n",
      "11/11 [==============================] - 0s 12ms/step - loss: 0.2609 - accuracy: 0.9101 - precision: 0.9192 - val_loss: 0.4902 - val_accuracy: 0.9012 - val_precision: 0.9000\n",
      "Epoch 97/100\n",
      "11/11 [==============================] - 0s 13ms/step - loss: 0.2688 - accuracy: 0.8870 - precision: 0.9036 - val_loss: 0.4978 - val_accuracy: 0.8642 - val_precision: 0.8625\n",
      "Epoch 98/100\n",
      "11/11 [==============================] - 0s 12ms/step - loss: 0.2924 - accuracy: 0.8928 - precision: 0.9268 - val_loss: 0.4800 - val_accuracy: 0.8889 - val_precision: 0.8889\n",
      "Epoch 99/100\n",
      "11/11 [==============================] - 0s 13ms/step - loss: 0.2455 - accuracy: 0.9101 - precision: 0.9187 - val_loss: 0.3845 - val_accuracy: 0.9012 - val_precision: 0.9241\n",
      "Epoch 100/100\n",
      "11/11 [==============================] - 0s 13ms/step - loss: 0.2097 - accuracy: 0.9304 - precision: 0.9313 - val_loss: 0.4581 - val_accuracy: 0.9012 - val_precision: 0.9012\n"
     ]
    }
   ],
   "source": [
    "nn_model = Sequential([\n",
    "    Dense(64, activation=\"relu\", input_shape=X_train[0].shape),\n",
    "    Dense(64, activation=\"relu\"),\n",
    "    Dropout(0.5),\n",
    "    \n",
    "    Dense(128, activation=\"relu\"),\n",
    "    Dense(128, activation=\"relu\"),\n",
    "    Dropout(0.8),\n",
    "    \n",
    "    Dense(3, activation=\"softmax\"),\n",
    "])\n",
    "\n",
    "nn_model.compile(optimizer='adam',\n",
    "                 loss=\"categorical_crossentropy\", \n",
    "                 metrics=[\n",
    "                     \"accuracy\",\n",
    "                     keras.metrics.Precision()\n",
    "                     ])\n",
    "\n",
    "nn_history = nn_model.fit(X_train, y_train, epochs=100\n",
    "            ,validation_data=(X_val, y_val))"
   ]
  },
  {
   "cell_type": "code",
   "execution_count": 28,
   "metadata": {},
   "outputs": [
    {
     "name": "stdout",
     "output_type": "stream",
     "text": [
      "2/2 [==============================] - 0s 5ms/step\n"
     ]
    }
   ],
   "source": [
    "y_pred_nn = np.argmax(nn_model.predict(X_test),axis=1)\n",
    "nn_model_acc = accuracy_score(y_test, y_pred_nn)\n",
    "nn_model_prec = precision_score(y_test, y_pred_nn, average=None)\n",
    "nn_model_f1 = f1_score(y_test, y_pred_nn, average=None)\n",
    "nn_model_recall = recall_score(y_test, y_pred_nn, average=None)"
   ]
  },
  {
   "cell_type": "code",
   "execution_count": 29,
   "metadata": {
    "scrolled": false
   },
   "outputs": [
    {
     "name": "stdout",
     "output_type": "stream",
     "text": [
      "lastes accuracy and loss\n",
      "train_loss : 0.2097, val_loss : 0.4581\n",
      "train_acc : 0.9304, val_acc : 0.9012\n"
     ]
    },
    {
     "data": {
      "image/png": "[encoded data removed]",
      "text/plain": [
       "<Figure size 1200x600 with 2 Axes>"
      ]
     },
     "metadata": {},
     "output_type": "display_data"
    }
   ],
   "source": [
    "plot_loss_accuracy(nn_history)"
   ]
  },
  {
   "cell_type": "markdown",
   "metadata": {},
   "source": [
    "### KNN"
   ]
  },
  {
   "cell_type": "code",
   "execution_count": 30,
   "metadata": {},
   "outputs": [
    {
     "data": {
      "text/plain": [
       "KNeighborsClassifier()"
      ]
     },
     "execution_count": 30,
     "metadata": {},
     "output_type": "execute_result"
    }
   ],
   "source": [
    "knn_model = KNeighborsClassifier(n_neighbors=5)\n",
    "knn_model.fit(X_train, y_train)"
   ]
  },
  {
   "cell_type": "code",
   "execution_count": 31,
   "metadata": {
    "scrolled": true
   },
   "outputs": [
    {
     "name": "stderr",
     "output_type": "stream",
     "text": [
      "C:\\Users\\tong_\\anaconda3\\lib\\site-packages\\sklearn\\neighbors\\_classification.py:228: FutureWarning: Unlike other reduction functions (e.g. `skew`, `kurtosis`), the default behavior of `mode` typically preserves the axis it acts along. In SciPy 1.11.0, this behavior will change: the default value of `keepdims` will become False, the `axis` over which the statistic is taken will be eliminated, and the value None will no longer be accepted. Set `keepdims` to True or False to avoid this warning.\n",
      "  mode, _ = stats.mode(_y[neigh_ind, k], axis=1)\n"
     ]
    }
   ],
   "source": [
    "y_pred_knn = np.argmax(knn_model.predict(X_test), axis=1)\n",
    "knn_model_acc = accuracy_score(y_test, y_pred_knn)\n",
    "knn_model_prec = precision_score(y_test, y_pred_knn, average=None)\n",
    "knn_model_f1 = f1_score(y_test, y_pred_knn, average=None)\n",
    "knn_model_recall = recall_score(y_test, y_pred_knn, average=None)"
   ]
  },
  {
   "cell_type": "markdown",
   "metadata": {},
   "source": [
    "## Ensemble"
   ]
  },
  {
   "cell_type": "markdown",
   "metadata": {},
   "source": [
    "### Random Forest"
   ]
  },
  {
   "cell_type": "code",
   "execution_count": 32,
   "metadata": {},
   "outputs": [
    {
     "data": {
      "text/plain": [
       "RandomForestClassifier(n_estimators=1000)"
      ]
     },
     "execution_count": 32,
     "metadata": {},
     "output_type": "execute_result"
    }
   ],
   "source": [
    "rfc_model = RandomForestClassifier(n_estimators=1000)\n",
    "rfc_model.fit(X_train, y_train)\n"
   ]
  },
  {
   "cell_type": "code",
   "execution_count": 33,
   "metadata": {},
   "outputs": [],
   "source": [
    "y_pred_rf = np.argmax(rfc_model.predict(X_test), axis=1)\n",
    "rfc_model_acc = accuracy_score(y_test, y_pred_rf)\n",
    "rfc_model_prec = precision_score(y_test, y_pred_rf, average=None)\n",
    "rfc_model_f1 = f1_score(y_test, y_pred_rf, average=None)\n",
    "rfc_model_recall = recall_score(y_test, y_pred_rf, average=None)"
   ]
  },
  {
   "cell_type": "markdown",
   "metadata": {},
   "source": [
    "### AdaBoost"
   ]
  },
  {
   "cell_type": "code",
   "execution_count": 34,
   "metadata": {},
   "outputs": [
    {
     "data": {
      "text/plain": [
       "AdaBoostClassifier(base_estimator=DecisionTreeClassifier(), n_estimators=1000)"
      ]
     },
     "execution_count": 34,
     "metadata": {},
     "output_type": "execute_result"
    }
   ],
   "source": [
    "ada_model = AdaBoostClassifier(DecisionTreeClassifier(), n_estimators=1000)\n",
    "ada_model.fit(X_train, np.argmax(y_train, axis=1))"
   ]
  },
  {
   "cell_type": "code",
   "execution_count": 35,
   "metadata": {},
   "outputs": [],
   "source": [
    "y_pred_ada =  ada_model.predict(X_test)\n",
    "ada_model_acc = accuracy_score(y_test, y_pred_ada)\n",
    "ada_model_prec = precision_score(y_test, y_pred_ada, average=None)\n",
    "ada_model_f1 = f1_score(y_test, y_pred_ada, average=None)\n",
    "ada_model_recall = recall_score(y_test, y_pred_ada, average=None)"
   ]
  },
  {
   "cell_type": "markdown",
   "metadata": {},
   "source": [
    "### Bagging"
   ]
  },
  {
   "cell_type": "code",
   "execution_count": 36,
   "metadata": {},
   "outputs": [
    {
     "data": {
      "text/plain": [
       "BaggingClassifier(base_estimator=SVC(), n_estimators=1000)"
      ]
     },
     "execution_count": 36,
     "metadata": {},
     "output_type": "execute_result"
    }
   ],
   "source": [
    "bag_model = BaggingClassifier(SVC(), n_estimators=1000)\n",
    "bag_model.fit(X_train,  np.argmax(y_train,axis=1))"
   ]
  },
  {
   "cell_type": "code",
   "execution_count": 37,
   "metadata": {},
   "outputs": [],
   "source": [
    "y_pred_bag =  bag_model.predict(X_test)\n",
    "bag_model_acc = accuracy_score(y_test, y_pred_bag)\n",
    "bag_model_prec = precision_score(y_test, y_pred_bag, average=None)\n",
    "bag_model_f1 = f1_score(y_test, y_pred_bag, average=None)\n",
    "bag_model_recall = recall_score(y_test, y_pred_bag, average=None)"
   ]
  },
  {
   "cell_type": "markdown",
   "metadata": {},
   "source": [
    "---"
   ]
  },
  {
   "cell_type": "markdown",
   "metadata": {},
   "source": [
    "# Visualisation"
   ]
  },
  {
   "cell_type": "markdown",
   "metadata": {},
   "source": [
    "## Confusion Matrix"
   ]
  },
  {
   "cell_type": "code",
   "execution_count": 38,
   "metadata": {
    "scrolled": false
   },
   "outputs": [
    {
     "name": "stdout",
     "output_type": "stream",
     "text": [
      "2/2 [==============================] - 0s 5ms/step\n"
     ]
    },
    {
     "data": {
      "image/png": "[encoded data removed]",
      "text/plain": [
       "<Figure size 500x500 with 2 Axes>"
      ]
     },
     "metadata": {},
     "output_type": "display_data"
    }
   ],
   "source": [
    "create_confusion_matrix(nn_model,X_test,keras.utils.to_categorical(y_test,3),n_name)"
   ]
  },
  {
   "cell_type": "code",
   "execution_count": 39,
   "metadata": {
    "scrolled": false
   },
   "outputs": [
    {
     "name": "stderr",
     "output_type": "stream",
     "text": [
      "C:\\Users\\tong_\\anaconda3\\lib\\site-packages\\sklearn\\neighbors\\_classification.py:228: FutureWarning: Unlike other reduction functions (e.g. `skew`, `kurtosis`), the default behavior of `mode` typically preserves the axis it acts along. In SciPy 1.11.0, this behavior will change: the default value of `keepdims` will become False, the `axis` over which the statistic is taken will be eliminated, and the value None will no longer be accepted. Set `keepdims` to True or False to avoid this warning.\n",
      "  mode, _ = stats.mode(_y[neigh_ind, k], axis=1)\n"
     ]
    },
    {
     "data": {
      "image/png": "[encoded data removed]",
      "text/plain": [
       "<Figure size 500x500 with 2 Axes>"
      ]
     },
     "metadata": {},
     "output_type": "display_data"
    }
   ],
   "source": [
    "create_confusion_matrix(knn_model,X_test,keras.utils.to_categorical(y_test,3),n_name)"
   ]
  },
  {
   "cell_type": "code",
   "execution_count": 40,
   "metadata": {
    "scrolled": false
   },
   "outputs": [
    {
     "data": {
      "image/png": "[encoded data removed]",
      "text/plain": [
       "<Figure size 500x500 with 2 Axes>"
      ]
     },
     "metadata": {},
     "output_type": "display_data"
    }
   ],
   "source": [
    "create_confusion_matrix(rfc_model,X_test,keras.utils.to_categorical(y_test,3),n_name)"
   ]
  },
  {
   "cell_type": "code",
   "execution_count": 41,
   "metadata": {
    "scrolled": false
   },
   "outputs": [
    {
     "data": {
      "image/png": "[encoded data removed]",
      "text/plain": [
       "<Figure size 500x500 with 2 Axes>"
      ]
     },
     "metadata": {},
     "output_type": "display_data"
    }
   ],
   "source": [
    "create_confusion_matrix(ada_model,X_test,y_test,n_name)"
   ]
  },
  {
   "cell_type": "code",
   "execution_count": 42,
   "metadata": {
    "scrolled": false
   },
   "outputs": [
    {
     "data": {
      "image/png": "[encoded data removed]",
      "text/plain": [
       "<Figure size 500x500 with 2 Axes>"
      ]
     },
     "metadata": {},
     "output_type": "display_data"
    }
   ],
   "source": [
    "create_confusion_matrix(bag_model,X_test,y_test,n_name)"
   ]
  },
  {
   "cell_type": "markdown",
   "metadata": {},
   "source": [
    "## Accuracy"
   ]
  },
  {
   "cell_type": "code",
   "execution_count": 71,
   "metadata": {
    "scrolled": false
   },
   "outputs": [
    {
     "name": "stdout",
     "output_type": "stream",
     "text": [
      "Model : Accuracy\n"
     ]
    },
    {
     "ename": "KeyError",
     "evalue": "'-10'",
     "output_type": "error",
     "traceback": [
      "\u001b[1;31m---------------------------------------------------------------------------\u001b[0m",
      "\u001b[1;31mKeyError\u001b[0m                                  Traceback (most recent call last)",
      "\u001b[1;32m~\\AppData\\Local\\Temp\\ipykernel_8624\\336716393.py\u001b[0m in \u001b[0;36m<module>\u001b[1;34m\u001b[0m\n\u001b[0;32m      4\u001b[0m \u001b[0mprint\u001b[0m\u001b[1;33m(\u001b[0m\u001b[1;34m\"Model : Accuracy\"\u001b[0m\u001b[1;33m)\u001b[0m\u001b[1;33m\u001b[0m\u001b[1;33m\u001b[0m\u001b[0m\n\u001b[0;32m      5\u001b[0m \u001b[1;32mfor\u001b[0m \u001b[0mi\u001b[0m \u001b[1;32min\u001b[0m \u001b[0mdf\u001b[0m\u001b[1;33m.\u001b[0m\u001b[0mvalues\u001b[0m\u001b[1;33m:\u001b[0m\u001b[1;33m\u001b[0m\u001b[1;33m\u001b[0m\u001b[0m\n\u001b[1;32m----> 6\u001b[1;33m     \u001b[0mprint\u001b[0m\u001b[1;33m(\u001b[0m\u001b[1;34m\"{-10:s} : {:.2f}\"\u001b[0m\u001b[1;33m.\u001b[0m\u001b[0mformat\u001b[0m\u001b[1;33m(\u001b[0m\u001b[0mi\u001b[0m\u001b[1;33m[\u001b[0m\u001b[1;36m0\u001b[0m\u001b[1;33m]\u001b[0m\u001b[1;33m,\u001b[0m\u001b[0mi\u001b[0m\u001b[1;33m[\u001b[0m\u001b[1;36m1\u001b[0m\u001b[1;33m]\u001b[0m\u001b[1;33m)\u001b[0m\u001b[1;33m)\u001b[0m\u001b[1;33m\u001b[0m\u001b[1;33m\u001b[0m\u001b[0m\n\u001b[0m",
      "\u001b[1;31mKeyError\u001b[0m: '-10'"
     ]
    },
    {
     "data": {
      "image/png": "[encoded data removed]",
      "text/plain": [
       "<Figure size 640x480 with 1 Axes>"
      ]
     },
     "metadata": {},
     "output_type": "display_data"
    }
   ],
   "source": [
    "df = pd.DataFrame({'Models':['Neural Network', 'KNN', 'Random Forest', \"AdaBoost\", \"Bagging\"], 'Accuracy':[nn_model_acc, knn_model_acc, rfc_model_acc, ada_model_acc, bag_model_acc]})\n",
    "ax = df.plot.bar(x='Models', y='Accuracy', rot=0, ylim=(0, 1), title=\"Accuracy Comparison Between Models\")\n",
    "\n",
    "print(\"Model : Accuracy\")\n",
    "for i in df.values:\n",
    "    print(\"{-10:s} : {:.2f}\".format(i[0],i[1]))"
   ]
  },
  {
   "cell_type": "markdown",
   "metadata": {},
   "source": [
    "## Precision"
   ]
  },
  {
   "cell_type": "code",
   "execution_count": 48,
   "metadata": {
    "scrolled": false
   },
   "outputs": [
    {
     "data": {
      "image/png": "[encoded data removed]",
      "text/plain": [
       "<Figure size 640x480 with 1 Axes>"
      ]
     },
     "metadata": {},
     "output_type": "display_data"
    }
   ],
   "source": [
    "precs = [nn_model_prec, knn_model_prec, rfc_model_prec, ada_model_prec, bag_model_prec]\n",
    "ind = np.arange(len(precs))\n",
    "width = 0.25\n",
    "\n",
    "class_0 = [nn_model_prec[0], knn_model_prec[0], rfc_model_prec[0], ada_model_prec[0], bag_model_prec[0]]\n",
    "bar1 = plt.bar(ind, class_0, width, color = 'blue')\n",
    "  \n",
    "class_1 = [nn_model_prec[1], knn_model_prec[1], rfc_model_prec[1], ada_model_prec[1], bag_model_prec[1]]\n",
    "bar2 = plt.bar(ind+width, class_1, width, color='g')\n",
    "  \n",
    "class_2 = [nn_model_prec[2], knn_model_prec[2], rfc_model_prec[2], ada_model_prec[2], bag_model_prec[2]]\n",
    "bar3 = plt.bar(ind+width*2, class_2, width, color = 'orange')\n",
    "  \n",
    "plt.xlabel(\"Models\")\n",
    "plt.ylabel('Precision')\n",
    "plt.title(\"Precision Comparison between Models\")\n",
    "plt.ylim((0, 1))\n",
    "\n",
    "for index, value in enumerate(precs):\n",
    "    for i,v in enumerate(value):\n",
    "        plt.text(x=index + (0.25*i), y=v+0.01, s=\"{:.2f}\".format(v), ha='center')\n",
    "\n",
    "plt.xticks(ind+width,['Neural Network', 'KNN', 'Random Forest', \"AdaBoost\", \"Bagging\"])\n",
    "plt.legend( (bar1, bar2, bar3), (\"lived\", \"died\", \"euthanized\") )\n",
    "plt.show()"
   ]
  },
  {
   "cell_type": "markdown",
   "metadata": {},
   "source": [
    "## F1"
   ]
  },
  {
   "cell_type": "code",
   "execution_count": 49,
   "metadata": {
    "scrolled": false
   },
   "outputs": [
    {
     "data": {
      "image/png": "[encoded data removed]",
      "text/plain": [
       "<Figure size 640x480 with 1 Axes>"
      ]
     },
     "metadata": {},
     "output_type": "display_data"
    }
   ],
   "source": [
    "f1 = [nn_model_f1, knn_model_f1, rfc_model_f1, ada_model_f1, bag_model_f1]\n",
    "ind = np.arange(len(f1))\n",
    "width = 0.25\n",
    "\n",
    "class_0 = [nn_model_f1[0], knn_model_f1[0], rfc_model_f1[0], ada_model_f1[0], bag_model_f1[0]]\n",
    "bar1 = plt.bar(ind, class_0, width, color = 'blue')\n",
    "  \n",
    "class_1 = [nn_model_f1[1], knn_model_f1[1], rfc_model_f1[1], ada_model_f1[1], bag_model_f1[1]]\n",
    "bar2 = plt.bar(ind+width, class_1, width, color='g')\n",
    "  \n",
    "class_2 = [nn_model_f1[2], knn_model_f1[2], rfc_model_f1[2], ada_model_f1[2], bag_model_f1[2]]\n",
    "bar3 = plt.bar(ind+width*2, class_2, width, color = 'orange')\n",
    "  \n",
    "plt.xlabel(\"Models\")\n",
    "plt.ylabel('F1')\n",
    "plt.title(\"F1 Comparison between Models\")\n",
    "plt.ylim((0, 1))\n",
    "\n",
    "for index, value in enumerate(f1):\n",
    "    for i,v in enumerate(value):\n",
    "        plt.text(x=index + (0.25*i), y=v+0.01, s=\"{:.2f}\".format(v), ha='center')\n",
    "\n",
    "plt.xticks(ind+width,['Neural Network', 'KNN', 'Random Forest', \"AdaBoost\", \"Bagging\"])\n",
    "plt.legend( (bar1, bar2, bar3), (\"lived\", \"died\", \"euthanized\") )\n",
    "plt.show()"
   ]
  },
  {
   "cell_type": "markdown",
   "metadata": {},
   "source": [
    "## Recall"
   ]
  },
  {
   "cell_type": "code",
   "execution_count": 50,
   "metadata": {
    "scrolled": false
   },
   "outputs": [
    {
     "data": {
      "image/png": "[encoded data removed]",
      "text/plain": [
       "<Figure size 640x480 with 1 Axes>"
      ]
     },
     "metadata": {},
     "output_type": "display_data"
    }
   ],
   "source": [
    "recall = [nn_model_recall, knn_model_recall, rfc_model_recall, ada_model_recall, bag_model_recall]\n",
    "ind = np.arange(len(recall))\n",
    "width = 0.25\n",
    "\n",
    "class_0 = [nn_model_recall[0], knn_model_recall[0], rfc_model_recall[0], ada_model_recall[0], bag_model_recall[0]]\n",
    "bar1 = plt.bar(ind, class_0, width, color = 'blue')\n",
    "  \n",
    "class_1 = [nn_model_recall[1], knn_model_recall[1], rfc_model_recall[1], ada_model_recall[1], bag_model_recall[1]]\n",
    "bar2 = plt.bar(ind+width, class_1, width, color='g')\n",
    "  \n",
    "class_2 = [nn_model_recall[2], knn_model_recall[2], rfc_model_recall[2], ada_model_recall[2], bag_model_recall[2]]\n",
    "bar3 = plt.bar(ind+width*2, class_2, width, color = 'orange')\n",
    "  \n",
    "plt.xlabel(\"Models\")\n",
    "plt.ylabel('Recall')\n",
    "plt.title(\"Recall Comparison between Models\")\n",
    "plt.ylim((0, 1))\n",
    "  \n",
    "for index, value in enumerate(recall):\n",
    "    for i,v in enumerate(value):\n",
    "        plt.text(x=index + (0.25*i), y=v+0.01, s=\"{:.2f}\".format(v), ha='center')\n",
    "    \n",
    "plt.xticks(ind+width,['Neural Network', 'KNN', 'Random Forest', \"AdaBoost\", \"Bagging\"])\n",
    "plt.legend( (bar1, bar2, bar3), (\"lived\", \"died\", \"euthanized\") )\n",
    "plt.show()"
   ]
  },
  {
   "cell_type": "markdown",
   "metadata": {},
   "source": [
    "---"
   ]
  }
 ],
 "metadata": {
  "kernelspec": {
   "display_name": "Python 3 (ipykernel)",
   "language": "python",
   "name": "python3"
  },
  "language_info": {
   "codemirror_mode": {
    "name": "ipython",
    "version": 3
   },
   "file_extension": ".py",
   "mimetype": "text/x-python",
   "name": "python",
   "nbconvert_exporter": "python",
   "pygments_lexer": "ipython3",
   "version": "3.9.13"
  }
 },
 "nbformat": 4,
 "nbformat_minor": 2
}
